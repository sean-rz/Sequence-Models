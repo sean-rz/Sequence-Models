{
 "cells": [
  {
   "cell_type": "markdown",
   "metadata": {},
   "source": [
    "# Improvise a Jazz Solo with an LSTM Network\n",
    "\n",
    "Welcome to your final programming assignment of this week! In this notebook, you will implement a model that uses an LSTM to generate music. You will even be able to listen to your own music at the end of the assignment. \n",
    "\n",
    "**You will learn to:**\n",
    "- Apply an LSTM to music generation.\n",
    "- Generate your own jazz music with deep learning.\n",
    "\n",
    "Please run the following cell to load all the packages required in this assignment. This may take a few minutes. "
   ]
  },
  {
   "cell_type": "code",
   "execution_count": 1,
   "metadata": {},
   "outputs": [
    {
     "name": "stderr",
     "output_type": "stream",
     "text": [
      "Using TensorFlow backend.\n"
     ]
    }
   ],
   "source": [
    "from __future__ import print_function\n",
    "import IPython\n",
    "import sys\n",
    "from music21 import *\n",
    "import numpy as np\n",
    "from grammar import *\n",
    "from qa import *\n",
    "from preprocess import * \n",
    "from music_utils import *\n",
    "from data_utils import *\n",
    "from keras.models import load_model, Model\n",
    "from keras.layers import Dense, Activation, Dropout, Input, LSTM, Reshape, Lambda, RepeatVector\n",
    "from keras.initializers import glorot_uniform\n",
    "from keras.utils import to_categorical\n",
    "from keras.optimizers import Adam\n",
    "from keras import backend as K"
   ]
  },
  {
   "cell_type": "markdown",
   "metadata": {},
   "source": [
    "## 1 - Problem statement\n",
    "\n",
    "You would like to create a jazz music piece specially for a friend's birthday. However, you don't know any instruments or music composition. Fortunately, you know deep learning and will solve this problem using an LSTM netwok.  \n",
    "\n",
    "You will train a network to generate novel jazz solos in a style representative of a body of performed work.\n",
    "\n",
    "<img src=\"images/jazz.jpg\" style=\"width:450;height:300px;\">\n",
    "\n",
    "\n",
    "### 1.1 - Dataset\n",
    "\n",
    "You will train your algorithm on a corpus of Jazz music. Run the cell below to listen to a snippet of the audio from the training set:"
   ]
  },
  {
   "cell_type": "code",
   "execution_count": null,
   "metadata": {},
   "outputs": [],
   "source": [
    "IPython.display.Audio('./data/30s_seq.mp3')"
   ]
  },
  {
   "cell_type": "markdown",
   "metadata": {},
   "source": [
    "We have taken care of the preprocessing of the musical data to render it in terms of musical \"values.\" You can informally think of each \"value\" as a note, which comprises a pitch and a duration. For example, if you press down a specific piano key for 0.5 seconds, then you have just played a note. In music theory, a \"value\" is actually more complicated than this--specifically, it also captures the information needed to play multiple notes at the same time. For example, when playing a music piece, you might press down two piano keys at the same time (playng multiple notes at the same time generates what's called a \"chord\"). But we don't need to worry about the details of music theory for this assignment. For the purpose of this assignment, all you need to know is that we will obtain a dataset of values, and will learn an RNN model to generate sequences of values. \n",
    "\n",
    "Our music generation system will use 78 unique values. Run the following code to load the raw music data and preprocess it into values. This might take a few minutes."
   ]
  },
  {
   "cell_type": "code",
   "execution_count": 2,
   "metadata": {},
   "outputs": [
    {
     "name": "stdout",
     "output_type": "stream",
     "text": [
      "shape of X: (60, 30, 78)\n",
      "number of training examples: 60\n",
      "Tx (length of sequence): 30\n",
      "total # of unique values: 78\n",
      "Shape of Y: (30, 60, 78)\n"
     ]
    }
   ],
   "source": [
    "X, Y, n_values, indices_values = load_music_utils()\n",
    "print('shape of X:', X.shape)\n",
    "print('number of training examples:', X.shape[0])\n",
    "print('Tx (length of sequence):', X.shape[1])\n",
    "print('total # of unique values:', n_values)\n",
    "print('Shape of Y:', Y.shape)"
   ]
  },
  {
   "cell_type": "markdown",
   "metadata": {},
   "source": [
    "You have just loaded the following:\n",
    "\n",
    "- `X`: This is an (m, $T_x$, 78) dimensional array. We have m training examples, each of which is a snippet of $T_x =30$ musical values. At each time step, the input is one of 78 different possible values, represented as a one-hot vector. Thus for example, X[i,t,:] is a one-hot vector representating the value of the i-th example at time t. \n",
    "\n",
    "- `Y`: This is essentially the same as `X`, but shifted one step to the left (to the past). Similar to the dinosaurus assignment, we're interested in the network using the previous values to predict the next value, so our sequence model will try to predict $y^{\\langle t \\rangle}$ given $x^{\\langle 1\\rangle}, \\ldots, x^{\\langle t \\rangle}$. However, the data in `Y` is reordered to be dimension $(T_y, m, 78)$, where $T_y = T_x$. This format makes it more convenient to feed to the LSTM later. \n",
    "\n",
    "- `n_values`: The number of unique values in this dataset. This should be 78. \n",
    "\n",
    "- `indices_values`: python dictionary mapping from 0-77 to musical values."
   ]
  },
  {
   "cell_type": "markdown",
   "metadata": {},
   "source": [
    "### 1.2 - Overview of our model\n",
    "\n",
    "Here is the architecture of the model we will use. This is similar to the Dinosaurus model you had used in the previous notebook, except that in you will be implementing it in Keras. The architecture is as follows: \n",
    "\n",
    "<img src=\"images/music_generation.png\" style=\"width:600;height:400px;\">\n",
    "\n",
    "<!--\n",
    "<img src=\"images/djmodel.png\" style=\"width:600;height:400px;\">\n",
    "<br>\n",
    "<caption><center> **Figure 1**: LSTM model. $X = (x^{\\langle 1 \\rangle}, x^{\\langle 2 \\rangle}, ..., x^{\\langle T_x \\rangle})$ is a window of size $T_x$ scanned over the musical corpus. Each $x^{\\langle t \\rangle}$ is an index corresponding to a value (ex: \"A,0.250,< m2,P-4 >\") while $\\hat{y}$ is the prediction for the next value  </center></caption>\n",
    "!--> \n",
    "\n",
    "We will be training the model on random snippets of 30 values taken from a much longer piece of music. Thus, we won't bother to set the first input $x^{\\langle 1 \\rangle} = \\vec{0}$, which we had done previously to denote the start of a dinosaur name, since now most of these snippets of audio start somewhere in the middle of a piece of music. We are setting each of the snippts to have the same length $T_x = 30$ to make vectorization easier. \n"
   ]
  },
  {
   "cell_type": "markdown",
   "metadata": {},
   "source": [
    "## 2 - Building the model\n",
    "\n",
    "In this part you will build and train a model that will learn musical patterns. To do so, you will need to build a model that takes in X of shape $(m, T_x, 78)$ and Y of shape $(T_y, m, 78)$. We will use an LSTM with 64 dimensional hidden states. Lets set `n_a = 64`. \n"
   ]
  },
  {
   "cell_type": "code",
   "execution_count": 3,
   "metadata": {
    "collapsed": true
   },
   "outputs": [],
   "source": [
    "n_a = 64 "
   ]
  },
  {
   "cell_type": "markdown",
   "metadata": {},
   "source": [
    "\n",
    "Here's how you can create a Keras model with multiple inputs and outputs. If you're building an RNN where even at test time entire input sequence $x^{\\langle 1 \\rangle}, x^{\\langle 2 \\rangle}, \\ldots, x^{\\langle T_x \\rangle}$ were *given in advance*, for example if the inputs were words and the output was a label, then Keras has simple built-in functions to build the model. However, for sequence generation, at test time we don't know all the values of $x^{\\langle t\\rangle}$ in advance; instead we generate them one at a time using $x^{\\langle t\\rangle} = y^{\\langle t-1 \\rangle}$. So the code will be a bit more complicated, and you'll need to implement your own for-loop to iterate over the different time steps. \n",
    "\n",
    "The function `djmodel()` will call the LSTM layer $T_x$ times using a for-loop, and it is important that all $T_x$ copies have the same weights. I.e., it should not re-initiaiize the weights every time---the $T_x$ steps should have shared weights. The key steps for implementing layers with shareable weights in Keras are: \n",
    "1. Define the layer objects (we will use global variables for this).\n",
    "2. Call these objects when propagating the input.\n",
    "\n",
    "We have defined the layers objects you need as global variables. Please run the next cell to create them. Please check the Keras documentation to make sure you understand what these layers are: [Reshape()](https://keras.io/layers/core/#reshape), [LSTM()](https://keras.io/layers/recurrent/#lstm), [Dense()](https://keras.io/layers/core/#dense).\n"
   ]
  },
  {
   "cell_type": "code",
   "execution_count": 4,
   "metadata": {
    "collapsed": true
   },
   "outputs": [],
   "source": [
    "reshapor = Reshape((1, 78))                        # Used in Step 2.B of djmodel(), below\n",
    "LSTM_cell = LSTM(n_a, return_state = True)         # Used in Step 2.C\n",
    "densor = Dense(n_values, activation='softmax')     # Used in Step 2.D"
   ]
  },
  {
   "cell_type": "markdown",
   "metadata": {},
   "source": [
    "Each of `reshapor`, `LSTM_cell` and `densor` are now layer objects, and you can use them to implement `djmodel()`. In order to propagate a Keras tensor object X through one of these layers, use `layer_object(X)` (or `layer_object([X,Y])` if it requires multiple inputs.). For example, `reshapor(X)` will propagate X through the `Reshape((1,78))` layer defined above."
   ]
  },
  {
   "cell_type": "markdown",
   "metadata": {},
   "source": [
    " \n",
    "**Exercise**: Implement `djmodel()`. You will need to carry out 2 steps:\n",
    "\n",
    "1. Create an empty list \"outputs\" to save the outputs of the LSTM Cell at every time step.\n",
    "2. Loop for $t \\in 1, \\ldots, T_x$:\n",
    "\n",
    "    A. Select the \"t\"th time-step vector from X. The shape of this selection should be (78,). To do so, create a custom [Lambda](https://keras.io/layers/core/#lambda) layer in Keras by using this line of code:\n",
    "```    \n",
    "           x = Lambda(lambda x: X[:,t,:])(X)\n",
    "``` \n",
    "Look over the Keras documentation to figure out what this does. It is creating a \"temporary\" or \"unnamed\" function (that's what Lambda functions are) that extracts out the appropriate one-hot vector, and making this function a Keras `Layer` object to apply to `X`. \n",
    "\n",
    "    B. Reshape x to be (1,78). You may find the `reshapor()` layer (defined below) helpful.\n",
    "\n",
    "    C. Run x through one step of LSTM_cell. Remember to initialize the LSTM_cell with the previous step's hidden state $a$ and cell state $c$. Use the following formatting:\n",
    "```python\n",
    "a, _, c = LSTM_cell(input_x, initial_state=[previous hidden state, previous cell state])\n",
    "```\n",
    "\n",
    "    D. Propagate the LSTM's output activation value through a dense+softmax layer using `densor`. \n",
    "    \n",
    "    E. Append the predicted value to the list of \"outputs\"\n",
    " \n"
   ]
  },
  {
   "cell_type": "code",
   "execution_count": 5,
   "metadata": {
    "collapsed": true
   },
   "outputs": [],
   "source": [
    "# GRADED FUNCTION: djmodel\n",
    "\n",
    "def djmodel(Tx, n_a, n_values):\n",
    "    \"\"\"\n",
    "    Implement the model\n",
    "    \n",
    "    Arguments:\n",
    "    Tx -- length of the sequence in a corpus\n",
    "    n_a -- the number of activations used in our model\n",
    "    n_values -- number of unique values in the music data \n",
    "    \n",
    "    Returns:\n",
    "    model -- a keras model with the \n",
    "    \"\"\"\n",
    "    \n",
    "    # Define the input of your model with a shape \n",
    "    X = Input(shape=(Tx, n_values))\n",
    "    \n",
    "    # Define s0, initial hidden state for the decoder LSTM\n",
    "    a0 = Input(shape=(n_a,), name='a0')\n",
    "    c0 = Input(shape=(n_a,), name='c0')\n",
    "    a = a0\n",
    "    c = c0\n",
    "    \n",
    "    ### START CODE HERE ### \n",
    "    # Step 1: Create empty list to append the outputs while you iterate (≈1 line)\n",
    "    outputs = []\n",
    "    \n",
    "    # Step 2: Loop\n",
    "    for t in range(Tx):\n",
    "        \n",
    "        # Step 2.A: select the \"t\"th time step vector from X. \n",
    "        x = Lambda(lambda x: X[:,t,:])(X) # this function a Keras Layer object to apply to X to extract one-hot vec\n",
    "        # Step 2.B: Use reshapor to reshape x to be (1, n_values) (≈1 line)\n",
    "        x = reshapor(x)\n",
    "        # Step 2.C: Perform one step of the LSTM_cell\n",
    "        a, _, c = LSTM_cell(x, initial_state=[a, c])\n",
    "        # Step 2.D: Apply densor to the hidden state output of LSTM_Cell\n",
    "        out = densor(a)  # Propagate the LSTM's output activation value through a dense+softmax layer using densor\n",
    "        # Step 2.E: add the output to \"outputs\"\n",
    "        outputs.append(out)\n",
    "        \n",
    "    # Step 3: Create model instance\n",
    "    model = Model(inputs = [X, a0, c0], outputs=outputs)\n",
    "    \n",
    "    ### END CODE HERE ###\n",
    "    \n",
    "    return model"
   ]
  },
  {
   "cell_type": "markdown",
   "metadata": {},
   "source": [
    "Run the following cell to define your model. We will use `Tx=30`, `n_a=64` (the dimension of the LSTM activations), and `n_values=78`. This cell may take a few seconds to run. "
   ]
  },
  {
   "cell_type": "code",
   "execution_count": 6,
   "metadata": {
    "collapsed": true
   },
   "outputs": [],
   "source": [
    "model = djmodel(Tx = 30 , n_a = 64, n_values = 78)"
   ]
  },
  {
   "cell_type": "markdown",
   "metadata": {},
   "source": [
    "You now need to compile your model to be trained. We will Adam and a categorical cross-entropy loss."
   ]
  },
  {
   "cell_type": "code",
   "execution_count": 7,
   "metadata": {
    "collapsed": true
   },
   "outputs": [],
   "source": [
    "opt = Adam(lr=0.01, beta_1=0.9, beta_2=0.999, decay=0.01)\n",
    "\n",
    "model.compile(optimizer=opt, loss='categorical_crossentropy', metrics=['accuracy'])"
   ]
  },
  {
   "cell_type": "markdown",
   "metadata": {},
   "source": [
    "Finally, lets initialize `a0` and `c0` for the LSTM's initial state to be zero. "
   ]
  },
  {
   "cell_type": "code",
   "execution_count": 8,
   "metadata": {
    "collapsed": true,
    "scrolled": true
   },
   "outputs": [],
   "source": [
    "m = 60\n",
    "a0 = np.zeros((m, n_a))\n",
    "c0 = np.zeros((m, n_a))"
   ]
  },
  {
   "cell_type": "markdown",
   "metadata": {},
   "source": [
    "Lets now fit the model! We will turn `Y` to a list before doing so, since the cost function expects `Y` to be provided in this format (one list item per time-step). So `list(Y)` is a list with 30 items, where each of the list items is of shape (60,78). Lets train for 100 epochs. This will take a few minutes. \n",
    "\n"
   ]
  },
  {
   "cell_type": "code",
   "execution_count": 9,
   "metadata": {
    "scrolled": true
   },
   "outputs": [
    {
     "name": "stdout",
     "output_type": "stream",
     "text": [
      "Epoch 1/100\n",
      "60/60 [==============================] - 10s - loss: 125.8622 - dense_1_loss_1: 4.3545 - dense_1_loss_2: 4.3489 - dense_1_loss_3: 4.3422 - dense_1_loss_4: 4.3426 - dense_1_loss_5: 4.3427 - dense_1_loss_6: 4.3468 - dense_1_loss_7: 4.3448 - dense_1_loss_8: 4.3394 - dense_1_loss_9: 4.3442 - dense_1_loss_10: 4.3392 - dense_1_loss_11: 4.3407 - dense_1_loss_12: 4.3439 - dense_1_loss_13: 4.3395 - dense_1_loss_14: 4.3241 - dense_1_loss_15: 4.3392 - dense_1_loss_16: 4.3373 - dense_1_loss_17: 4.3435 - dense_1_loss_18: 4.3391 - dense_1_loss_19: 4.3326 - dense_1_loss_20: 4.3363 - dense_1_loss_21: 4.3432 - dense_1_loss_22: 4.3347 - dense_1_loss_23: 4.3395 - dense_1_loss_24: 4.3365 - dense_1_loss_25: 4.3351 - dense_1_loss_26: 4.3319 - dense_1_loss_27: 4.3412 - dense_1_loss_28: 4.3389 - dense_1_loss_29: 4.3400 - dense_1_loss_30: 0.0000e+00 - dense_1_acc_1: 0.0000e+00 - dense_1_acc_2: 0.0333 - dense_1_acc_3: 0.0500 - dense_1_acc_4: 0.0500 - dense_1_acc_5: 0.0500 - dense_1_acc_6: 0.0833 - dense_1_acc_7: 0.0167 - dense_1_acc_8: 0.0667 - dense_1_acc_9: 0.0500 - dense_1_acc_10: 0.0667 - dense_1_acc_11: 0.0500 - dense_1_acc_12: 0.0500 - dense_1_acc_13: 0.0500 - dense_1_acc_14: 0.1500 - dense_1_acc_15: 0.0833 - dense_1_acc_16: 0.0167 - dense_1_acc_17: 0.0833 - dense_1_acc_18: 0.0500 - dense_1_acc_19: 0.1167 - dense_1_acc_20: 0.0333 - dense_1_acc_21: 0.0167 - dense_1_acc_22: 0.0833 - dense_1_acc_23: 0.0500 - dense_1_acc_24: 0.0500 - dense_1_acc_25: 0.0500 - dense_1_acc_26: 0.0500 - dense_1_acc_27: 0.0500 - dense_1_acc_28: 0.0333 - dense_1_acc_29: 0.0833 - dense_1_acc_30: 0.0000e+00                                                                                                \n",
      "Epoch 2/100\n",
      "60/60 [==============================] - 1s - loss: 121.8400 - dense_1_loss_1: 4.3319 - dense_1_loss_2: 4.3053 - dense_1_loss_3: 4.2737 - dense_1_loss_4: 4.2740 - dense_1_loss_5: 4.2481 - dense_1_loss_6: 4.2640 - dense_1_loss_7: 4.2472 - dense_1_loss_8: 4.2153 - dense_1_loss_9: 4.2258 - dense_1_loss_10: 4.2131 - dense_1_loss_11: 4.1984 - dense_1_loss_12: 4.2389 - dense_1_loss_13: 4.1971 - dense_1_loss_14: 4.1781 - dense_1_loss_15: 4.1713 - dense_1_loss_16: 4.1728 - dense_1_loss_17: 4.1881 - dense_1_loss_18: 4.2202 - dense_1_loss_19: 4.1453 - dense_1_loss_20: 4.1840 - dense_1_loss_21: 4.1843 - dense_1_loss_22: 4.1500 - dense_1_loss_23: 4.1553 - dense_1_loss_24: 4.1630 - dense_1_loss_25: 4.1765 - dense_1_loss_26: 4.0857 - dense_1_loss_27: 4.1251 - dense_1_loss_28: 4.1254 - dense_1_loss_29: 4.1823 - dense_1_loss_30: 0.0000e+00 - dense_1_acc_1: 0.1000 - dense_1_acc_2: 0.1500 - dense_1_acc_3: 0.1333 - dense_1_acc_4: 0.1833 - dense_1_acc_5: 0.2500 - dense_1_acc_6: 0.1167 - dense_1_acc_7: 0.1500 - dense_1_acc_8: 0.1833 - dense_1_acc_9: 0.1500 - dense_1_acc_10: 0.2167 - dense_1_acc_11: 0.1667 - dense_1_acc_12: 0.1000 - dense_1_acc_13: 0.2000 - dense_1_acc_14: 0.1667 - dense_1_acc_15: 0.1333 - dense_1_acc_16: 0.1500 - dense_1_acc_17: 0.1667 - dense_1_acc_18: 0.1333 - dense_1_acc_19: 0.1667 - dense_1_acc_20: 0.1000 - dense_1_acc_21: 0.1000 - dense_1_acc_22: 0.1333 - dense_1_acc_23: 0.1333 - dense_1_acc_24: 0.1000 - dense_1_acc_25: 0.0167 - dense_1_acc_26: 0.1667 - dense_1_acc_27: 0.1000 - dense_1_acc_28: 0.1667 - dense_1_acc_29: 0.1000 - dense_1_acc_30: 0.0000e+00         \n",
      "Epoch 3/100\n",
      "60/60 [==============================] - 1s - loss: 115.8802 - dense_1_loss_1: 4.3090 - dense_1_loss_2: 4.2546 - dense_1_loss_3: 4.1840 - dense_1_loss_4: 4.1714 - dense_1_loss_5: 4.1114 - dense_1_loss_6: 4.1433 - dense_1_loss_7: 4.0836 - dense_1_loss_8: 3.9691 - dense_1_loss_9: 3.9569 - dense_1_loss_10: 3.8966 - dense_1_loss_11: 3.8692 - dense_1_loss_12: 4.0812 - dense_1_loss_13: 3.9146 - dense_1_loss_14: 3.9044 - dense_1_loss_15: 3.9235 - dense_1_loss_16: 3.8994 - dense_1_loss_17: 4.0155 - dense_1_loss_18: 4.0736 - dense_1_loss_19: 3.8604 - dense_1_loss_20: 4.0553 - dense_1_loss_21: 3.9684 - dense_1_loss_22: 3.9640 - dense_1_loss_23: 3.8715 - dense_1_loss_24: 3.8648 - dense_1_loss_25: 4.0763 - dense_1_loss_26: 3.6573 - dense_1_loss_27: 3.7805 - dense_1_loss_28: 3.9110 - dense_1_loss_29: 4.1095 - dense_1_loss_30: 0.0000e+00 - dense_1_acc_1: 0.1000 - dense_1_acc_2: 0.2000 - dense_1_acc_3: 0.1500 - dense_1_acc_4: 0.2000 - dense_1_acc_5: 0.2333 - dense_1_acc_6: 0.1167 - dense_1_acc_7: 0.1000 - dense_1_acc_8: 0.1333 - dense_1_acc_9: 0.1500 - dense_1_acc_10: 0.1000 - dense_1_acc_11: 0.1167 - dense_1_acc_12: 0.0333 - dense_1_acc_13: 0.0833 - dense_1_acc_14: 0.0833 - dense_1_acc_15: 0.0667 - dense_1_acc_16: 0.0833 - dense_1_acc_17: 0.1000 - dense_1_acc_18: 0.0167 - dense_1_acc_19: 0.1000 - dense_1_acc_20: 0.0667 - dense_1_acc_21: 0.0667 - dense_1_acc_22: 0.0500 - dense_1_acc_23: 0.0833 - dense_1_acc_24: 0.0833 - dense_1_acc_25: 0.0167 - dense_1_acc_26: 0.1167 - dense_1_acc_27: 0.0500 - dense_1_acc_28: 0.0667 - dense_1_acc_29: 0.0333 - dense_1_acc_30: 0.0000e+00         \n",
      "Epoch 4/100\n",
      "60/60 [==============================] - 1s - loss: 112.2876 - dense_1_loss_1: 4.2894 - dense_1_loss_2: 4.2102 - dense_1_loss_3: 4.0982 - dense_1_loss_4: 4.0863 - dense_1_loss_5: 3.9814 - dense_1_loss_6: 4.0279 - dense_1_loss_7: 3.9343 - dense_1_loss_8: 3.7209 - dense_1_loss_9: 3.8320 - dense_1_loss_10: 3.6893 - dense_1_loss_11: 3.7598 - dense_1_loss_12: 3.9985 - dense_1_loss_13: 3.7957 - dense_1_loss_14: 3.7007 - dense_1_loss_15: 3.7546 - dense_1_loss_16: 3.7879 - dense_1_loss_17: 3.8915 - dense_1_loss_18: 3.8579 - dense_1_loss_19: 3.7517 - dense_1_loss_20: 3.9375 - dense_1_loss_21: 3.9411 - dense_1_loss_22: 3.8041 - dense_1_loss_23: 3.8117 - dense_1_loss_24: 3.7080 - dense_1_loss_25: 3.9382 - dense_1_loss_26: 3.5189 - dense_1_loss_27: 3.6759 - dense_1_loss_28: 3.8330 - dense_1_loss_29: 3.9510 - dense_1_loss_30: 0.0000e+00 - dense_1_acc_1: 0.0667 - dense_1_acc_2: 0.1500 - dense_1_acc_3: 0.1667 - dense_1_acc_4: 0.1833 - dense_1_acc_5: 0.2333 - dense_1_acc_6: 0.1167 - dense_1_acc_7: 0.1167 - dense_1_acc_8: 0.2500 - dense_1_acc_9: 0.1667 - dense_1_acc_10: 0.1500 - dense_1_acc_11: 0.1667 - dense_1_acc_12: 0.1333 - dense_1_acc_13: 0.1833 - dense_1_acc_14: 0.2167 - dense_1_acc_15: 0.1333 - dense_1_acc_16: 0.1500 - dense_1_acc_17: 0.1833 - dense_1_acc_18: 0.1500 - dense_1_acc_19: 0.1667 - dense_1_acc_20: 0.1333 - dense_1_acc_21: 0.1167 - dense_1_acc_22: 0.0833 - dense_1_acc_23: 0.0833 - dense_1_acc_24: 0.1000 - dense_1_acc_25: 0.0500 - dense_1_acc_26: 0.1667 - dense_1_acc_27: 0.1167 - dense_1_acc_28: 0.1167 - dense_1_acc_29: 0.1000 - dense_1_acc_30: 0.0000e+00     \n",
      "Epoch 5/100\n",
      "60/60 [==============================] - 1s - loss: 109.7021 - dense_1_loss_1: 4.2739 - dense_1_loss_2: 4.1691 - dense_1_loss_3: 4.0315 - dense_1_loss_4: 4.0102 - dense_1_loss_5: 3.8805 - dense_1_loss_6: 3.9476 - dense_1_loss_7: 3.8845 - dense_1_loss_8: 3.6285 - dense_1_loss_9: 3.7791 - dense_1_loss_10: 3.5881 - dense_1_loss_11: 3.6788 - dense_1_loss_12: 3.8883 - dense_1_loss_13: 3.6905 - dense_1_loss_14: 3.5674 - dense_1_loss_15: 3.6722 - dense_1_loss_16: 3.6829 - dense_1_loss_17: 3.7782 - dense_1_loss_18: 3.7499 - dense_1_loss_19: 3.6050 - dense_1_loss_20: 3.8005 - dense_1_loss_21: 3.8900 - dense_1_loss_22: 3.6713 - dense_1_loss_23: 3.6906 - dense_1_loss_24: 3.6272 - dense_1_loss_25: 3.8517 - dense_1_loss_26: 3.4832 - dense_1_loss_27: 3.6696 - dense_1_loss_28: 3.7073 - dense_1_loss_29: 3.8045 - dense_1_loss_30: 0.0000e+00 - dense_1_acc_1: 0.0667 - dense_1_acc_2: 0.0667 - dense_1_acc_3: 0.1667 - dense_1_acc_4: 0.1833 - dense_1_acc_5: 0.2167 - dense_1_acc_6: 0.1000 - dense_1_acc_7: 0.1333 - dense_1_acc_8: 0.2167 - dense_1_acc_9: 0.1000 - dense_1_acc_10: 0.1667 - dense_1_acc_11: 0.1667 - dense_1_acc_12: 0.1500 - dense_1_acc_13: 0.2167 - dense_1_acc_14: 0.2333 - dense_1_acc_15: 0.1833 - dense_1_acc_16: 0.2000 - dense_1_acc_17: 0.1833 - dense_1_acc_18: 0.1333 - dense_1_acc_19: 0.2000 - dense_1_acc_20: 0.1167 - dense_1_acc_21: 0.0833 - dense_1_acc_22: 0.1833 - dense_1_acc_23: 0.1333 - dense_1_acc_24: 0.1500 - dense_1_acc_25: 0.1000 - dense_1_acc_26: 0.2333 - dense_1_acc_27: 0.1167 - dense_1_acc_28: 0.2333 - dense_1_acc_29: 0.1000 - dense_1_acc_30: 0.0000e+00     \n",
      "Epoch 6/100\n"
     ]
    },
    {
     "name": "stdout",
     "output_type": "stream",
     "text": [
      "60/60 [==============================] - 1s - loss: 108.0628 - dense_1_loss_1: 4.2583 - dense_1_loss_2: 4.1300 - dense_1_loss_3: 3.9570 - dense_1_loss_4: 3.9259 - dense_1_loss_5: 3.7879 - dense_1_loss_6: 3.8705 - dense_1_loss_7: 3.8141 - dense_1_loss_8: 3.5249 - dense_1_loss_9: 3.6885 - dense_1_loss_10: 3.4862 - dense_1_loss_11: 3.5677 - dense_1_loss_12: 3.7898 - dense_1_loss_13: 3.6021 - dense_1_loss_14: 3.4337 - dense_1_loss_15: 3.5848 - dense_1_loss_16: 3.5661 - dense_1_loss_17: 3.6178 - dense_1_loss_18: 3.7584 - dense_1_loss_19: 3.5704 - dense_1_loss_20: 3.7157 - dense_1_loss_21: 3.8636 - dense_1_loss_22: 3.6274 - dense_1_loss_23: 3.7723 - dense_1_loss_24: 3.6865 - dense_1_loss_25: 3.8249 - dense_1_loss_26: 3.4478 - dense_1_loss_27: 3.7169 - dense_1_loss_28: 3.6133 - dense_1_loss_29: 3.8603 - dense_1_loss_30: 0.0000e+00 - dense_1_acc_1: 0.0667 - dense_1_acc_2: 0.1000 - dense_1_acc_3: 0.1667 - dense_1_acc_4: 0.1667 - dense_1_acc_5: 0.2333 - dense_1_acc_6: 0.1000 - dense_1_acc_7: 0.0833 - dense_1_acc_8: 0.2167 - dense_1_acc_9: 0.1333 - dense_1_acc_10: 0.1333 - dense_1_acc_11: 0.1500 - dense_1_acc_12: 0.1333 - dense_1_acc_13: 0.1500 - dense_1_acc_14: 0.2000 - dense_1_acc_15: 0.1167 - dense_1_acc_16: 0.1833 - dense_1_acc_17: 0.1667 - dense_1_acc_18: 0.1000 - dense_1_acc_19: 0.1333 - dense_1_acc_20: 0.1167 - dense_1_acc_21: 0.1000 - dense_1_acc_22: 0.1000 - dense_1_acc_23: 0.0667 - dense_1_acc_24: 0.0833 - dense_1_acc_25: 0.0500 - dense_1_acc_26: 0.1500 - dense_1_acc_27: 0.1000 - dense_1_acc_28: 0.1333 - dense_1_acc_29: 0.1000 - dense_1_acc_30: 0.0000e+00     \n",
      "Epoch 7/100\n",
      "60/60 [==============================] - 1s - loss: 104.5646 - dense_1_loss_1: 4.2441 - dense_1_loss_2: 4.0955 - dense_1_loss_3: 3.8963 - dense_1_loss_4: 3.8489 - dense_1_loss_5: 3.6992 - dense_1_loss_6: 3.8047 - dense_1_loss_7: 3.7473 - dense_1_loss_8: 3.4154 - dense_1_loss_9: 3.5562 - dense_1_loss_10: 3.3351 - dense_1_loss_11: 3.4213 - dense_1_loss_12: 3.6128 - dense_1_loss_13: 3.4210 - dense_1_loss_14: 3.2939 - dense_1_loss_15: 3.4417 - dense_1_loss_16: 3.4717 - dense_1_loss_17: 3.4737 - dense_1_loss_18: 3.5988 - dense_1_loss_19: 3.3909 - dense_1_loss_20: 3.5945 - dense_1_loss_21: 3.7786 - dense_1_loss_22: 3.5066 - dense_1_loss_23: 3.5343 - dense_1_loss_24: 3.4996 - dense_1_loss_25: 3.7013 - dense_1_loss_26: 3.4084 - dense_1_loss_27: 3.6005 - dense_1_loss_28: 3.5042 - dense_1_loss_29: 3.6680 - dense_1_loss_30: 0.0000e+00 - dense_1_acc_1: 0.0667 - dense_1_acc_2: 0.1000 - dense_1_acc_3: 0.1667 - dense_1_acc_4: 0.2000 - dense_1_acc_5: 0.2000 - dense_1_acc_6: 0.0833 - dense_1_acc_7: 0.1333 - dense_1_acc_8: 0.1833 - dense_1_acc_9: 0.1167 - dense_1_acc_10: 0.1667 - dense_1_acc_11: 0.1667 - dense_1_acc_12: 0.1333 - dense_1_acc_13: 0.2000 - dense_1_acc_14: 0.2333 - dense_1_acc_15: 0.1500 - dense_1_acc_16: 0.1667 - dense_1_acc_17: 0.2167 - dense_1_acc_18: 0.1333 - dense_1_acc_19: 0.1667 - dense_1_acc_20: 0.1000 - dense_1_acc_21: 0.0500 - dense_1_acc_22: 0.1167 - dense_1_acc_23: 0.0500 - dense_1_acc_24: 0.0500 - dense_1_acc_25: 0.0667 - dense_1_acc_26: 0.1333 - dense_1_acc_27: 0.0333 - dense_1_acc_28: 0.1333 - dense_1_acc_29: 0.1167 - dense_1_acc_30: 0.0000e+00     \n",
      "Epoch 8/100\n",
      "60/60 [==============================] - 1s - loss: 101.2238 - dense_1_loss_1: 4.2297 - dense_1_loss_2: 4.0551 - dense_1_loss_3: 3.8313 - dense_1_loss_4: 3.7627 - dense_1_loss_5: 3.6086 - dense_1_loss_6: 3.7082 - dense_1_loss_7: 3.6485 - dense_1_loss_8: 3.2975 - dense_1_loss_9: 3.4253 - dense_1_loss_10: 3.2220 - dense_1_loss_11: 3.3193 - dense_1_loss_12: 3.5396 - dense_1_loss_13: 3.2868 - dense_1_loss_14: 3.1496 - dense_1_loss_15: 3.3273 - dense_1_loss_16: 3.3485 - dense_1_loss_17: 3.3067 - dense_1_loss_18: 3.5019 - dense_1_loss_19: 3.2776 - dense_1_loss_20: 3.4914 - dense_1_loss_21: 3.6308 - dense_1_loss_22: 3.4200 - dense_1_loss_23: 3.4229 - dense_1_loss_24: 3.3681 - dense_1_loss_25: 3.6022 - dense_1_loss_26: 3.1787 - dense_1_loss_27: 3.4467 - dense_1_loss_28: 3.3029 - dense_1_loss_29: 3.5139 - dense_1_loss_30: 0.0000e+00 - dense_1_acc_1: 0.0667 - dense_1_acc_2: 0.1333 - dense_1_acc_3: 0.1667 - dense_1_acc_4: 0.2000 - dense_1_acc_5: 0.2500 - dense_1_acc_6: 0.1167 - dense_1_acc_7: 0.1167 - dense_1_acc_8: 0.1833 - dense_1_acc_9: 0.1333 - dense_1_acc_10: 0.1167 - dense_1_acc_11: 0.1667 - dense_1_acc_12: 0.1167 - dense_1_acc_13: 0.1500 - dense_1_acc_14: 0.1500 - dense_1_acc_15: 0.1167 - dense_1_acc_16: 0.1500 - dense_1_acc_17: 0.2167 - dense_1_acc_18: 0.0833 - dense_1_acc_19: 0.1333 - dense_1_acc_20: 0.1333 - dense_1_acc_21: 0.1000 - dense_1_acc_22: 0.0667 - dense_1_acc_23: 0.1167 - dense_1_acc_24: 0.1167 - dense_1_acc_25: 0.1000 - dense_1_acc_26: 0.1833 - dense_1_acc_27: 0.0833 - dense_1_acc_28: 0.1667 - dense_1_acc_29: 0.1167 - dense_1_acc_30: 0.0000e+00         \n",
      "Epoch 9/100\n",
      "60/60 [==============================] - 1s - loss: 97.4309 - dense_1_loss_1: 4.2181 - dense_1_loss_2: 4.0192 - dense_1_loss_3: 3.7671 - dense_1_loss_4: 3.6917 - dense_1_loss_5: 3.5235 - dense_1_loss_6: 3.6152 - dense_1_loss_7: 3.5691 - dense_1_loss_8: 3.1774 - dense_1_loss_9: 3.3128 - dense_1_loss_10: 3.1240 - dense_1_loss_11: 3.2145 - dense_1_loss_12: 3.3623 - dense_1_loss_13: 3.0967 - dense_1_loss_14: 2.9873 - dense_1_loss_15: 3.1836 - dense_1_loss_16: 3.2646 - dense_1_loss_17: 3.2018 - dense_1_loss_18: 3.3234 - dense_1_loss_19: 3.1036 - dense_1_loss_20: 3.3415 - dense_1_loss_21: 3.4670 - dense_1_loss_22: 3.1987 - dense_1_loss_23: 3.2547 - dense_1_loss_24: 3.2628 - dense_1_loss_25: 3.4035 - dense_1_loss_26: 2.9922 - dense_1_loss_27: 3.2451 - dense_1_loss_28: 3.1459 - dense_1_loss_29: 3.3636 - dense_1_loss_30: 0.0000e+00 - dense_1_acc_1: 0.0667 - dense_1_acc_2: 0.1333 - dense_1_acc_3: 0.1833 - dense_1_acc_4: 0.2000 - dense_1_acc_5: 0.2667 - dense_1_acc_6: 0.1000 - dense_1_acc_7: 0.1167 - dense_1_acc_8: 0.1833 - dense_1_acc_9: 0.1000 - dense_1_acc_10: 0.1500 - dense_1_acc_11: 0.1667 - dense_1_acc_12: 0.1167 - dense_1_acc_13: 0.2333 - dense_1_acc_14: 0.2333 - dense_1_acc_15: 0.2000 - dense_1_acc_16: 0.1667 - dense_1_acc_17: 0.2000 - dense_1_acc_18: 0.1500 - dense_1_acc_19: 0.2167 - dense_1_acc_20: 0.1500 - dense_1_acc_21: 0.1333 - dense_1_acc_22: 0.2333 - dense_1_acc_23: 0.1667 - dense_1_acc_24: 0.1000 - dense_1_acc_25: 0.1333 - dense_1_acc_26: 0.3333 - dense_1_acc_27: 0.1667 - dense_1_acc_28: 0.2000 - dense_1_acc_29: 0.1667 - dense_1_acc_30: 0.0000e+00     \n",
      "Epoch 10/100\n",
      "60/60 [==============================] - 1s - loss: 94.5225 - dense_1_loss_1: 4.2067 - dense_1_loss_2: 3.9814 - dense_1_loss_3: 3.6964 - dense_1_loss_4: 3.6121 - dense_1_loss_5: 3.4197 - dense_1_loss_6: 3.5055 - dense_1_loss_7: 3.4572 - dense_1_loss_8: 3.0674 - dense_1_loss_9: 3.1828 - dense_1_loss_10: 2.9949 - dense_1_loss_11: 3.0806 - dense_1_loss_12: 3.2395 - dense_1_loss_13: 3.0032 - dense_1_loss_14: 2.8460 - dense_1_loss_15: 2.9926 - dense_1_loss_16: 3.1535 - dense_1_loss_17: 3.0725 - dense_1_loss_18: 3.2467 - dense_1_loss_19: 3.0652 - dense_1_loss_20: 3.2262 - dense_1_loss_21: 3.3770 - dense_1_loss_22: 3.1461 - dense_1_loss_23: 3.2028 - dense_1_loss_24: 3.1779 - dense_1_loss_25: 3.3036 - dense_1_loss_26: 2.8511 - dense_1_loss_27: 3.1589 - dense_1_loss_28: 3.0468 - dense_1_loss_29: 3.2082 - dense_1_loss_30: 0.0000e+00 - dense_1_acc_1: 0.0667 - dense_1_acc_2: 0.2000 - dense_1_acc_3: 0.1833 - dense_1_acc_4: 0.2000 - dense_1_acc_5: 0.2333 - dense_1_acc_6: 0.1000 - dense_1_acc_7: 0.1500 - dense_1_acc_8: 0.2333 - dense_1_acc_9: 0.1833 - dense_1_acc_10: 0.1667 - dense_1_acc_11: 0.2000 - dense_1_acc_12: 0.1500 - dense_1_acc_13: 0.2000 - dense_1_acc_14: 0.2500 - dense_1_acc_15: 0.1667 - dense_1_acc_16: 0.1333 - dense_1_acc_17: 0.2333 - dense_1_acc_18: 0.1667 - dense_1_acc_19: 0.1833 - dense_1_acc_20: 0.1667 - dense_1_acc_21: 0.1333 - dense_1_acc_22: 0.1833 - dense_1_acc_23: 0.1333 - dense_1_acc_24: 0.1167 - dense_1_acc_25: 0.1500 - dense_1_acc_26: 0.3167 - dense_1_acc_27: 0.1000 - dense_1_acc_28: 0.1500 - dense_1_acc_29: 0.2000 - dense_1_acc_30: 0.0000e+00     \n",
      "Epoch 11/100\n"
     ]
    },
    {
     "name": "stdout",
     "output_type": "stream",
     "text": [
      "60/60 [==============================] - 1s - loss: 90.0395 - dense_1_loss_1: 4.1981 - dense_1_loss_2: 3.9493 - dense_1_loss_3: 3.6361 - dense_1_loss_4: 3.5423 - dense_1_loss_5: 3.3359 - dense_1_loss_6: 3.3843 - dense_1_loss_7: 3.3391 - dense_1_loss_8: 2.9618 - dense_1_loss_9: 3.0680 - dense_1_loss_10: 2.8812 - dense_1_loss_11: 2.9806 - dense_1_loss_12: 3.0179 - dense_1_loss_13: 2.8106 - dense_1_loss_14: 2.6320 - dense_1_loss_15: 2.9519 - dense_1_loss_16: 2.9992 - dense_1_loss_17: 2.8692 - dense_1_loss_18: 3.0381 - dense_1_loss_19: 2.8033 - dense_1_loss_20: 3.0038 - dense_1_loss_21: 3.1196 - dense_1_loss_22: 2.8503 - dense_1_loss_23: 2.9684 - dense_1_loss_24: 3.0329 - dense_1_loss_25: 3.1430 - dense_1_loss_26: 2.6693 - dense_1_loss_27: 2.9856 - dense_1_loss_28: 2.8336 - dense_1_loss_29: 3.0339 - dense_1_loss_30: 0.0000e+00 - dense_1_acc_1: 0.0667 - dense_1_acc_2: 0.1667 - dense_1_acc_3: 0.2333 - dense_1_acc_4: 0.2000 - dense_1_acc_5: 0.2833 - dense_1_acc_6: 0.1167 - dense_1_acc_7: 0.1500 - dense_1_acc_8: 0.2167 - dense_1_acc_9: 0.1500 - dense_1_acc_10: 0.2333 - dense_1_acc_11: 0.2333 - dense_1_acc_12: 0.1500 - dense_1_acc_13: 0.2500 - dense_1_acc_14: 0.3333 - dense_1_acc_15: 0.2167 - dense_1_acc_16: 0.2333 - dense_1_acc_17: 0.2167 - dense_1_acc_18: 0.2000 - dense_1_acc_19: 0.3000 - dense_1_acc_20: 0.1667 - dense_1_acc_21: 0.1500 - dense_1_acc_22: 0.2333 - dense_1_acc_23: 0.1833 - dense_1_acc_24: 0.1333 - dense_1_acc_25: 0.1833 - dense_1_acc_26: 0.3500 - dense_1_acc_27: 0.1333 - dense_1_acc_28: 0.2333 - dense_1_acc_29: 0.1833 - dense_1_acc_30: 0.0000e+00     \n",
      "Epoch 12/100\n",
      "60/60 [==============================] - 1s - loss: 86.2720 - dense_1_loss_1: 4.1901 - dense_1_loss_2: 3.9161 - dense_1_loss_3: 3.5647 - dense_1_loss_4: 3.4648 - dense_1_loss_5: 3.2273 - dense_1_loss_6: 3.2483 - dense_1_loss_7: 3.1922 - dense_1_loss_8: 2.8024 - dense_1_loss_9: 2.9523 - dense_1_loss_10: 2.7761 - dense_1_loss_11: 2.9090 - dense_1_loss_12: 2.8914 - dense_1_loss_13: 2.7156 - dense_1_loss_14: 2.5618 - dense_1_loss_15: 2.7482 - dense_1_loss_16: 2.8621 - dense_1_loss_17: 2.7610 - dense_1_loss_18: 2.8869 - dense_1_loss_19: 2.6307 - dense_1_loss_20: 2.8342 - dense_1_loss_21: 2.9127 - dense_1_loss_22: 2.7060 - dense_1_loss_23: 2.7565 - dense_1_loss_24: 2.8165 - dense_1_loss_25: 2.9853 - dense_1_loss_26: 2.5158 - dense_1_loss_27: 2.7480 - dense_1_loss_28: 2.7295 - dense_1_loss_29: 2.9662 - dense_1_loss_30: 0.0000e+00 - dense_1_acc_1: 0.0667 - dense_1_acc_2: 0.1667 - dense_1_acc_3: 0.2333 - dense_1_acc_4: 0.2000 - dense_1_acc_5: 0.2833 - dense_1_acc_6: 0.1167 - dense_1_acc_7: 0.1667 - dense_1_acc_8: 0.2333 - dense_1_acc_9: 0.1500 - dense_1_acc_10: 0.2833 - dense_1_acc_11: 0.2167 - dense_1_acc_12: 0.1667 - dense_1_acc_13: 0.2500 - dense_1_acc_14: 0.3333 - dense_1_acc_15: 0.2333 - dense_1_acc_16: 0.2000 - dense_1_acc_17: 0.2167 - dense_1_acc_18: 0.1833 - dense_1_acc_19: 0.2333 - dense_1_acc_20: 0.2000 - dense_1_acc_21: 0.1667 - dense_1_acc_22: 0.2833 - dense_1_acc_23: 0.2667 - dense_1_acc_24: 0.1667 - dense_1_acc_25: 0.1500 - dense_1_acc_26: 0.3167 - dense_1_acc_27: 0.2333 - dense_1_acc_28: 0.2500 - dense_1_acc_29: 0.1833 - dense_1_acc_30: 0.0000e+00     \n",
      "Epoch 13/100\n",
      "60/60 [==============================] - 1s - loss: 82.7602 - dense_1_loss_1: 4.1805 - dense_1_loss_2: 3.8824 - dense_1_loss_3: 3.4910 - dense_1_loss_4: 3.3753 - dense_1_loss_5: 3.1067 - dense_1_loss_6: 3.1000 - dense_1_loss_7: 3.0415 - dense_1_loss_8: 2.6538 - dense_1_loss_9: 2.8020 - dense_1_loss_10: 2.6405 - dense_1_loss_11: 2.7663 - dense_1_loss_12: 2.7249 - dense_1_loss_13: 2.5401 - dense_1_loss_14: 2.4254 - dense_1_loss_15: 2.5610 - dense_1_loss_16: 2.7117 - dense_1_loss_17: 2.5919 - dense_1_loss_18: 2.7814 - dense_1_loss_19: 2.5511 - dense_1_loss_20: 2.7071 - dense_1_loss_21: 2.8078 - dense_1_loss_22: 2.6429 - dense_1_loss_23: 2.6490 - dense_1_loss_24: 2.6544 - dense_1_loss_25: 2.8288 - dense_1_loss_26: 2.4495 - dense_1_loss_27: 2.6943 - dense_1_loss_28: 2.6494 - dense_1_loss_29: 2.7495 - dense_1_loss_30: 0.0000e+00 - dense_1_acc_1: 0.0667 - dense_1_acc_2: 0.1833 - dense_1_acc_3: 0.2167 - dense_1_acc_4: 0.2000 - dense_1_acc_5: 0.3000 - dense_1_acc_6: 0.1333 - dense_1_acc_7: 0.1833 - dense_1_acc_8: 0.3000 - dense_1_acc_9: 0.1500 - dense_1_acc_10: 0.2500 - dense_1_acc_11: 0.2167 - dense_1_acc_12: 0.2167 - dense_1_acc_13: 0.3500 - dense_1_acc_14: 0.3500 - dense_1_acc_15: 0.2333 - dense_1_acc_16: 0.2333 - dense_1_acc_17: 0.2333 - dense_1_acc_18: 0.1500 - dense_1_acc_19: 0.2833 - dense_1_acc_20: 0.2167 - dense_1_acc_21: 0.2333 - dense_1_acc_22: 0.2667 - dense_1_acc_23: 0.2333 - dense_1_acc_24: 0.2167 - dense_1_acc_25: 0.1833 - dense_1_acc_26: 0.3667 - dense_1_acc_27: 0.2167 - dense_1_acc_28: 0.2667 - dense_1_acc_29: 0.1667 - dense_1_acc_30: 0.0000e+00     \n",
      "Epoch 14/100\n",
      "60/60 [==============================] - 1s - loss: 78.5994 - dense_1_loss_1: 4.1730 - dense_1_loss_2: 3.8456 - dense_1_loss_3: 3.4133 - dense_1_loss_4: 3.2712 - dense_1_loss_5: 2.9697 - dense_1_loss_6: 2.9541 - dense_1_loss_7: 2.9178 - dense_1_loss_8: 2.4980 - dense_1_loss_9: 2.6377 - dense_1_loss_10: 2.4584 - dense_1_loss_11: 2.6400 - dense_1_loss_12: 2.5399 - dense_1_loss_13: 2.4243 - dense_1_loss_14: 2.3167 - dense_1_loss_15: 2.4381 - dense_1_loss_16: 2.5198 - dense_1_loss_17: 2.3236 - dense_1_loss_18: 2.6223 - dense_1_loss_19: 2.4180 - dense_1_loss_20: 2.4718 - dense_1_loss_21: 2.5781 - dense_1_loss_22: 2.4440 - dense_1_loss_23: 2.4845 - dense_1_loss_24: 2.5264 - dense_1_loss_25: 2.7430 - dense_1_loss_26: 2.3231 - dense_1_loss_27: 2.6198 - dense_1_loss_28: 2.4689 - dense_1_loss_29: 2.5585 - dense_1_loss_30: 0.0000e+00 - dense_1_acc_1: 0.0667 - dense_1_acc_2: 0.1833 - dense_1_acc_3: 0.2333 - dense_1_acc_4: 0.2000 - dense_1_acc_5: 0.3000 - dense_1_acc_6: 0.1500 - dense_1_acc_7: 0.2500 - dense_1_acc_8: 0.3167 - dense_1_acc_9: 0.2167 - dense_1_acc_10: 0.3167 - dense_1_acc_11: 0.2500 - dense_1_acc_12: 0.2667 - dense_1_acc_13: 0.3167 - dense_1_acc_14: 0.3333 - dense_1_acc_15: 0.2833 - dense_1_acc_16: 0.2333 - dense_1_acc_17: 0.3000 - dense_1_acc_18: 0.2500 - dense_1_acc_19: 0.2833 - dense_1_acc_20: 0.2667 - dense_1_acc_21: 0.3000 - dense_1_acc_22: 0.2667 - dense_1_acc_23: 0.2333 - dense_1_acc_24: 0.2500 - dense_1_acc_25: 0.1667 - dense_1_acc_26: 0.4000 - dense_1_acc_27: 0.2000 - dense_1_acc_28: 0.2333 - dense_1_acc_29: 0.2167 - dense_1_acc_30: 0.0000e+00     \n",
      "Epoch 15/100\n",
      "60/60 [==============================] - 1s - loss: 75.3017 - dense_1_loss_1: 4.1654 - dense_1_loss_2: 3.8108 - dense_1_loss_3: 3.3392 - dense_1_loss_4: 3.1765 - dense_1_loss_5: 2.8491 - dense_1_loss_6: 2.8278 - dense_1_loss_7: 2.7915 - dense_1_loss_8: 2.3922 - dense_1_loss_9: 2.5607 - dense_1_loss_10: 2.3800 - dense_1_loss_11: 2.5798 - dense_1_loss_12: 2.4559 - dense_1_loss_13: 2.3434 - dense_1_loss_14: 2.2654 - dense_1_loss_15: 2.3529 - dense_1_loss_16: 2.4588 - dense_1_loss_17: 2.2512 - dense_1_loss_18: 2.5075 - dense_1_loss_19: 2.2950 - dense_1_loss_20: 2.3593 - dense_1_loss_21: 2.3878 - dense_1_loss_22: 2.2706 - dense_1_loss_23: 2.3459 - dense_1_loss_24: 2.3887 - dense_1_loss_25: 2.5468 - dense_1_loss_26: 2.1194 - dense_1_loss_27: 2.4009 - dense_1_loss_28: 2.2891 - dense_1_loss_29: 2.3902 - dense_1_loss_30: 0.0000e+00 - dense_1_acc_1: 0.0667 - dense_1_acc_2: 0.1833 - dense_1_acc_3: 0.2667 - dense_1_acc_4: 0.2000 - dense_1_acc_5: 0.3333 - dense_1_acc_6: 0.1667 - dense_1_acc_7: 0.2333 - dense_1_acc_8: 0.4167 - dense_1_acc_9: 0.2833 - dense_1_acc_10: 0.3833 - dense_1_acc_11: 0.2667 - dense_1_acc_12: 0.2500 - dense_1_acc_13: 0.3833 - dense_1_acc_14: 0.4000 - dense_1_acc_15: 0.3000 - dense_1_acc_16: 0.2500 - dense_1_acc_17: 0.4000 - dense_1_acc_18: 0.3167 - dense_1_acc_19: 0.3667 - dense_1_acc_20: 0.2667 - dense_1_acc_21: 0.3333 - dense_1_acc_22: 0.2667 - dense_1_acc_23: 0.3333 - dense_1_acc_24: 0.3167 - dense_1_acc_25: 0.2000 - dense_1_acc_26: 0.4167 - dense_1_acc_27: 0.3000 - dense_1_acc_28: 0.3500 - dense_1_acc_29: 0.3500 - dense_1_acc_30: 0.0000e+00     \n",
      "Epoch 16/100\n"
     ]
    },
    {
     "name": "stdout",
     "output_type": "stream",
     "text": [
      "60/60 [==============================] - 1s - loss: 71.8748 - dense_1_loss_1: 4.1567 - dense_1_loss_2: 3.7727 - dense_1_loss_3: 3.2586 - dense_1_loss_4: 3.0658 - dense_1_loss_5: 2.7277 - dense_1_loss_6: 2.7071 - dense_1_loss_7: 2.6746 - dense_1_loss_8: 2.2810 - dense_1_loss_9: 2.4287 - dense_1_loss_10: 2.2756 - dense_1_loss_11: 2.4485 - dense_1_loss_12: 2.3091 - dense_1_loss_13: 2.2097 - dense_1_loss_14: 2.1406 - dense_1_loss_15: 2.2365 - dense_1_loss_16: 2.3716 - dense_1_loss_17: 2.1133 - dense_1_loss_18: 2.3543 - dense_1_loss_19: 2.1972 - dense_1_loss_20: 2.2241 - dense_1_loss_21: 2.2792 - dense_1_loss_22: 2.0822 - dense_1_loss_23: 2.2343 - dense_1_loss_24: 2.2885 - dense_1_loss_25: 2.4306 - dense_1_loss_26: 2.0026 - dense_1_loss_27: 2.2700 - dense_1_loss_28: 2.1321 - dense_1_loss_29: 2.2018 - dense_1_loss_30: 0.0000e+00 - dense_1_acc_1: 0.0667 - dense_1_acc_2: 0.1833 - dense_1_acc_3: 0.2667 - dense_1_acc_4: 0.2333 - dense_1_acc_5: 0.3333 - dense_1_acc_6: 0.1833 - dense_1_acc_7: 0.3000 - dense_1_acc_8: 0.4333 - dense_1_acc_9: 0.3333 - dense_1_acc_10: 0.3833 - dense_1_acc_11: 0.3333 - dense_1_acc_12: 0.3333 - dense_1_acc_13: 0.4333 - dense_1_acc_14: 0.4500 - dense_1_acc_15: 0.4000 - dense_1_acc_16: 0.2667 - dense_1_acc_17: 0.4500 - dense_1_acc_18: 0.3167 - dense_1_acc_19: 0.4167 - dense_1_acc_20: 0.3333 - dense_1_acc_21: 0.3500 - dense_1_acc_22: 0.3167 - dense_1_acc_23: 0.3333 - dense_1_acc_24: 0.2833 - dense_1_acc_25: 0.2000 - dense_1_acc_26: 0.5500 - dense_1_acc_27: 0.3500 - dense_1_acc_28: 0.4333 - dense_1_acc_29: 0.5000 - dense_1_acc_30: 0.0000e+00     \n",
      "Epoch 17/100\n",
      "60/60 [==============================] - 1s - loss: 68.4796 - dense_1_loss_1: 4.1480 - dense_1_loss_2: 3.7305 - dense_1_loss_3: 3.1737 - dense_1_loss_4: 2.9539 - dense_1_loss_5: 2.5884 - dense_1_loss_6: 2.5748 - dense_1_loss_7: 2.5500 - dense_1_loss_8: 2.1398 - dense_1_loss_9: 2.2834 - dense_1_loss_10: 2.1624 - dense_1_loss_11: 2.2939 - dense_1_loss_12: 2.1546 - dense_1_loss_13: 2.0598 - dense_1_loss_14: 1.9660 - dense_1_loss_15: 2.0927 - dense_1_loss_16: 2.2279 - dense_1_loss_17: 1.9653 - dense_1_loss_18: 2.2506 - dense_1_loss_19: 2.1023 - dense_1_loss_20: 2.0862 - dense_1_loss_21: 2.1989 - dense_1_loss_22: 1.9535 - dense_1_loss_23: 2.1264 - dense_1_loss_24: 2.1511 - dense_1_loss_25: 2.2918 - dense_1_loss_26: 1.9402 - dense_1_loss_27: 2.2349 - dense_1_loss_28: 1.9982 - dense_1_loss_29: 2.0804 - dense_1_loss_30: 0.0000e+00 - dense_1_acc_1: 0.0667 - dense_1_acc_2: 0.1833 - dense_1_acc_3: 0.2667 - dense_1_acc_4: 0.2333 - dense_1_acc_5: 0.3833 - dense_1_acc_6: 0.2500 - dense_1_acc_7: 0.3333 - dense_1_acc_8: 0.5000 - dense_1_acc_9: 0.3333 - dense_1_acc_10: 0.3500 - dense_1_acc_11: 0.3667 - dense_1_acc_12: 0.3833 - dense_1_acc_13: 0.4500 - dense_1_acc_14: 0.4667 - dense_1_acc_15: 0.4833 - dense_1_acc_16: 0.3167 - dense_1_acc_17: 0.5333 - dense_1_acc_18: 0.3333 - dense_1_acc_19: 0.4000 - dense_1_acc_20: 0.4333 - dense_1_acc_21: 0.3833 - dense_1_acc_22: 0.3667 - dense_1_acc_23: 0.4167 - dense_1_acc_24: 0.3167 - dense_1_acc_25: 0.2333 - dense_1_acc_26: 0.5167 - dense_1_acc_27: 0.3333 - dense_1_acc_28: 0.4333 - dense_1_acc_29: 0.5500 - dense_1_acc_30: 0.0000e+00     \n",
      "Epoch 18/100\n",
      "60/60 [==============================] - 1s - loss: 64.9382 - dense_1_loss_1: 4.1380 - dense_1_loss_2: 3.6838 - dense_1_loss_3: 3.0872 - dense_1_loss_4: 2.8348 - dense_1_loss_5: 2.4509 - dense_1_loss_6: 2.4332 - dense_1_loss_7: 2.3902 - dense_1_loss_8: 2.0140 - dense_1_loss_9: 2.1326 - dense_1_loss_10: 2.0128 - dense_1_loss_11: 2.1764 - dense_1_loss_12: 2.0413 - dense_1_loss_13: 1.9266 - dense_1_loss_14: 1.8566 - dense_1_loss_15: 1.9877 - dense_1_loss_16: 2.0824 - dense_1_loss_17: 1.8290 - dense_1_loss_18: 2.0660 - dense_1_loss_19: 1.9716 - dense_1_loss_20: 1.9229 - dense_1_loss_21: 2.0286 - dense_1_loss_22: 1.8702 - dense_1_loss_23: 1.9626 - dense_1_loss_24: 2.0559 - dense_1_loss_25: 2.1827 - dense_1_loss_26: 1.8289 - dense_1_loss_27: 2.0662 - dense_1_loss_28: 1.8921 - dense_1_loss_29: 2.0128 - dense_1_loss_30: 0.0000e+00 - dense_1_acc_1: 0.0667 - dense_1_acc_2: 0.2167 - dense_1_acc_3: 0.2667 - dense_1_acc_4: 0.2500 - dense_1_acc_5: 0.3833 - dense_1_acc_6: 0.2667 - dense_1_acc_7: 0.3333 - dense_1_acc_8: 0.5000 - dense_1_acc_9: 0.4333 - dense_1_acc_10: 0.4000 - dense_1_acc_11: 0.3500 - dense_1_acc_12: 0.4000 - dense_1_acc_13: 0.5000 - dense_1_acc_14: 0.4667 - dense_1_acc_15: 0.4500 - dense_1_acc_16: 0.3833 - dense_1_acc_17: 0.5333 - dense_1_acc_18: 0.3833 - dense_1_acc_19: 0.4667 - dense_1_acc_20: 0.4333 - dense_1_acc_21: 0.4167 - dense_1_acc_22: 0.4000 - dense_1_acc_23: 0.4000 - dense_1_acc_24: 0.3333 - dense_1_acc_25: 0.3000 - dense_1_acc_26: 0.5333 - dense_1_acc_27: 0.3667 - dense_1_acc_28: 0.4333 - dense_1_acc_29: 0.4667 - dense_1_acc_30: 0.0000e+00     \n",
      "Epoch 19/100\n",
      "60/60 [==============================] - 1s - loss: 61.8163 - dense_1_loss_1: 4.1275 - dense_1_loss_2: 3.6374 - dense_1_loss_3: 2.9994 - dense_1_loss_4: 2.7205 - dense_1_loss_5: 2.3371 - dense_1_loss_6: 2.3173 - dense_1_loss_7: 2.2702 - dense_1_loss_8: 1.8974 - dense_1_loss_9: 2.0076 - dense_1_loss_10: 1.9299 - dense_1_loss_11: 2.0780 - dense_1_loss_12: 1.9202 - dense_1_loss_13: 1.8051 - dense_1_loss_14: 1.7945 - dense_1_loss_15: 1.8732 - dense_1_loss_16: 1.9684 - dense_1_loss_17: 1.7289 - dense_1_loss_18: 1.9751 - dense_1_loss_19: 1.8346 - dense_1_loss_20: 1.8031 - dense_1_loss_21: 1.9021 - dense_1_loss_22: 1.7843 - dense_1_loss_23: 1.8277 - dense_1_loss_24: 1.9187 - dense_1_loss_25: 2.0299 - dense_1_loss_26: 1.7080 - dense_1_loss_27: 1.9242 - dense_1_loss_28: 1.7429 - dense_1_loss_29: 1.9531 - dense_1_loss_30: 0.0000e+00 - dense_1_acc_1: 0.0667 - dense_1_acc_2: 0.2500 - dense_1_acc_3: 0.3167 - dense_1_acc_4: 0.2500 - dense_1_acc_5: 0.4500 - dense_1_acc_6: 0.3167 - dense_1_acc_7: 0.3333 - dense_1_acc_8: 0.5500 - dense_1_acc_9: 0.4833 - dense_1_acc_10: 0.4167 - dense_1_acc_11: 0.3500 - dense_1_acc_12: 0.4000 - dense_1_acc_13: 0.5333 - dense_1_acc_14: 0.4500 - dense_1_acc_15: 0.4167 - dense_1_acc_16: 0.4000 - dense_1_acc_17: 0.6167 - dense_1_acc_18: 0.4000 - dense_1_acc_19: 0.4500 - dense_1_acc_20: 0.4833 - dense_1_acc_21: 0.4000 - dense_1_acc_22: 0.4333 - dense_1_acc_23: 0.4500 - dense_1_acc_24: 0.3667 - dense_1_acc_25: 0.3500 - dense_1_acc_26: 0.5667 - dense_1_acc_27: 0.4500 - dense_1_acc_28: 0.5500 - dense_1_acc_29: 0.4333 - dense_1_acc_30: 0.0000e+00     \n",
      "Epoch 20/100\n",
      "60/60 [==============================] - 1s - loss: 58.4643 - dense_1_loss_1: 4.1179 - dense_1_loss_2: 3.5890 - dense_1_loss_3: 2.9057 - dense_1_loss_4: 2.6012 - dense_1_loss_5: 2.2313 - dense_1_loss_6: 2.2132 - dense_1_loss_7: 2.1692 - dense_1_loss_8: 1.7719 - dense_1_loss_9: 1.8850 - dense_1_loss_10: 1.7938 - dense_1_loss_11: 1.9200 - dense_1_loss_12: 1.7824 - dense_1_loss_13: 1.6562 - dense_1_loss_14: 1.6923 - dense_1_loss_15: 1.7137 - dense_1_loss_16: 1.8377 - dense_1_loss_17: 1.5660 - dense_1_loss_18: 1.8488 - dense_1_loss_19: 1.7378 - dense_1_loss_20: 1.6790 - dense_1_loss_21: 1.8023 - dense_1_loss_22: 1.6707 - dense_1_loss_23: 1.7180 - dense_1_loss_24: 1.7547 - dense_1_loss_25: 1.8915 - dense_1_loss_26: 1.6011 - dense_1_loss_27: 1.8553 - dense_1_loss_28: 1.6439 - dense_1_loss_29: 1.8146 - dense_1_loss_30: 0.0000e+00 - dense_1_acc_1: 0.0667 - dense_1_acc_2: 0.2833 - dense_1_acc_3: 0.3500 - dense_1_acc_4: 0.2667 - dense_1_acc_5: 0.4000 - dense_1_acc_6: 0.4000 - dense_1_acc_7: 0.4000 - dense_1_acc_8: 0.5500 - dense_1_acc_9: 0.4833 - dense_1_acc_10: 0.4333 - dense_1_acc_11: 0.4667 - dense_1_acc_12: 0.4667 - dense_1_acc_13: 0.5833 - dense_1_acc_14: 0.4667 - dense_1_acc_15: 0.5333 - dense_1_acc_16: 0.4000 - dense_1_acc_17: 0.6000 - dense_1_acc_18: 0.4167 - dense_1_acc_19: 0.4167 - dense_1_acc_20: 0.5000 - dense_1_acc_21: 0.4333 - dense_1_acc_22: 0.4167 - dense_1_acc_23: 0.5000 - dense_1_acc_24: 0.4167 - dense_1_acc_25: 0.3833 - dense_1_acc_26: 0.6167 - dense_1_acc_27: 0.4167 - dense_1_acc_28: 0.5667 - dense_1_acc_29: 0.5167 - dense_1_acc_30: 0.0000e+00     \n",
      "Epoch 21/100\n"
     ]
    },
    {
     "name": "stdout",
     "output_type": "stream",
     "text": [
      "60/60 [==============================] - 1s - loss: 55.3348 - dense_1_loss_1: 4.1093 - dense_1_loss_2: 3.5401 - dense_1_loss_3: 2.8162 - dense_1_loss_4: 2.4733 - dense_1_loss_5: 2.1240 - dense_1_loss_6: 2.0818 - dense_1_loss_7: 2.0210 - dense_1_loss_8: 1.6637 - dense_1_loss_9: 1.7768 - dense_1_loss_10: 1.6805 - dense_1_loss_11: 1.8125 - dense_1_loss_12: 1.6619 - dense_1_loss_13: 1.5436 - dense_1_loss_14: 1.5582 - dense_1_loss_15: 1.5998 - dense_1_loss_16: 1.7467 - dense_1_loss_17: 1.5144 - dense_1_loss_18: 1.6823 - dense_1_loss_19: 1.5875 - dense_1_loss_20: 1.6122 - dense_1_loss_21: 1.6930 - dense_1_loss_22: 1.5639 - dense_1_loss_23: 1.5802 - dense_1_loss_24: 1.6449 - dense_1_loss_25: 1.7903 - dense_1_loss_26: 1.5298 - dense_1_loss_27: 1.7368 - dense_1_loss_28: 1.5355 - dense_1_loss_29: 1.6548 - dense_1_loss_30: 0.0000e+00 - dense_1_acc_1: 0.0667 - dense_1_acc_2: 0.2833 - dense_1_acc_3: 0.4000 - dense_1_acc_4: 0.2833 - dense_1_acc_5: 0.4333 - dense_1_acc_6: 0.4833 - dense_1_acc_7: 0.4500 - dense_1_acc_8: 0.5667 - dense_1_acc_9: 0.5667 - dense_1_acc_10: 0.5333 - dense_1_acc_11: 0.4167 - dense_1_acc_12: 0.4833 - dense_1_acc_13: 0.5833 - dense_1_acc_14: 0.5833 - dense_1_acc_15: 0.5667 - dense_1_acc_16: 0.5167 - dense_1_acc_17: 0.6500 - dense_1_acc_18: 0.5167 - dense_1_acc_19: 0.6000 - dense_1_acc_20: 0.5500 - dense_1_acc_21: 0.4833 - dense_1_acc_22: 0.5833 - dense_1_acc_23: 0.5667 - dense_1_acc_24: 0.5167 - dense_1_acc_25: 0.4500 - dense_1_acc_26: 0.6500 - dense_1_acc_27: 0.5500 - dense_1_acc_28: 0.6500 - dense_1_acc_29: 0.6167 - dense_1_acc_30: 0.0000e+00     \n",
      "Epoch 22/100\n",
      "60/60 [==============================] - 1s - loss: 52.4150 - dense_1_loss_1: 4.1007 - dense_1_loss_2: 3.4868 - dense_1_loss_3: 2.7240 - dense_1_loss_4: 2.3466 - dense_1_loss_5: 2.0260 - dense_1_loss_6: 1.9555 - dense_1_loss_7: 1.8707 - dense_1_loss_8: 1.5708 - dense_1_loss_9: 1.6842 - dense_1_loss_10: 1.5766 - dense_1_loss_11: 1.6852 - dense_1_loss_12: 1.5615 - dense_1_loss_13: 1.4570 - dense_1_loss_14: 1.4567 - dense_1_loss_15: 1.5064 - dense_1_loss_16: 1.6222 - dense_1_loss_17: 1.4797 - dense_1_loss_18: 1.5931 - dense_1_loss_19: 1.4512 - dense_1_loss_20: 1.5083 - dense_1_loss_21: 1.5603 - dense_1_loss_22: 1.4702 - dense_1_loss_23: 1.4985 - dense_1_loss_24: 1.5097 - dense_1_loss_25: 1.6727 - dense_1_loss_26: 1.4337 - dense_1_loss_27: 1.6146 - dense_1_loss_28: 1.4506 - dense_1_loss_29: 1.5415 - dense_1_loss_30: 0.0000e+00 - dense_1_acc_1: 0.0667 - dense_1_acc_2: 0.3000 - dense_1_acc_3: 0.4167 - dense_1_acc_4: 0.3167 - dense_1_acc_5: 0.4167 - dense_1_acc_6: 0.6000 - dense_1_acc_7: 0.5000 - dense_1_acc_8: 0.6667 - dense_1_acc_9: 0.7000 - dense_1_acc_10: 0.6500 - dense_1_acc_11: 0.4667 - dense_1_acc_12: 0.5833 - dense_1_acc_13: 0.7000 - dense_1_acc_14: 0.6167 - dense_1_acc_15: 0.6500 - dense_1_acc_16: 0.5333 - dense_1_acc_17: 0.6500 - dense_1_acc_18: 0.5000 - dense_1_acc_19: 0.6500 - dense_1_acc_20: 0.6333 - dense_1_acc_21: 0.5667 - dense_1_acc_22: 0.7167 - dense_1_acc_23: 0.6500 - dense_1_acc_24: 0.6667 - dense_1_acc_25: 0.5667 - dense_1_acc_26: 0.7167 - dense_1_acc_27: 0.6500 - dense_1_acc_28: 0.6833 - dense_1_acc_29: 0.7167 - dense_1_acc_30: 0.0000e+00     \n",
      "Epoch 23/100\n",
      "60/60 [==============================] - 1s - loss: 49.4579 - dense_1_loss_1: 4.0922 - dense_1_loss_2: 3.4343 - dense_1_loss_3: 2.6276 - dense_1_loss_4: 2.2337 - dense_1_loss_5: 1.9220 - dense_1_loss_6: 1.8389 - dense_1_loss_7: 1.7412 - dense_1_loss_8: 1.4503 - dense_1_loss_9: 1.5707 - dense_1_loss_10: 1.4833 - dense_1_loss_11: 1.5876 - dense_1_loss_12: 1.4419 - dense_1_loss_13: 1.3587 - dense_1_loss_14: 1.3519 - dense_1_loss_15: 1.3930 - dense_1_loss_16: 1.4893 - dense_1_loss_17: 1.3332 - dense_1_loss_18: 1.4901 - dense_1_loss_19: 1.3906 - dense_1_loss_20: 1.4093 - dense_1_loss_21: 1.4313 - dense_1_loss_22: 1.3839 - dense_1_loss_23: 1.4069 - dense_1_loss_24: 1.4159 - dense_1_loss_25: 1.5271 - dense_1_loss_26: 1.2951 - dense_1_loss_27: 1.5472 - dense_1_loss_28: 1.3616 - dense_1_loss_29: 1.4492 - dense_1_loss_30: 0.0000e+00 - dense_1_acc_1: 0.0667 - dense_1_acc_2: 0.3000 - dense_1_acc_3: 0.4500 - dense_1_acc_4: 0.3500 - dense_1_acc_5: 0.4500 - dense_1_acc_6: 0.6167 - dense_1_acc_7: 0.5333 - dense_1_acc_8: 0.7167 - dense_1_acc_9: 0.7167 - dense_1_acc_10: 0.6333 - dense_1_acc_11: 0.5333 - dense_1_acc_12: 0.7333 - dense_1_acc_13: 0.7500 - dense_1_acc_14: 0.6167 - dense_1_acc_15: 0.6500 - dense_1_acc_16: 0.5833 - dense_1_acc_17: 0.7500 - dense_1_acc_18: 0.5833 - dense_1_acc_19: 0.6833 - dense_1_acc_20: 0.6500 - dense_1_acc_21: 0.6500 - dense_1_acc_22: 0.6667 - dense_1_acc_23: 0.7000 - dense_1_acc_24: 0.7333 - dense_1_acc_25: 0.6000 - dense_1_acc_26: 0.8000 - dense_1_acc_27: 0.6500 - dense_1_acc_28: 0.6667 - dense_1_acc_29: 0.7333 - dense_1_acc_30: 0.0000e+00     \n",
      "Epoch 24/100\n",
      "60/60 [==============================] - 1s - loss: 46.7280 - dense_1_loss_1: 4.0852 - dense_1_loss_2: 3.3819 - dense_1_loss_3: 2.5377 - dense_1_loss_4: 2.1174 - dense_1_loss_5: 1.8319 - dense_1_loss_6: 1.7236 - dense_1_loss_7: 1.6345 - dense_1_loss_8: 1.3586 - dense_1_loss_9: 1.4724 - dense_1_loss_10: 1.3922 - dense_1_loss_11: 1.4778 - dense_1_loss_12: 1.3272 - dense_1_loss_13: 1.2364 - dense_1_loss_14: 1.2594 - dense_1_loss_15: 1.2809 - dense_1_loss_16: 1.3682 - dense_1_loss_17: 1.2389 - dense_1_loss_18: 1.3699 - dense_1_loss_19: 1.2759 - dense_1_loss_20: 1.3078 - dense_1_loss_21: 1.3620 - dense_1_loss_22: 1.2928 - dense_1_loss_23: 1.3013 - dense_1_loss_24: 1.3176 - dense_1_loss_25: 1.4547 - dense_1_loss_26: 1.2331 - dense_1_loss_27: 1.4535 - dense_1_loss_28: 1.2434 - dense_1_loss_29: 1.3920 - dense_1_loss_30: 0.0000e+00 - dense_1_acc_1: 0.0667 - dense_1_acc_2: 0.3167 - dense_1_acc_3: 0.4833 - dense_1_acc_4: 0.3667 - dense_1_acc_5: 0.4833 - dense_1_acc_6: 0.6333 - dense_1_acc_7: 0.5667 - dense_1_acc_8: 0.6833 - dense_1_acc_9: 0.7333 - dense_1_acc_10: 0.7000 - dense_1_acc_11: 0.5667 - dense_1_acc_12: 0.7667 - dense_1_acc_13: 0.8333 - dense_1_acc_14: 0.7500 - dense_1_acc_15: 0.7167 - dense_1_acc_16: 0.6833 - dense_1_acc_17: 0.7667 - dense_1_acc_18: 0.6333 - dense_1_acc_19: 0.7333 - dense_1_acc_20: 0.7000 - dense_1_acc_21: 0.6833 - dense_1_acc_22: 0.7000 - dense_1_acc_23: 0.7833 - dense_1_acc_24: 0.7333 - dense_1_acc_25: 0.6333 - dense_1_acc_26: 0.8500 - dense_1_acc_27: 0.6833 - dense_1_acc_28: 0.7333 - dense_1_acc_29: 0.7333 - dense_1_acc_30: 0.0000e+00     \n",
      "Epoch 25/100\n",
      "60/60 [==============================] - 1s - loss: 44.0030 - dense_1_loss_1: 4.0769 - dense_1_loss_2: 3.3270 - dense_1_loss_3: 2.4456 - dense_1_loss_4: 2.0084 - dense_1_loss_5: 1.7303 - dense_1_loss_6: 1.6027 - dense_1_loss_7: 1.5110 - dense_1_loss_8: 1.2738 - dense_1_loss_9: 1.3689 - dense_1_loss_10: 1.2757 - dense_1_loss_11: 1.3498 - dense_1_loss_12: 1.2322 - dense_1_loss_13: 1.1614 - dense_1_loss_14: 1.1673 - dense_1_loss_15: 1.1872 - dense_1_loss_16: 1.2798 - dense_1_loss_17: 1.1769 - dense_1_loss_18: 1.2438 - dense_1_loss_19: 1.1924 - dense_1_loss_20: 1.2221 - dense_1_loss_21: 1.2990 - dense_1_loss_22: 1.1767 - dense_1_loss_23: 1.2134 - dense_1_loss_24: 1.2025 - dense_1_loss_25: 1.3324 - dense_1_loss_26: 1.1706 - dense_1_loss_27: 1.3405 - dense_1_loss_28: 1.1724 - dense_1_loss_29: 1.2623 - dense_1_loss_30: 0.0000e+00 - dense_1_acc_1: 0.0667 - dense_1_acc_2: 0.3167 - dense_1_acc_3: 0.4833 - dense_1_acc_4: 0.4667 - dense_1_acc_5: 0.4833 - dense_1_acc_6: 0.6500 - dense_1_acc_7: 0.5500 - dense_1_acc_8: 0.7000 - dense_1_acc_9: 0.7667 - dense_1_acc_10: 0.8000 - dense_1_acc_11: 0.7000 - dense_1_acc_12: 0.8500 - dense_1_acc_13: 0.8500 - dense_1_acc_14: 0.7500 - dense_1_acc_15: 0.7500 - dense_1_acc_16: 0.7667 - dense_1_acc_17: 0.8333 - dense_1_acc_18: 0.7833 - dense_1_acc_19: 0.7833 - dense_1_acc_20: 0.8000 - dense_1_acc_21: 0.7667 - dense_1_acc_22: 0.7667 - dense_1_acc_23: 0.8000 - dense_1_acc_24: 0.7833 - dense_1_acc_25: 0.7167 - dense_1_acc_26: 0.8500 - dense_1_acc_27: 0.7333 - dense_1_acc_28: 0.8000 - dense_1_acc_29: 0.7500 - dense_1_acc_30: 0.0000e+00         \n",
      "Epoch 26/100\n"
     ]
    },
    {
     "name": "stdout",
     "output_type": "stream",
     "text": [
      "60/60 [==============================] - 1s - loss: 41.4568 - dense_1_loss_1: 4.0691 - dense_1_loss_2: 3.2690 - dense_1_loss_3: 2.3450 - dense_1_loss_4: 1.9067 - dense_1_loss_5: 1.6242 - dense_1_loss_6: 1.4754 - dense_1_loss_7: 1.4083 - dense_1_loss_8: 1.1918 - dense_1_loss_9: 1.2729 - dense_1_loss_10: 1.1819 - dense_1_loss_11: 1.2822 - dense_1_loss_12: 1.1440 - dense_1_loss_13: 1.0782 - dense_1_loss_14: 1.0761 - dense_1_loss_15: 1.1296 - dense_1_loss_16: 1.1978 - dense_1_loss_17: 1.0908 - dense_1_loss_18: 1.1652 - dense_1_loss_19: 1.0983 - dense_1_loss_20: 1.1276 - dense_1_loss_21: 1.1797 - dense_1_loss_22: 1.0852 - dense_1_loss_23: 1.1610 - dense_1_loss_24: 1.1181 - dense_1_loss_25: 1.2360 - dense_1_loss_26: 1.0752 - dense_1_loss_27: 1.2279 - dense_1_loss_28: 1.0929 - dense_1_loss_29: 1.1467 - dense_1_loss_30: 0.0000e+00 - dense_1_acc_1: 0.0667 - dense_1_acc_2: 0.3167 - dense_1_acc_3: 0.4833 - dense_1_acc_4: 0.5000 - dense_1_acc_5: 0.5167 - dense_1_acc_6: 0.6500 - dense_1_acc_7: 0.6333 - dense_1_acc_8: 0.7667 - dense_1_acc_9: 0.7667 - dense_1_acc_10: 0.7833 - dense_1_acc_11: 0.7000 - dense_1_acc_12: 0.8500 - dense_1_acc_13: 0.8667 - dense_1_acc_14: 0.8667 - dense_1_acc_15: 0.7333 - dense_1_acc_16: 0.7833 - dense_1_acc_17: 0.9000 - dense_1_acc_18: 0.7833 - dense_1_acc_19: 0.8000 - dense_1_acc_20: 0.8333 - dense_1_acc_21: 0.8167 - dense_1_acc_22: 0.8000 - dense_1_acc_23: 0.7667 - dense_1_acc_24: 0.8000 - dense_1_acc_25: 0.7667 - dense_1_acc_26: 0.8833 - dense_1_acc_27: 0.7833 - dense_1_acc_28: 0.8333 - dense_1_acc_29: 0.8333 - dense_1_acc_30: 0.0000e+00     \n",
      "Epoch 27/100\n",
      "60/60 [==============================] - 1s - loss: 38.9726 - dense_1_loss_1: 4.0600 - dense_1_loss_2: 3.2141 - dense_1_loss_3: 2.2520 - dense_1_loss_4: 1.8084 - dense_1_loss_5: 1.5248 - dense_1_loss_6: 1.3697 - dense_1_loss_7: 1.3158 - dense_1_loss_8: 1.1080 - dense_1_loss_9: 1.1864 - dense_1_loss_10: 1.1015 - dense_1_loss_11: 1.1818 - dense_1_loss_12: 1.0610 - dense_1_loss_13: 0.9794 - dense_1_loss_14: 1.0081 - dense_1_loss_15: 1.0408 - dense_1_loss_16: 1.0844 - dense_1_loss_17: 0.9968 - dense_1_loss_18: 1.0768 - dense_1_loss_19: 1.0062 - dense_1_loss_20: 1.0514 - dense_1_loss_21: 1.0939 - dense_1_loss_22: 1.0128 - dense_1_loss_23: 1.0497 - dense_1_loss_24: 1.0190 - dense_1_loss_25: 1.1221 - dense_1_loss_26: 1.0148 - dense_1_loss_27: 1.1367 - dense_1_loss_28: 1.0194 - dense_1_loss_29: 1.0770 - dense_1_loss_30: 0.0000e+00 - dense_1_acc_1: 0.0667 - dense_1_acc_2: 0.3333 - dense_1_acc_3: 0.5000 - dense_1_acc_4: 0.5167 - dense_1_acc_5: 0.6333 - dense_1_acc_6: 0.6500 - dense_1_acc_7: 0.7000 - dense_1_acc_8: 0.8000 - dense_1_acc_9: 0.8000 - dense_1_acc_10: 0.7667 - dense_1_acc_11: 0.7667 - dense_1_acc_12: 0.8667 - dense_1_acc_13: 0.8833 - dense_1_acc_14: 0.8667 - dense_1_acc_15: 0.7500 - dense_1_acc_16: 0.8000 - dense_1_acc_17: 0.9167 - dense_1_acc_18: 0.8333 - dense_1_acc_19: 0.8833 - dense_1_acc_20: 0.8333 - dense_1_acc_21: 0.8167 - dense_1_acc_22: 0.9167 - dense_1_acc_23: 0.8333 - dense_1_acc_24: 0.8167 - dense_1_acc_25: 0.8333 - dense_1_acc_26: 0.8833 - dense_1_acc_27: 0.8167 - dense_1_acc_28: 0.8833 - dense_1_acc_29: 0.8333 - dense_1_acc_30: 0.0000e+00     \n",
      "Epoch 28/100\n",
      "60/60 [==============================] - 1s - loss: 36.6879 - dense_1_loss_1: 4.0514 - dense_1_loss_2: 3.1550 - dense_1_loss_3: 2.1574 - dense_1_loss_4: 1.7164 - dense_1_loss_5: 1.4277 - dense_1_loss_6: 1.2652 - dense_1_loss_7: 1.2187 - dense_1_loss_8: 1.0194 - dense_1_loss_9: 1.1070 - dense_1_loss_10: 1.0107 - dense_1_loss_11: 1.0722 - dense_1_loss_12: 0.9646 - dense_1_loss_13: 0.9037 - dense_1_loss_14: 0.9436 - dense_1_loss_15: 0.9238 - dense_1_loss_16: 0.9851 - dense_1_loss_17: 0.9161 - dense_1_loss_18: 0.9850 - dense_1_loss_19: 0.9287 - dense_1_loss_20: 0.9784 - dense_1_loss_21: 1.0126 - dense_1_loss_22: 0.9549 - dense_1_loss_23: 0.9737 - dense_1_loss_24: 0.9414 - dense_1_loss_25: 1.0381 - dense_1_loss_26: 0.9388 - dense_1_loss_27: 1.0813 - dense_1_loss_28: 0.9767 - dense_1_loss_29: 1.0402 - dense_1_loss_30: 0.0000e+00 - dense_1_acc_1: 0.0667 - dense_1_acc_2: 0.3667 - dense_1_acc_3: 0.5000 - dense_1_acc_4: 0.5167 - dense_1_acc_5: 0.6500 - dense_1_acc_6: 0.7500 - dense_1_acc_7: 0.7667 - dense_1_acc_8: 0.8167 - dense_1_acc_9: 0.8167 - dense_1_acc_10: 0.8500 - dense_1_acc_11: 0.8833 - dense_1_acc_12: 0.9000 - dense_1_acc_13: 0.8833 - dense_1_acc_14: 0.8667 - dense_1_acc_15: 0.8167 - dense_1_acc_16: 0.8667 - dense_1_acc_17: 0.9167 - dense_1_acc_18: 0.9333 - dense_1_acc_19: 0.8833 - dense_1_acc_20: 0.9000 - dense_1_acc_21: 0.8500 - dense_1_acc_22: 0.9333 - dense_1_acc_23: 0.8500 - dense_1_acc_24: 0.8833 - dense_1_acc_25: 0.8333 - dense_1_acc_26: 0.9167 - dense_1_acc_27: 0.8333 - dense_1_acc_28: 0.8833 - dense_1_acc_29: 0.8500 - dense_1_acc_30: 0.0000e+00     \n",
      "Epoch 29/100\n",
      "60/60 [==============================] - 1s - loss: 34.4125 - dense_1_loss_1: 4.0435 - dense_1_loss_2: 3.1023 - dense_1_loss_3: 2.0705 - dense_1_loss_4: 1.6270 - dense_1_loss_5: 1.3311 - dense_1_loss_6: 1.1686 - dense_1_loss_7: 1.1169 - dense_1_loss_8: 0.9262 - dense_1_loss_9: 1.0422 - dense_1_loss_10: 0.9449 - dense_1_loss_11: 0.9773 - dense_1_loss_12: 0.8805 - dense_1_loss_13: 0.8459 - dense_1_loss_14: 0.8421 - dense_1_loss_15: 0.8710 - dense_1_loss_16: 0.9087 - dense_1_loss_17: 0.8449 - dense_1_loss_18: 0.8950 - dense_1_loss_19: 0.8404 - dense_1_loss_20: 0.9212 - dense_1_loss_21: 0.9372 - dense_1_loss_22: 0.8686 - dense_1_loss_23: 0.9028 - dense_1_loss_24: 0.8852 - dense_1_loss_25: 0.9397 - dense_1_loss_26: 0.8650 - dense_1_loss_27: 0.9798 - dense_1_loss_28: 0.8861 - dense_1_loss_29: 0.9480 - dense_1_loss_30: 0.0000e+00 - dense_1_acc_1: 0.0667 - dense_1_acc_2: 0.3667 - dense_1_acc_3: 0.4833 - dense_1_acc_4: 0.5833 - dense_1_acc_5: 0.6667 - dense_1_acc_6: 0.7833 - dense_1_acc_7: 0.8000 - dense_1_acc_8: 0.8833 - dense_1_acc_9: 0.8333 - dense_1_acc_10: 0.9000 - dense_1_acc_11: 0.8833 - dense_1_acc_12: 0.9167 - dense_1_acc_13: 0.8833 - dense_1_acc_14: 0.9167 - dense_1_acc_15: 0.8667 - dense_1_acc_16: 0.8667 - dense_1_acc_17: 0.9167 - dense_1_acc_18: 0.9500 - dense_1_acc_19: 0.9333 - dense_1_acc_20: 0.9167 - dense_1_acc_21: 0.8500 - dense_1_acc_22: 0.9333 - dense_1_acc_23: 0.8833 - dense_1_acc_24: 0.9167 - dense_1_acc_25: 0.8500 - dense_1_acc_26: 0.9333 - dense_1_acc_27: 0.9167 - dense_1_acc_28: 0.9000 - dense_1_acc_29: 0.8833 - dense_1_acc_30: 0.0167     \n",
      "Epoch 30/100\n",
      "60/60 [==============================] - 1s - loss: 32.3253 - dense_1_loss_1: 4.0353 - dense_1_loss_2: 3.0423 - dense_1_loss_3: 1.9872 - dense_1_loss_4: 1.5425 - dense_1_loss_5: 1.2358 - dense_1_loss_6: 1.0861 - dense_1_loss_7: 1.0251 - dense_1_loss_8: 0.8631 - dense_1_loss_9: 0.9523 - dense_1_loss_10: 0.8737 - dense_1_loss_11: 0.9028 - dense_1_loss_12: 0.8047 - dense_1_loss_13: 0.7762 - dense_1_loss_14: 0.7682 - dense_1_loss_15: 0.8202 - dense_1_loss_16: 0.8127 - dense_1_loss_17: 0.7926 - dense_1_loss_18: 0.8252 - dense_1_loss_19: 0.7814 - dense_1_loss_20: 0.8342 - dense_1_loss_21: 0.8603 - dense_1_loss_22: 0.8182 - dense_1_loss_23: 0.8418 - dense_1_loss_24: 0.8074 - dense_1_loss_25: 0.8692 - dense_1_loss_26: 0.7961 - dense_1_loss_27: 0.9006 - dense_1_loss_28: 0.8105 - dense_1_loss_29: 0.8597 - dense_1_loss_30: 0.0000e+00 - dense_1_acc_1: 0.0667 - dense_1_acc_2: 0.4167 - dense_1_acc_3: 0.5167 - dense_1_acc_4: 0.5833 - dense_1_acc_5: 0.7333 - dense_1_acc_6: 0.7833 - dense_1_acc_7: 0.8333 - dense_1_acc_8: 0.9000 - dense_1_acc_9: 0.8667 - dense_1_acc_10: 0.9333 - dense_1_acc_11: 0.8667 - dense_1_acc_12: 0.9500 - dense_1_acc_13: 0.9167 - dense_1_acc_14: 0.9167 - dense_1_acc_15: 0.9333 - dense_1_acc_16: 0.8833 - dense_1_acc_17: 0.9333 - dense_1_acc_18: 0.9667 - dense_1_acc_19: 0.9500 - dense_1_acc_20: 0.9167 - dense_1_acc_21: 0.8667 - dense_1_acc_22: 0.9500 - dense_1_acc_23: 0.9000 - dense_1_acc_24: 0.9333 - dense_1_acc_25: 0.8500 - dense_1_acc_26: 0.9333 - dense_1_acc_27: 0.9167 - dense_1_acc_28: 0.9167 - dense_1_acc_29: 0.8833 - dense_1_acc_30: 0.0167     \n",
      "Epoch 31/100\n"
     ]
    },
    {
     "name": "stdout",
     "output_type": "stream",
     "text": [
      "60/60 [==============================] - 1s - loss: 30.3333 - dense_1_loss_1: 4.0262 - dense_1_loss_2: 2.9881 - dense_1_loss_3: 1.9054 - dense_1_loss_4: 1.4606 - dense_1_loss_5: 1.1609 - dense_1_loss_6: 1.0094 - dense_1_loss_7: 0.9401 - dense_1_loss_8: 0.7866 - dense_1_loss_9: 0.9012 - dense_1_loss_10: 0.8011 - dense_1_loss_11: 0.8374 - dense_1_loss_12: 0.7424 - dense_1_loss_13: 0.7099 - dense_1_loss_14: 0.7007 - dense_1_loss_15: 0.7448 - dense_1_loss_16: 0.7282 - dense_1_loss_17: 0.7182 - dense_1_loss_18: 0.7374 - dense_1_loss_19: 0.7176 - dense_1_loss_20: 0.7838 - dense_1_loss_21: 0.7738 - dense_1_loss_22: 0.7634 - dense_1_loss_23: 0.7596 - dense_1_loss_24: 0.7318 - dense_1_loss_25: 0.8012 - dense_1_loss_26: 0.7322 - dense_1_loss_27: 0.8221 - dense_1_loss_28: 0.7551 - dense_1_loss_29: 0.7940 - dense_1_loss_30: 0.0000e+00 - dense_1_acc_1: 0.0667 - dense_1_acc_2: 0.4167 - dense_1_acc_3: 0.5667 - dense_1_acc_4: 0.6000 - dense_1_acc_5: 0.7333 - dense_1_acc_6: 0.8333 - dense_1_acc_7: 0.8333 - dense_1_acc_8: 0.9000 - dense_1_acc_9: 0.8333 - dense_1_acc_10: 0.9167 - dense_1_acc_11: 0.9000 - dense_1_acc_12: 0.9667 - dense_1_acc_13: 0.9167 - dense_1_acc_14: 0.9167 - dense_1_acc_15: 0.9167 - dense_1_acc_16: 0.9333 - dense_1_acc_17: 0.9500 - dense_1_acc_18: 0.9833 - dense_1_acc_19: 0.9500 - dense_1_acc_20: 0.9333 - dense_1_acc_21: 0.9833 - dense_1_acc_22: 0.9500 - dense_1_acc_23: 0.9000 - dense_1_acc_24: 0.9500 - dense_1_acc_25: 0.8833 - dense_1_acc_26: 0.9667 - dense_1_acc_27: 0.9500 - dense_1_acc_28: 0.9333 - dense_1_acc_29: 0.9000 - dense_1_acc_30: 0.0167     \n",
      "Epoch 32/100\n",
      "60/60 [==============================] - 1s - loss: 28.4106 - dense_1_loss_1: 4.0183 - dense_1_loss_2: 2.9318 - dense_1_loss_3: 1.8266 - dense_1_loss_4: 1.3751 - dense_1_loss_5: 1.0804 - dense_1_loss_6: 0.9282 - dense_1_loss_7: 0.8577 - dense_1_loss_8: 0.7124 - dense_1_loss_9: 0.8247 - dense_1_loss_10: 0.7409 - dense_1_loss_11: 0.7455 - dense_1_loss_12: 0.6697 - dense_1_loss_13: 0.6274 - dense_1_loss_14: 0.6358 - dense_1_loss_15: 0.6896 - dense_1_loss_16: 0.6606 - dense_1_loss_17: 0.6518 - dense_1_loss_18: 0.6781 - dense_1_loss_19: 0.6575 - dense_1_loss_20: 0.7060 - dense_1_loss_21: 0.7233 - dense_1_loss_22: 0.6888 - dense_1_loss_23: 0.7129 - dense_1_loss_24: 0.6774 - dense_1_loss_25: 0.7279 - dense_1_loss_26: 0.6695 - dense_1_loss_27: 0.7635 - dense_1_loss_28: 0.7018 - dense_1_loss_29: 0.7273 - dense_1_loss_30: 0.0000e+00 - dense_1_acc_1: 0.0667 - dense_1_acc_2: 0.4167 - dense_1_acc_3: 0.5833 - dense_1_acc_4: 0.6000 - dense_1_acc_5: 0.7500 - dense_1_acc_6: 0.8500 - dense_1_acc_7: 0.8667 - dense_1_acc_8: 0.9333 - dense_1_acc_9: 0.8500 - dense_1_acc_10: 0.9500 - dense_1_acc_11: 0.9500 - dense_1_acc_12: 0.9833 - dense_1_acc_13: 0.9667 - dense_1_acc_14: 0.9167 - dense_1_acc_15: 0.9500 - dense_1_acc_16: 0.9833 - dense_1_acc_17: 0.9667 - dense_1_acc_18: 0.9833 - dense_1_acc_19: 0.9667 - dense_1_acc_20: 0.9667 - dense_1_acc_21: 0.9833 - dense_1_acc_22: 0.9667 - dense_1_acc_23: 0.9167 - dense_1_acc_24: 0.9667 - dense_1_acc_25: 0.8833 - dense_1_acc_26: 0.9500 - dense_1_acc_27: 0.9500 - dense_1_acc_28: 0.9333 - dense_1_acc_29: 0.9500 - dense_1_acc_30: 0.0167     \n",
      "Epoch 33/100\n",
      "60/60 [==============================] - 1s - loss: 26.6827 - dense_1_loss_1: 4.0110 - dense_1_loss_2: 2.8747 - dense_1_loss_3: 1.7507 - dense_1_loss_4: 1.2960 - dense_1_loss_5: 1.0055 - dense_1_loss_6: 0.8600 - dense_1_loss_7: 0.7799 - dense_1_loss_8: 0.6507 - dense_1_loss_9: 0.7702 - dense_1_loss_10: 0.6759 - dense_1_loss_11: 0.6850 - dense_1_loss_12: 0.6248 - dense_1_loss_13: 0.5779 - dense_1_loss_14: 0.5718 - dense_1_loss_15: 0.6221 - dense_1_loss_16: 0.6156 - dense_1_loss_17: 0.6020 - dense_1_loss_18: 0.6283 - dense_1_loss_19: 0.5980 - dense_1_loss_20: 0.6519 - dense_1_loss_21: 0.6707 - dense_1_loss_22: 0.6286 - dense_1_loss_23: 0.6445 - dense_1_loss_24: 0.6165 - dense_1_loss_25: 0.6600 - dense_1_loss_26: 0.6184 - dense_1_loss_27: 0.6809 - dense_1_loss_28: 0.6393 - dense_1_loss_29: 0.6717 - dense_1_loss_30: 0.0000e+00 - dense_1_acc_1: 0.0667 - dense_1_acc_2: 0.4167 - dense_1_acc_3: 0.5833 - dense_1_acc_4: 0.6167 - dense_1_acc_5: 0.8000 - dense_1_acc_6: 0.9000 - dense_1_acc_7: 0.9167 - dense_1_acc_8: 0.9667 - dense_1_acc_9: 0.8833 - dense_1_acc_10: 0.9667 - dense_1_acc_11: 0.9667 - dense_1_acc_12: 0.9833 - dense_1_acc_13: 0.9833 - dense_1_acc_14: 0.9833 - dense_1_acc_15: 0.9833 - dense_1_acc_16: 1.0000 - dense_1_acc_17: 0.9667 - dense_1_acc_18: 1.0000 - dense_1_acc_19: 0.9667 - dense_1_acc_20: 0.9667 - dense_1_acc_21: 0.9833 - dense_1_acc_22: 0.9833 - dense_1_acc_23: 0.9500 - dense_1_acc_24: 0.9833 - dense_1_acc_25: 0.9000 - dense_1_acc_26: 0.9667 - dense_1_acc_27: 0.9667 - dense_1_acc_28: 0.9667 - dense_1_acc_29: 0.9500 - dense_1_acc_30: 0.0167     \n",
      "Epoch 34/100\n",
      "60/60 [==============================] - 1s - loss: 24.9606 - dense_1_loss_1: 4.0031 - dense_1_loss_2: 2.8221 - dense_1_loss_3: 1.6774 - dense_1_loss_4: 1.2217 - dense_1_loss_5: 0.9338 - dense_1_loss_6: 0.7894 - dense_1_loss_7: 0.7146 - dense_1_loss_8: 0.5969 - dense_1_loss_9: 0.7008 - dense_1_loss_10: 0.6210 - dense_1_loss_11: 0.6258 - dense_1_loss_12: 0.5652 - dense_1_loss_13: 0.5249 - dense_1_loss_14: 0.5123 - dense_1_loss_15: 0.5700 - dense_1_loss_16: 0.5637 - dense_1_loss_17: 0.5427 - dense_1_loss_18: 0.5550 - dense_1_loss_19: 0.5569 - dense_1_loss_20: 0.5848 - dense_1_loss_21: 0.6084 - dense_1_loss_22: 0.5647 - dense_1_loss_23: 0.5853 - dense_1_loss_24: 0.5525 - dense_1_loss_25: 0.6030 - dense_1_loss_26: 0.5623 - dense_1_loss_27: 0.6210 - dense_1_loss_28: 0.5731 - dense_1_loss_29: 0.6082 - dense_1_loss_30: 0.0000e+00 - dense_1_acc_1: 0.0667 - dense_1_acc_2: 0.4167 - dense_1_acc_3: 0.5833 - dense_1_acc_4: 0.6500 - dense_1_acc_5: 0.8333 - dense_1_acc_6: 0.9167 - dense_1_acc_7: 0.9500 - dense_1_acc_8: 0.9500 - dense_1_acc_9: 0.8833 - dense_1_acc_10: 0.9667 - dense_1_acc_11: 0.9667 - dense_1_acc_12: 1.0000 - dense_1_acc_13: 0.9833 - dense_1_acc_14: 0.9833 - dense_1_acc_15: 1.0000 - dense_1_acc_16: 1.0000 - dense_1_acc_17: 0.9667 - dense_1_acc_18: 1.0000 - dense_1_acc_19: 0.9833 - dense_1_acc_20: 0.9833 - dense_1_acc_21: 0.9833 - dense_1_acc_22: 1.0000 - dense_1_acc_23: 0.9833 - dense_1_acc_24: 1.0000 - dense_1_acc_25: 0.9500 - dense_1_acc_26: 0.9667 - dense_1_acc_27: 0.9667 - dense_1_acc_28: 0.9667 - dense_1_acc_29: 0.9500 - dense_1_acc_30: 0.0167     \n",
      "Epoch 35/100\n",
      "60/60 [==============================] - 1s - loss: 23.4622 - dense_1_loss_1: 3.9953 - dense_1_loss_2: 2.7664 - dense_1_loss_3: 1.6042 - dense_1_loss_4: 1.1460 - dense_1_loss_5: 0.8681 - dense_1_loss_6: 0.7347 - dense_1_loss_7: 0.6537 - dense_1_loss_8: 0.5495 - dense_1_loss_9: 0.6499 - dense_1_loss_10: 0.5738 - dense_1_loss_11: 0.5723 - dense_1_loss_12: 0.5103 - dense_1_loss_13: 0.4750 - dense_1_loss_14: 0.4771 - dense_1_loss_15: 0.5092 - dense_1_loss_16: 0.5041 - dense_1_loss_17: 0.5027 - dense_1_loss_18: 0.5077 - dense_1_loss_19: 0.5044 - dense_1_loss_20: 0.5298 - dense_1_loss_21: 0.5583 - dense_1_loss_22: 0.5190 - dense_1_loss_23: 0.5298 - dense_1_loss_24: 0.5053 - dense_1_loss_25: 0.5480 - dense_1_loss_26: 0.5214 - dense_1_loss_27: 0.5626 - dense_1_loss_28: 0.5188 - dense_1_loss_29: 0.5645 - dense_1_loss_30: 0.0000e+00 - dense_1_acc_1: 0.0667 - dense_1_acc_2: 0.4333 - dense_1_acc_3: 0.6833 - dense_1_acc_4: 0.7000 - dense_1_acc_5: 0.8333 - dense_1_acc_6: 0.9333 - dense_1_acc_7: 0.9500 - dense_1_acc_8: 0.9833 - dense_1_acc_9: 0.9333 - dense_1_acc_10: 0.9667 - dense_1_acc_11: 1.0000 - dense_1_acc_12: 1.0000 - dense_1_acc_13: 1.0000 - dense_1_acc_14: 0.9833 - dense_1_acc_15: 1.0000 - dense_1_acc_16: 1.0000 - dense_1_acc_17: 1.0000 - dense_1_acc_18: 1.0000 - dense_1_acc_19: 0.9833 - dense_1_acc_20: 1.0000 - dense_1_acc_21: 0.9833 - dense_1_acc_22: 1.0000 - dense_1_acc_23: 0.9833 - dense_1_acc_24: 1.0000 - dense_1_acc_25: 0.9833 - dense_1_acc_26: 0.9833 - dense_1_acc_27: 0.9667 - dense_1_acc_28: 0.9667 - dense_1_acc_29: 0.9500 - dense_1_acc_30: 0.0167         \n",
      "Epoch 36/100\n"
     ]
    },
    {
     "name": "stdout",
     "output_type": "stream",
     "text": [
      "60/60 [==============================] - 1s - loss: 22.0223 - dense_1_loss_1: 3.9887 - dense_1_loss_2: 2.7132 - dense_1_loss_3: 1.5372 - dense_1_loss_4: 1.0731 - dense_1_loss_5: 0.8034 - dense_1_loss_6: 0.6766 - dense_1_loss_7: 0.5939 - dense_1_loss_8: 0.4918 - dense_1_loss_9: 0.6055 - dense_1_loss_10: 0.5073 - dense_1_loss_11: 0.5186 - dense_1_loss_12: 0.4623 - dense_1_loss_13: 0.4389 - dense_1_loss_14: 0.4356 - dense_1_loss_15: 0.4504 - dense_1_loss_16: 0.4564 - dense_1_loss_17: 0.4636 - dense_1_loss_18: 0.4656 - dense_1_loss_19: 0.4473 - dense_1_loss_20: 0.4866 - dense_1_loss_21: 0.5117 - dense_1_loss_22: 0.4704 - dense_1_loss_23: 0.4878 - dense_1_loss_24: 0.4596 - dense_1_loss_25: 0.5001 - dense_1_loss_26: 0.4797 - dense_1_loss_27: 0.5038 - dense_1_loss_28: 0.4727 - dense_1_loss_29: 0.5206 - dense_1_loss_30: 0.0000e+00 - dense_1_acc_1: 0.0667 - dense_1_acc_2: 0.4333 - dense_1_acc_3: 0.6667 - dense_1_acc_4: 0.7500 - dense_1_acc_5: 0.8667 - dense_1_acc_6: 0.9500 - dense_1_acc_7: 0.9500 - dense_1_acc_8: 1.0000 - dense_1_acc_9: 0.9333 - dense_1_acc_10: 0.9833 - dense_1_acc_11: 1.0000 - dense_1_acc_12: 1.0000 - dense_1_acc_13: 1.0000 - dense_1_acc_14: 1.0000 - dense_1_acc_15: 1.0000 - dense_1_acc_16: 1.0000 - dense_1_acc_17: 1.0000 - dense_1_acc_18: 1.0000 - dense_1_acc_19: 0.9833 - dense_1_acc_20: 1.0000 - dense_1_acc_21: 1.0000 - dense_1_acc_22: 1.0000 - dense_1_acc_23: 0.9833 - dense_1_acc_24: 1.0000 - dense_1_acc_25: 0.9833 - dense_1_acc_26: 0.9833 - dense_1_acc_27: 0.9667 - dense_1_acc_28: 0.9667 - dense_1_acc_29: 0.9500 - dense_1_acc_30: 0.0167     \n",
      "Epoch 37/100\n",
      "60/60 [==============================] - 1s - loss: 20.7270 - dense_1_loss_1: 3.9811 - dense_1_loss_2: 2.6596 - dense_1_loss_3: 1.4728 - dense_1_loss_4: 1.0036 - dense_1_loss_5: 0.7402 - dense_1_loss_6: 0.6150 - dense_1_loss_7: 0.5459 - dense_1_loss_8: 0.4530 - dense_1_loss_9: 0.5514 - dense_1_loss_10: 0.4647 - dense_1_loss_11: 0.4703 - dense_1_loss_12: 0.4175 - dense_1_loss_13: 0.3941 - dense_1_loss_14: 0.3952 - dense_1_loss_15: 0.4215 - dense_1_loss_16: 0.4175 - dense_1_loss_17: 0.4168 - dense_1_loss_18: 0.4240 - dense_1_loss_19: 0.4036 - dense_1_loss_20: 0.4468 - dense_1_loss_21: 0.4663 - dense_1_loss_22: 0.4310 - dense_1_loss_23: 0.4529 - dense_1_loss_24: 0.4188 - dense_1_loss_25: 0.4706 - dense_1_loss_26: 0.4197 - dense_1_loss_27: 0.4607 - dense_1_loss_28: 0.4455 - dense_1_loss_29: 0.4667 - dense_1_loss_30: 0.0000e+00 - dense_1_acc_1: 0.0667 - dense_1_acc_2: 0.4333 - dense_1_acc_3: 0.6500 - dense_1_acc_4: 0.7833 - dense_1_acc_5: 0.8667 - dense_1_acc_6: 0.9667 - dense_1_acc_7: 0.9500 - dense_1_acc_8: 1.0000 - dense_1_acc_9: 0.9333 - dense_1_acc_10: 0.9833 - dense_1_acc_11: 1.0000 - dense_1_acc_12: 1.0000 - dense_1_acc_13: 1.0000 - dense_1_acc_14: 1.0000 - dense_1_acc_15: 1.0000 - dense_1_acc_16: 1.0000 - dense_1_acc_17: 1.0000 - dense_1_acc_18: 1.0000 - dense_1_acc_19: 1.0000 - dense_1_acc_20: 1.0000 - dense_1_acc_21: 1.0000 - dense_1_acc_22: 1.0000 - dense_1_acc_23: 0.9833 - dense_1_acc_24: 1.0000 - dense_1_acc_25: 0.9833 - dense_1_acc_26: 0.9833 - dense_1_acc_27: 0.9667 - dense_1_acc_28: 0.9667 - dense_1_acc_29: 0.9667 - dense_1_acc_30: 0.0167         \n",
      "Epoch 38/100\n",
      "60/60 [==============================] - 1s - loss: 19.5080 - dense_1_loss_1: 3.9740 - dense_1_loss_2: 2.6078 - dense_1_loss_3: 1.4130 - dense_1_loss_4: 0.9417 - dense_1_loss_5: 0.6820 - dense_1_loss_6: 0.5714 - dense_1_loss_7: 0.4923 - dense_1_loss_8: 0.4161 - dense_1_loss_9: 0.5114 - dense_1_loss_10: 0.4219 - dense_1_loss_11: 0.4331 - dense_1_loss_12: 0.3851 - dense_1_loss_13: 0.3582 - dense_1_loss_14: 0.3676 - dense_1_loss_15: 0.3700 - dense_1_loss_16: 0.3881 - dense_1_loss_17: 0.3715 - dense_1_loss_18: 0.3836 - dense_1_loss_19: 0.3669 - dense_1_loss_20: 0.4136 - dense_1_loss_21: 0.4152 - dense_1_loss_22: 0.3957 - dense_1_loss_23: 0.4022 - dense_1_loss_24: 0.3720 - dense_1_loss_25: 0.4279 - dense_1_loss_26: 0.3846 - dense_1_loss_27: 0.4210 - dense_1_loss_28: 0.3901 - dense_1_loss_29: 0.4302 - dense_1_loss_30: 0.0000e+00 - dense_1_acc_1: 0.0667 - dense_1_acc_2: 0.4500 - dense_1_acc_3: 0.6500 - dense_1_acc_4: 0.7833 - dense_1_acc_5: 0.8833 - dense_1_acc_6: 0.9667 - dense_1_acc_7: 0.9667 - dense_1_acc_8: 1.0000 - dense_1_acc_9: 0.9333 - dense_1_acc_10: 0.9833 - dense_1_acc_11: 1.0000 - dense_1_acc_12: 1.0000 - dense_1_acc_13: 1.0000 - dense_1_acc_14: 1.0000 - dense_1_acc_15: 1.0000 - dense_1_acc_16: 1.0000 - dense_1_acc_17: 1.0000 - dense_1_acc_18: 1.0000 - dense_1_acc_19: 1.0000 - dense_1_acc_20: 1.0000 - dense_1_acc_21: 1.0000 - dense_1_acc_22: 1.0000 - dense_1_acc_23: 1.0000 - dense_1_acc_24: 1.0000 - dense_1_acc_25: 0.9833 - dense_1_acc_26: 1.0000 - dense_1_acc_27: 1.0000 - dense_1_acc_28: 0.9833 - dense_1_acc_29: 0.9667 - dense_1_acc_30: 0.0167     \n",
      "Epoch 39/100\n",
      "60/60 [==============================] - 1s - loss: 18.3805 - dense_1_loss_1: 3.9679 - dense_1_loss_2: 2.5562 - dense_1_loss_3: 1.3551 - dense_1_loss_4: 0.8817 - dense_1_loss_5: 0.6227 - dense_1_loss_6: 0.5195 - dense_1_loss_7: 0.4585 - dense_1_loss_8: 0.3783 - dense_1_loss_9: 0.4671 - dense_1_loss_10: 0.3927 - dense_1_loss_11: 0.3914 - dense_1_loss_12: 0.3473 - dense_1_loss_13: 0.3265 - dense_1_loss_14: 0.3322 - dense_1_loss_15: 0.3469 - dense_1_loss_16: 0.3449 - dense_1_loss_17: 0.3436 - dense_1_loss_18: 0.3468 - dense_1_loss_19: 0.3312 - dense_1_loss_20: 0.3661 - dense_1_loss_21: 0.3764 - dense_1_loss_22: 0.3622 - dense_1_loss_23: 0.3677 - dense_1_loss_24: 0.3473 - dense_1_loss_25: 0.3766 - dense_1_loss_26: 0.3532 - dense_1_loss_27: 0.3747 - dense_1_loss_28: 0.3512 - dense_1_loss_29: 0.3944 - dense_1_loss_30: 0.0000e+00 - dense_1_acc_1: 0.0667 - dense_1_acc_2: 0.4500 - dense_1_acc_3: 0.7000 - dense_1_acc_4: 0.8167 - dense_1_acc_5: 0.9167 - dense_1_acc_6: 0.9667 - dense_1_acc_7: 0.9833 - dense_1_acc_8: 1.0000 - dense_1_acc_9: 0.9667 - dense_1_acc_10: 0.9833 - dense_1_acc_11: 1.0000 - dense_1_acc_12: 1.0000 - dense_1_acc_13: 1.0000 - dense_1_acc_14: 1.0000 - dense_1_acc_15: 1.0000 - dense_1_acc_16: 1.0000 - dense_1_acc_17: 1.0000 - dense_1_acc_18: 1.0000 - dense_1_acc_19: 1.0000 - dense_1_acc_20: 1.0000 - dense_1_acc_21: 1.0000 - dense_1_acc_22: 1.0000 - dense_1_acc_23: 1.0000 - dense_1_acc_24: 1.0000 - dense_1_acc_25: 0.9833 - dense_1_acc_26: 1.0000 - dense_1_acc_27: 1.0000 - dense_1_acc_28: 0.9833 - dense_1_acc_29: 0.9833 - dense_1_acc_30: 0.0167         \n",
      "Epoch 40/100\n",
      "60/60 [==============================] - 1s - loss: 17.3641 - dense_1_loss_1: 3.9617 - dense_1_loss_2: 2.5059 - dense_1_loss_3: 1.2999 - dense_1_loss_4: 0.8198 - dense_1_loss_5: 0.5735 - dense_1_loss_6: 0.4725 - dense_1_loss_7: 0.4168 - dense_1_loss_8: 0.3469 - dense_1_loss_9: 0.4286 - dense_1_loss_10: 0.3589 - dense_1_loss_11: 0.3534 - dense_1_loss_12: 0.3139 - dense_1_loss_13: 0.2976 - dense_1_loss_14: 0.2884 - dense_1_loss_15: 0.3227 - dense_1_loss_16: 0.3194 - dense_1_loss_17: 0.3111 - dense_1_loss_18: 0.3074 - dense_1_loss_19: 0.3071 - dense_1_loss_20: 0.3370 - dense_1_loss_21: 0.3507 - dense_1_loss_22: 0.3267 - dense_1_loss_23: 0.3363 - dense_1_loss_24: 0.3149 - dense_1_loss_25: 0.3427 - dense_1_loss_26: 0.3235 - dense_1_loss_27: 0.3439 - dense_1_loss_28: 0.3197 - dense_1_loss_29: 0.3633 - dense_1_loss_30: 0.0000e+00 - dense_1_acc_1: 0.0667 - dense_1_acc_2: 0.4500 - dense_1_acc_3: 0.7000 - dense_1_acc_4: 0.8333 - dense_1_acc_5: 0.9333 - dense_1_acc_6: 0.9833 - dense_1_acc_7: 0.9833 - dense_1_acc_8: 1.0000 - dense_1_acc_9: 0.9667 - dense_1_acc_10: 1.0000 - dense_1_acc_11: 1.0000 - dense_1_acc_12: 1.0000 - dense_1_acc_13: 1.0000 - dense_1_acc_14: 1.0000 - dense_1_acc_15: 1.0000 - dense_1_acc_16: 1.0000 - dense_1_acc_17: 1.0000 - dense_1_acc_18: 1.0000 - dense_1_acc_19: 1.0000 - dense_1_acc_20: 1.0000 - dense_1_acc_21: 1.0000 - dense_1_acc_22: 1.0000 - dense_1_acc_23: 1.0000 - dense_1_acc_24: 1.0000 - dense_1_acc_25: 1.0000 - dense_1_acc_26: 1.0000 - dense_1_acc_27: 1.0000 - dense_1_acc_28: 0.9833 - dense_1_acc_29: 0.9833 - dense_1_acc_30: 0.0167     \n",
      "Epoch 41/100\n"
     ]
    },
    {
     "name": "stdout",
     "output_type": "stream",
     "text": [
      "60/60 [==============================] - 1s - loss: 16.4274 - dense_1_loss_1: 3.9555 - dense_1_loss_2: 2.4552 - dense_1_loss_3: 1.2482 - dense_1_loss_4: 0.7701 - dense_1_loss_5: 0.5267 - dense_1_loss_6: 0.4359 - dense_1_loss_7: 0.3766 - dense_1_loss_8: 0.3148 - dense_1_loss_9: 0.3961 - dense_1_loss_10: 0.3252 - dense_1_loss_11: 0.3206 - dense_1_loss_12: 0.2873 - dense_1_loss_13: 0.2712 - dense_1_loss_14: 0.2702 - dense_1_loss_15: 0.2845 - dense_1_loss_16: 0.2912 - dense_1_loss_17: 0.2815 - dense_1_loss_18: 0.2864 - dense_1_loss_19: 0.2763 - dense_1_loss_20: 0.3070 - dense_1_loss_21: 0.3212 - dense_1_loss_22: 0.2957 - dense_1_loss_23: 0.3025 - dense_1_loss_24: 0.2827 - dense_1_loss_25: 0.3155 - dense_1_loss_26: 0.2918 - dense_1_loss_27: 0.3110 - dense_1_loss_28: 0.2961 - dense_1_loss_29: 0.3304 - dense_1_loss_30: 0.0000e+00 - dense_1_acc_1: 0.0667 - dense_1_acc_2: 0.4500 - dense_1_acc_3: 0.7000 - dense_1_acc_4: 0.8333 - dense_1_acc_5: 0.9500 - dense_1_acc_6: 0.9833 - dense_1_acc_7: 0.9833 - dense_1_acc_8: 1.0000 - dense_1_acc_9: 0.9667 - dense_1_acc_10: 1.0000 - dense_1_acc_11: 1.0000 - dense_1_acc_12: 1.0000 - dense_1_acc_13: 1.0000 - dense_1_acc_14: 1.0000 - dense_1_acc_15: 1.0000 - dense_1_acc_16: 1.0000 - dense_1_acc_17: 1.0000 - dense_1_acc_18: 1.0000 - dense_1_acc_19: 1.0000 - dense_1_acc_20: 1.0000 - dense_1_acc_21: 1.0000 - dense_1_acc_22: 1.0000 - dense_1_acc_23: 1.0000 - dense_1_acc_24: 1.0000 - dense_1_acc_25: 1.0000 - dense_1_acc_26: 1.0000 - dense_1_acc_27: 1.0000 - dense_1_acc_28: 1.0000 - dense_1_acc_29: 0.9833 - dense_1_acc_30: 0.0167         \n",
      "Epoch 42/100\n",
      "60/60 [==============================] - 1s - loss: 15.5720 - dense_1_loss_1: 3.9490 - dense_1_loss_2: 2.4094 - dense_1_loss_3: 1.1985 - dense_1_loss_4: 0.7227 - dense_1_loss_5: 0.4863 - dense_1_loss_6: 0.3967 - dense_1_loss_7: 0.3493 - dense_1_loss_8: 0.2900 - dense_1_loss_9: 0.3642 - dense_1_loss_10: 0.3009 - dense_1_loss_11: 0.2966 - dense_1_loss_12: 0.2609 - dense_1_loss_13: 0.2397 - dense_1_loss_14: 0.2503 - dense_1_loss_15: 0.2640 - dense_1_loss_16: 0.2635 - dense_1_loss_17: 0.2538 - dense_1_loss_18: 0.2625 - dense_1_loss_19: 0.2453 - dense_1_loss_20: 0.2821 - dense_1_loss_21: 0.2858 - dense_1_loss_22: 0.2654 - dense_1_loss_23: 0.2734 - dense_1_loss_24: 0.2572 - dense_1_loss_25: 0.2919 - dense_1_loss_26: 0.2561 - dense_1_loss_27: 0.2865 - dense_1_loss_28: 0.2697 - dense_1_loss_29: 0.3003 - dense_1_loss_30: 0.0000e+00 - dense_1_acc_1: 0.0667 - dense_1_acc_2: 0.4833 - dense_1_acc_3: 0.7167 - dense_1_acc_4: 0.8500 - dense_1_acc_5: 0.9667 - dense_1_acc_6: 0.9833 - dense_1_acc_7: 0.9833 - dense_1_acc_8: 1.0000 - dense_1_acc_9: 0.9667 - dense_1_acc_10: 1.0000 - dense_1_acc_11: 1.0000 - dense_1_acc_12: 1.0000 - dense_1_acc_13: 1.0000 - dense_1_acc_14: 1.0000 - dense_1_acc_15: 1.0000 - dense_1_acc_16: 1.0000 - dense_1_acc_17: 1.0000 - dense_1_acc_18: 1.0000 - dense_1_acc_19: 1.0000 - dense_1_acc_20: 1.0000 - dense_1_acc_21: 1.0000 - dense_1_acc_22: 1.0000 - dense_1_acc_23: 1.0000 - dense_1_acc_24: 1.0000 - dense_1_acc_25: 1.0000 - dense_1_acc_26: 1.0000 - dense_1_acc_27: 1.0000 - dense_1_acc_28: 1.0000 - dense_1_acc_29: 0.9833 - dense_1_acc_30: 0.0167             \n",
      "Epoch 43/100\n",
      "60/60 [==============================] - 1s - loss: 14.8004 - dense_1_loss_1: 3.9440 - dense_1_loss_2: 2.3600 - dense_1_loss_3: 1.1516 - dense_1_loss_4: 0.6720 - dense_1_loss_5: 0.4500 - dense_1_loss_6: 0.3635 - dense_1_loss_7: 0.3204 - dense_1_loss_8: 0.2664 - dense_1_loss_9: 0.3345 - dense_1_loss_10: 0.2744 - dense_1_loss_11: 0.2762 - dense_1_loss_12: 0.2345 - dense_1_loss_13: 0.2220 - dense_1_loss_14: 0.2230 - dense_1_loss_15: 0.2462 - dense_1_loss_16: 0.2426 - dense_1_loss_17: 0.2333 - dense_1_loss_18: 0.2351 - dense_1_loss_19: 0.2287 - dense_1_loss_20: 0.2577 - dense_1_loss_21: 0.2556 - dense_1_loss_22: 0.2423 - dense_1_loss_23: 0.2496 - dense_1_loss_24: 0.2331 - dense_1_loss_25: 0.2644 - dense_1_loss_26: 0.2361 - dense_1_loss_27: 0.2614 - dense_1_loss_28: 0.2468 - dense_1_loss_29: 0.2750 - dense_1_loss_30: 0.0000e+00 - dense_1_acc_1: 0.0667 - dense_1_acc_2: 0.4833 - dense_1_acc_3: 0.7167 - dense_1_acc_4: 0.8833 - dense_1_acc_5: 0.9667 - dense_1_acc_6: 0.9833 - dense_1_acc_7: 1.0000 - dense_1_acc_8: 1.0000 - dense_1_acc_9: 0.9833 - dense_1_acc_10: 1.0000 - dense_1_acc_11: 1.0000 - dense_1_acc_12: 1.0000 - dense_1_acc_13: 1.0000 - dense_1_acc_14: 1.0000 - dense_1_acc_15: 1.0000 - dense_1_acc_16: 1.0000 - dense_1_acc_17: 1.0000 - dense_1_acc_18: 1.0000 - dense_1_acc_19: 1.0000 - dense_1_acc_20: 1.0000 - dense_1_acc_21: 1.0000 - dense_1_acc_22: 1.0000 - dense_1_acc_23: 1.0000 - dense_1_acc_24: 1.0000 - dense_1_acc_25: 1.0000 - dense_1_acc_26: 1.0000 - dense_1_acc_27: 1.0000 - dense_1_acc_28: 1.0000 - dense_1_acc_29: 0.9833 - dense_1_acc_30: 0.0167     \n",
      "Epoch 44/100\n",
      "60/60 [==============================] - 1s - loss: 14.1102 - dense_1_loss_1: 3.9384 - dense_1_loss_2: 2.3148 - dense_1_loss_3: 1.1067 - dense_1_loss_4: 0.6257 - dense_1_loss_5: 0.4144 - dense_1_loss_6: 0.3318 - dense_1_loss_7: 0.2948 - dense_1_loss_8: 0.2446 - dense_1_loss_9: 0.3041 - dense_1_loss_10: 0.2524 - dense_1_loss_11: 0.2512 - dense_1_loss_12: 0.2140 - dense_1_loss_13: 0.2006 - dense_1_loss_14: 0.2031 - dense_1_loss_15: 0.2250 - dense_1_loss_16: 0.2226 - dense_1_loss_17: 0.2138 - dense_1_loss_18: 0.2155 - dense_1_loss_19: 0.2157 - dense_1_loss_20: 0.2332 - dense_1_loss_21: 0.2341 - dense_1_loss_22: 0.2211 - dense_1_loss_23: 0.2303 - dense_1_loss_24: 0.2175 - dense_1_loss_25: 0.2397 - dense_1_loss_26: 0.2197 - dense_1_loss_27: 0.2414 - dense_1_loss_28: 0.2282 - dense_1_loss_29: 0.2557 - dense_1_loss_30: 0.0000e+00 - dense_1_acc_1: 0.0667 - dense_1_acc_2: 0.4833 - dense_1_acc_3: 0.7167 - dense_1_acc_4: 0.9000 - dense_1_acc_5: 0.9667 - dense_1_acc_6: 0.9833 - dense_1_acc_7: 1.0000 - dense_1_acc_8: 1.0000 - dense_1_acc_9: 0.9833 - dense_1_acc_10: 1.0000 - dense_1_acc_11: 1.0000 - dense_1_acc_12: 1.0000 - dense_1_acc_13: 1.0000 - dense_1_acc_14: 1.0000 - dense_1_acc_15: 1.0000 - dense_1_acc_16: 1.0000 - dense_1_acc_17: 1.0000 - dense_1_acc_18: 1.0000 - dense_1_acc_19: 1.0000 - dense_1_acc_20: 1.0000 - dense_1_acc_21: 1.0000 - dense_1_acc_22: 1.0000 - dense_1_acc_23: 1.0000 - dense_1_acc_24: 1.0000 - dense_1_acc_25: 1.0000 - dense_1_acc_26: 1.0000 - dense_1_acc_27: 1.0000 - dense_1_acc_28: 1.0000 - dense_1_acc_29: 0.9833 - dense_1_acc_30: 0.0167     \n",
      "Epoch 45/100\n",
      "60/60 [==============================] - 1s - loss: 13.4589 - dense_1_loss_1: 3.9339 - dense_1_loss_2: 2.2713 - dense_1_loss_3: 1.0638 - dense_1_loss_4: 0.5874 - dense_1_loss_5: 0.3831 - dense_1_loss_6: 0.3050 - dense_1_loss_7: 0.2693 - dense_1_loss_8: 0.2217 - dense_1_loss_9: 0.2803 - dense_1_loss_10: 0.2300 - dense_1_loss_11: 0.2303 - dense_1_loss_12: 0.1969 - dense_1_loss_13: 0.1823 - dense_1_loss_14: 0.1878 - dense_1_loss_15: 0.2040 - dense_1_loss_16: 0.2034 - dense_1_loss_17: 0.1975 - dense_1_loss_18: 0.1968 - dense_1_loss_19: 0.1945 - dense_1_loss_20: 0.2145 - dense_1_loss_21: 0.2166 - dense_1_loss_22: 0.2036 - dense_1_loss_23: 0.2083 - dense_1_loss_24: 0.1972 - dense_1_loss_25: 0.2209 - dense_1_loss_26: 0.2002 - dense_1_loss_27: 0.2143 - dense_1_loss_28: 0.2076 - dense_1_loss_29: 0.2365 - dense_1_loss_30: 0.0000e+00 - dense_1_acc_1: 0.0667 - dense_1_acc_2: 0.4833 - dense_1_acc_3: 0.7333 - dense_1_acc_4: 0.9167 - dense_1_acc_5: 0.9667 - dense_1_acc_6: 0.9833 - dense_1_acc_7: 1.0000 - dense_1_acc_8: 1.0000 - dense_1_acc_9: 0.9833 - dense_1_acc_10: 1.0000 - dense_1_acc_11: 1.0000 - dense_1_acc_12: 1.0000 - dense_1_acc_13: 1.0000 - dense_1_acc_14: 1.0000 - dense_1_acc_15: 1.0000 - dense_1_acc_16: 1.0000 - dense_1_acc_17: 1.0000 - dense_1_acc_18: 1.0000 - dense_1_acc_19: 1.0000 - dense_1_acc_20: 1.0000 - dense_1_acc_21: 1.0000 - dense_1_acc_22: 1.0000 - dense_1_acc_23: 1.0000 - dense_1_acc_24: 1.0000 - dense_1_acc_25: 1.0000 - dense_1_acc_26: 1.0000 - dense_1_acc_27: 1.0000 - dense_1_acc_28: 1.0000 - dense_1_acc_29: 0.9833 - dense_1_acc_30: 0.0167         \n",
      "Epoch 46/100\n"
     ]
    },
    {
     "name": "stdout",
     "output_type": "stream",
     "text": [
      "60/60 [==============================] - 1s - loss: 12.8831 - dense_1_loss_1: 3.9282 - dense_1_loss_2: 2.2278 - dense_1_loss_3: 1.0262 - dense_1_loss_4: 0.5487 - dense_1_loss_5: 0.3553 - dense_1_loss_6: 0.2841 - dense_1_loss_7: 0.2460 - dense_1_loss_8: 0.2054 - dense_1_loss_9: 0.2609 - dense_1_loss_10: 0.2110 - dense_1_loss_11: 0.2098 - dense_1_loss_12: 0.1827 - dense_1_loss_13: 0.1666 - dense_1_loss_14: 0.1692 - dense_1_loss_15: 0.1879 - dense_1_loss_16: 0.1876 - dense_1_loss_17: 0.1831 - dense_1_loss_18: 0.1793 - dense_1_loss_19: 0.1766 - dense_1_loss_20: 0.2005 - dense_1_loss_21: 0.1996 - dense_1_loss_22: 0.1862 - dense_1_loss_23: 0.1877 - dense_1_loss_24: 0.1757 - dense_1_loss_25: 0.2052 - dense_1_loss_26: 0.1825 - dense_1_loss_27: 0.1997 - dense_1_loss_28: 0.1895 - dense_1_loss_29: 0.2198 - dense_1_loss_30: 0.0000e+00 - dense_1_acc_1: 0.0667 - dense_1_acc_2: 0.4833 - dense_1_acc_3: 0.7667 - dense_1_acc_4: 0.9500 - dense_1_acc_5: 0.9667 - dense_1_acc_6: 0.9833 - dense_1_acc_7: 1.0000 - dense_1_acc_8: 1.0000 - dense_1_acc_9: 0.9833 - dense_1_acc_10: 1.0000 - dense_1_acc_11: 1.0000 - dense_1_acc_12: 1.0000 - dense_1_acc_13: 1.0000 - dense_1_acc_14: 1.0000 - dense_1_acc_15: 1.0000 - dense_1_acc_16: 1.0000 - dense_1_acc_17: 1.0000 - dense_1_acc_18: 1.0000 - dense_1_acc_19: 1.0000 - dense_1_acc_20: 1.0000 - dense_1_acc_21: 1.0000 - dense_1_acc_22: 1.0000 - dense_1_acc_23: 1.0000 - dense_1_acc_24: 1.0000 - dense_1_acc_25: 1.0000 - dense_1_acc_26: 1.0000 - dense_1_acc_27: 1.0000 - dense_1_acc_28: 1.0000 - dense_1_acc_29: 0.9833 - dense_1_acc_30: 0.0167         \n",
      "Epoch 47/100\n",
      "60/60 [==============================] - 1s - loss: 12.3531 - dense_1_loss_1: 3.9233 - dense_1_loss_2: 2.1865 - dense_1_loss_3: 0.9906 - dense_1_loss_4: 0.5152 - dense_1_loss_5: 0.3297 - dense_1_loss_6: 0.2617 - dense_1_loss_7: 0.2264 - dense_1_loss_8: 0.1901 - dense_1_loss_9: 0.2382 - dense_1_loss_10: 0.1944 - dense_1_loss_11: 0.1933 - dense_1_loss_12: 0.1667 - dense_1_loss_13: 0.1539 - dense_1_loss_14: 0.1543 - dense_1_loss_15: 0.1732 - dense_1_loss_16: 0.1730 - dense_1_loss_17: 0.1666 - dense_1_loss_18: 0.1682 - dense_1_loss_19: 0.1593 - dense_1_loss_20: 0.1819 - dense_1_loss_21: 0.1819 - dense_1_loss_22: 0.1684 - dense_1_loss_23: 0.1748 - dense_1_loss_24: 0.1621 - dense_1_loss_25: 0.1875 - dense_1_loss_26: 0.1670 - dense_1_loss_27: 0.1875 - dense_1_loss_28: 0.1781 - dense_1_loss_29: 0.1992 - dense_1_loss_30: 0.0000e+00 - dense_1_acc_1: 0.0667 - dense_1_acc_2: 0.4833 - dense_1_acc_3: 0.7667 - dense_1_acc_4: 0.9500 - dense_1_acc_5: 0.9667 - dense_1_acc_6: 1.0000 - dense_1_acc_7: 1.0000 - dense_1_acc_8: 1.0000 - dense_1_acc_9: 0.9833 - dense_1_acc_10: 1.0000 - dense_1_acc_11: 1.0000 - dense_1_acc_12: 1.0000 - dense_1_acc_13: 1.0000 - dense_1_acc_14: 1.0000 - dense_1_acc_15: 1.0000 - dense_1_acc_16: 1.0000 - dense_1_acc_17: 1.0000 - dense_1_acc_18: 1.0000 - dense_1_acc_19: 1.0000 - dense_1_acc_20: 1.0000 - dense_1_acc_21: 1.0000 - dense_1_acc_22: 1.0000 - dense_1_acc_23: 1.0000 - dense_1_acc_24: 1.0000 - dense_1_acc_25: 1.0000 - dense_1_acc_26: 1.0000 - dense_1_acc_27: 1.0000 - dense_1_acc_28: 1.0000 - dense_1_acc_29: 0.9833 - dense_1_acc_30: 0.0167         \n",
      "Epoch 48/100\n",
      "60/60 [==============================] - 1s - loss: 11.8709 - dense_1_loss_1: 3.9186 - dense_1_loss_2: 2.1460 - dense_1_loss_3: 0.9563 - dense_1_loss_4: 0.4835 - dense_1_loss_5: 0.3053 - dense_1_loss_6: 0.2424 - dense_1_loss_7: 0.2085 - dense_1_loss_8: 0.1756 - dense_1_loss_9: 0.2186 - dense_1_loss_10: 0.1777 - dense_1_loss_11: 0.1788 - dense_1_loss_12: 0.1536 - dense_1_loss_13: 0.1415 - dense_1_loss_14: 0.1442 - dense_1_loss_15: 0.1566 - dense_1_loss_16: 0.1605 - dense_1_loss_17: 0.1514 - dense_1_loss_18: 0.1542 - dense_1_loss_19: 0.1485 - dense_1_loss_20: 0.1674 - dense_1_loss_21: 0.1694 - dense_1_loss_22: 0.1552 - dense_1_loss_23: 0.1639 - dense_1_loss_24: 0.1500 - dense_1_loss_25: 0.1716 - dense_1_loss_26: 0.1557 - dense_1_loss_27: 0.1692 - dense_1_loss_28: 0.1633 - dense_1_loss_29: 0.1831 - dense_1_loss_30: 0.0000e+00 - dense_1_acc_1: 0.0667 - dense_1_acc_2: 0.4833 - dense_1_acc_3: 0.7833 - dense_1_acc_4: 0.9667 - dense_1_acc_5: 0.9667 - dense_1_acc_6: 1.0000 - dense_1_acc_7: 1.0000 - dense_1_acc_8: 1.0000 - dense_1_acc_9: 0.9833 - dense_1_acc_10: 1.0000 - dense_1_acc_11: 1.0000 - dense_1_acc_12: 1.0000 - dense_1_acc_13: 1.0000 - dense_1_acc_14: 1.0000 - dense_1_acc_15: 1.0000 - dense_1_acc_16: 1.0000 - dense_1_acc_17: 1.0000 - dense_1_acc_18: 1.0000 - dense_1_acc_19: 1.0000 - dense_1_acc_20: 1.0000 - dense_1_acc_21: 1.0000 - dense_1_acc_22: 1.0000 - dense_1_acc_23: 1.0000 - dense_1_acc_24: 1.0000 - dense_1_acc_25: 1.0000 - dense_1_acc_26: 1.0000 - dense_1_acc_27: 1.0000 - dense_1_acc_28: 1.0000 - dense_1_acc_29: 0.9833 - dense_1_acc_30: 0.0167         \n",
      "Epoch 49/100\n",
      "60/60 [==============================] - 1s - loss: 11.4420 - dense_1_loss_1: 3.9143 - dense_1_loss_2: 2.1074 - dense_1_loss_3: 0.9220 - dense_1_loss_4: 0.4544 - dense_1_loss_5: 0.2862 - dense_1_loss_6: 0.2267 - dense_1_loss_7: 0.1948 - dense_1_loss_8: 0.1644 - dense_1_loss_9: 0.2016 - dense_1_loss_10: 0.1667 - dense_1_loss_11: 0.1667 - dense_1_loss_12: 0.1415 - dense_1_loss_13: 0.1304 - dense_1_loss_14: 0.1342 - dense_1_loss_15: 0.1471 - dense_1_loss_16: 0.1486 - dense_1_loss_17: 0.1388 - dense_1_loss_18: 0.1406 - dense_1_loss_19: 0.1383 - dense_1_loss_20: 0.1555 - dense_1_loss_21: 0.1560 - dense_1_loss_22: 0.1439 - dense_1_loss_23: 0.1479 - dense_1_loss_24: 0.1375 - dense_1_loss_25: 0.1570 - dense_1_loss_26: 0.1464 - dense_1_loss_27: 0.1547 - dense_1_loss_28: 0.1481 - dense_1_loss_29: 0.1702 - dense_1_loss_30: 0.0000e+00 - dense_1_acc_1: 0.0667 - dense_1_acc_2: 0.5000 - dense_1_acc_3: 0.7833 - dense_1_acc_4: 0.9667 - dense_1_acc_5: 0.9833 - dense_1_acc_6: 1.0000 - dense_1_acc_7: 1.0000 - dense_1_acc_8: 1.0000 - dense_1_acc_9: 0.9833 - dense_1_acc_10: 1.0000 - dense_1_acc_11: 1.0000 - dense_1_acc_12: 1.0000 - dense_1_acc_13: 1.0000 - dense_1_acc_14: 1.0000 - dense_1_acc_15: 1.0000 - dense_1_acc_16: 1.0000 - dense_1_acc_17: 1.0000 - dense_1_acc_18: 1.0000 - dense_1_acc_19: 1.0000 - dense_1_acc_20: 1.0000 - dense_1_acc_21: 1.0000 - dense_1_acc_22: 1.0000 - dense_1_acc_23: 1.0000 - dense_1_acc_24: 1.0000 - dense_1_acc_25: 1.0000 - dense_1_acc_26: 1.0000 - dense_1_acc_27: 1.0000 - dense_1_acc_28: 1.0000 - dense_1_acc_29: 0.9833 - dense_1_acc_30: 0.0167         \n",
      "Epoch 50/100\n",
      "60/60 [==============================] - 1s - loss: 11.0450 - dense_1_loss_1: 3.9096 - dense_1_loss_2: 2.0704 - dense_1_loss_3: 0.8912 - dense_1_loss_4: 0.4247 - dense_1_loss_5: 0.2674 - dense_1_loss_6: 0.2096 - dense_1_loss_7: 0.1807 - dense_1_loss_8: 0.1528 - dense_1_loss_9: 0.1862 - dense_1_loss_10: 0.1552 - dense_1_loss_11: 0.1532 - dense_1_loss_12: 0.1297 - dense_1_loss_13: 0.1214 - dense_1_loss_14: 0.1226 - dense_1_loss_15: 0.1383 - dense_1_loss_16: 0.1354 - dense_1_loss_17: 0.1320 - dense_1_loss_18: 0.1306 - dense_1_loss_19: 0.1281 - dense_1_loss_20: 0.1425 - dense_1_loss_21: 0.1432 - dense_1_loss_22: 0.1331 - dense_1_loss_23: 0.1353 - dense_1_loss_24: 0.1258 - dense_1_loss_25: 0.1443 - dense_1_loss_26: 0.1379 - dense_1_loss_27: 0.1467 - dense_1_loss_28: 0.1373 - dense_1_loss_29: 0.1597 - dense_1_loss_30: 0.0000e+00 - dense_1_acc_1: 0.0667 - dense_1_acc_2: 0.5167 - dense_1_acc_3: 0.7833 - dense_1_acc_4: 0.9667 - dense_1_acc_5: 0.9833 - dense_1_acc_6: 1.0000 - dense_1_acc_7: 1.0000 - dense_1_acc_8: 1.0000 - dense_1_acc_9: 1.0000 - dense_1_acc_10: 1.0000 - dense_1_acc_11: 1.0000 - dense_1_acc_12: 1.0000 - dense_1_acc_13: 1.0000 - dense_1_acc_14: 1.0000 - dense_1_acc_15: 1.0000 - dense_1_acc_16: 1.0000 - dense_1_acc_17: 1.0000 - dense_1_acc_18: 1.0000 - dense_1_acc_19: 1.0000 - dense_1_acc_20: 1.0000 - dense_1_acc_21: 1.0000 - dense_1_acc_22: 1.0000 - dense_1_acc_23: 1.0000 - dense_1_acc_24: 1.0000 - dense_1_acc_25: 1.0000 - dense_1_acc_26: 1.0000 - dense_1_acc_27: 1.0000 - dense_1_acc_28: 1.0000 - dense_1_acc_29: 0.9833 - dense_1_acc_30: 0.0167     \n",
      "Epoch 51/100\n"
     ]
    },
    {
     "name": "stdout",
     "output_type": "stream",
     "text": [
      "60/60 [==============================] - 1s - loss: 10.6842 - dense_1_loss_1: 3.9051 - dense_1_loss_2: 2.0334 - dense_1_loss_3: 0.8630 - dense_1_loss_4: 0.4021 - dense_1_loss_5: 0.2498 - dense_1_loss_6: 0.1967 - dense_1_loss_7: 0.1653 - dense_1_loss_8: 0.1420 - dense_1_loss_9: 0.1745 - dense_1_loss_10: 0.1386 - dense_1_loss_11: 0.1433 - dense_1_loss_12: 0.1212 - dense_1_loss_13: 0.1137 - dense_1_loss_14: 0.1154 - dense_1_loss_15: 0.1222 - dense_1_loss_16: 0.1279 - dense_1_loss_17: 0.1221 - dense_1_loss_18: 0.1212 - dense_1_loss_19: 0.1205 - dense_1_loss_20: 0.1313 - dense_1_loss_21: 0.1326 - dense_1_loss_22: 0.1255 - dense_1_loss_23: 0.1253 - dense_1_loss_24: 0.1172 - dense_1_loss_25: 0.1361 - dense_1_loss_26: 0.1277 - dense_1_loss_27: 0.1360 - dense_1_loss_28: 0.1291 - dense_1_loss_29: 0.1454 - dense_1_loss_30: 0.0000e+00 - dense_1_acc_1: 0.0667 - dense_1_acc_2: 0.5167 - dense_1_acc_3: 0.8167 - dense_1_acc_4: 0.9667 - dense_1_acc_5: 0.9833 - dense_1_acc_6: 1.0000 - dense_1_acc_7: 1.0000 - dense_1_acc_8: 1.0000 - dense_1_acc_9: 1.0000 - dense_1_acc_10: 1.0000 - dense_1_acc_11: 1.0000 - dense_1_acc_12: 1.0000 - dense_1_acc_13: 1.0000 - dense_1_acc_14: 1.0000 - dense_1_acc_15: 1.0000 - dense_1_acc_16: 1.0000 - dense_1_acc_17: 1.0000 - dense_1_acc_18: 1.0000 - dense_1_acc_19: 1.0000 - dense_1_acc_20: 1.0000 - dense_1_acc_21: 1.0000 - dense_1_acc_22: 1.0000 - dense_1_acc_23: 1.0000 - dense_1_acc_24: 1.0000 - dense_1_acc_25: 1.0000 - dense_1_acc_26: 1.0000 - dense_1_acc_27: 1.0000 - dense_1_acc_28: 1.0000 - dense_1_acc_29: 1.0000 - dense_1_acc_30: 0.0167     \n",
      "Epoch 52/100\n",
      "60/60 [==============================] - 1s - loss: 10.3561 - dense_1_loss_1: 3.9009 - dense_1_loss_2: 1.9994 - dense_1_loss_3: 0.8356 - dense_1_loss_4: 0.3794 - dense_1_loss_5: 0.2341 - dense_1_loss_6: 0.1830 - dense_1_loss_7: 0.1533 - dense_1_loss_8: 0.1327 - dense_1_loss_9: 0.1612 - dense_1_loss_10: 0.1301 - dense_1_loss_11: 0.1324 - dense_1_loss_12: 0.1122 - dense_1_loss_13: 0.1053 - dense_1_loss_14: 0.1066 - dense_1_loss_15: 0.1147 - dense_1_loss_16: 0.1190 - dense_1_loss_17: 0.1136 - dense_1_loss_18: 0.1138 - dense_1_loss_19: 0.1114 - dense_1_loss_20: 0.1219 - dense_1_loss_21: 0.1254 - dense_1_loss_22: 0.1149 - dense_1_loss_23: 0.1177 - dense_1_loss_24: 0.1091 - dense_1_loss_25: 0.1293 - dense_1_loss_26: 0.1170 - dense_1_loss_27: 0.1260 - dense_1_loss_28: 0.1222 - dense_1_loss_29: 0.1340 - dense_1_loss_30: 0.0000e+00 - dense_1_acc_1: 0.0667 - dense_1_acc_2: 0.5167 - dense_1_acc_3: 0.8167 - dense_1_acc_4: 0.9667 - dense_1_acc_5: 0.9833 - dense_1_acc_6: 1.0000 - dense_1_acc_7: 1.0000 - dense_1_acc_8: 1.0000 - dense_1_acc_9: 1.0000 - dense_1_acc_10: 1.0000 - dense_1_acc_11: 1.0000 - dense_1_acc_12: 1.0000 - dense_1_acc_13: 1.0000 - dense_1_acc_14: 1.0000 - dense_1_acc_15: 1.0000 - dense_1_acc_16: 1.0000 - dense_1_acc_17: 1.0000 - dense_1_acc_18: 1.0000 - dense_1_acc_19: 1.0000 - dense_1_acc_20: 1.0000 - dense_1_acc_21: 1.0000 - dense_1_acc_22: 1.0000 - dense_1_acc_23: 1.0000 - dense_1_acc_24: 1.0000 - dense_1_acc_25: 1.0000 - dense_1_acc_26: 1.0000 - dense_1_acc_27: 1.0000 - dense_1_acc_28: 1.0000 - dense_1_acc_29: 1.0000 - dense_1_acc_30: 0.0167        \n",
      "Epoch 53/100\n",
      "60/60 [==============================] - 1s - loss: 10.0602 - dense_1_loss_1: 3.8965 - dense_1_loss_2: 1.9651 - dense_1_loss_3: 0.8104 - dense_1_loss_4: 0.3571 - dense_1_loss_5: 0.2206 - dense_1_loss_6: 0.1710 - dense_1_loss_7: 0.1449 - dense_1_loss_8: 0.1250 - dense_1_loss_9: 0.1499 - dense_1_loss_10: 0.1246 - dense_1_loss_11: 0.1236 - dense_1_loss_12: 0.1045 - dense_1_loss_13: 0.0967 - dense_1_loss_14: 0.0995 - dense_1_loss_15: 0.1102 - dense_1_loss_16: 0.1112 - dense_1_loss_17: 0.1041 - dense_1_loss_18: 0.1064 - dense_1_loss_19: 0.1018 - dense_1_loss_20: 0.1150 - dense_1_loss_21: 0.1158 - dense_1_loss_22: 0.1063 - dense_1_loss_23: 0.1085 - dense_1_loss_24: 0.1026 - dense_1_loss_25: 0.1184 - dense_1_loss_26: 0.1110 - dense_1_loss_27: 0.1194 - dense_1_loss_28: 0.1128 - dense_1_loss_29: 0.1271 - dense_1_loss_30: 0.0000e+00 - dense_1_acc_1: 0.0667 - dense_1_acc_2: 0.5000 - dense_1_acc_3: 0.8333 - dense_1_acc_4: 0.9667 - dense_1_acc_5: 0.9833 - dense_1_acc_6: 1.0000 - dense_1_acc_7: 1.0000 - dense_1_acc_8: 1.0000 - dense_1_acc_9: 1.0000 - dense_1_acc_10: 1.0000 - dense_1_acc_11: 1.0000 - dense_1_acc_12: 1.0000 - dense_1_acc_13: 1.0000 - dense_1_acc_14: 1.0000 - dense_1_acc_15: 1.0000 - dense_1_acc_16: 1.0000 - dense_1_acc_17: 1.0000 - dense_1_acc_18: 1.0000 - dense_1_acc_19: 1.0000 - dense_1_acc_20: 1.0000 - dense_1_acc_21: 1.0000 - dense_1_acc_22: 1.0000 - dense_1_acc_23: 1.0000 - dense_1_acc_24: 1.0000 - dense_1_acc_25: 1.0000 - dense_1_acc_26: 1.0000 - dense_1_acc_27: 1.0000 - dense_1_acc_28: 1.0000 - dense_1_acc_29: 1.0000 - dense_1_acc_30: 0.0167         \n",
      "Epoch 54/100\n",
      "60/60 [==============================] - 1s - loss: 9.7885 - dense_1_loss_1: 3.8925 - dense_1_loss_2: 1.9331 - dense_1_loss_3: 0.7853 - dense_1_loss_4: 0.3368 - dense_1_loss_5: 0.2077 - dense_1_loss_6: 0.1611 - dense_1_loss_7: 0.1352 - dense_1_loss_8: 0.1175 - dense_1_loss_9: 0.1403 - dense_1_loss_10: 0.1166 - dense_1_loss_11: 0.1147 - dense_1_loss_12: 0.0983 - dense_1_loss_13: 0.0901 - dense_1_loss_14: 0.0934 - dense_1_loss_15: 0.1026 - dense_1_loss_16: 0.1040 - dense_1_loss_17: 0.0979 - dense_1_loss_18: 0.0983 - dense_1_loss_19: 0.0962 - dense_1_loss_20: 0.1081 - dense_1_loss_21: 0.1091 - dense_1_loss_22: 0.1003 - dense_1_loss_23: 0.1002 - dense_1_loss_24: 0.0955 - dense_1_loss_25: 0.1099 - dense_1_loss_26: 0.1065 - dense_1_loss_27: 0.1109 - dense_1_loss_28: 0.1042 - dense_1_loss_29: 0.1221 - dense_1_loss_30: 0.0000e+00 - dense_1_acc_1: 0.0667 - dense_1_acc_2: 0.5167 - dense_1_acc_3: 0.8500 - dense_1_acc_4: 0.9667 - dense_1_acc_5: 0.9833 - dense_1_acc_6: 1.0000 - dense_1_acc_7: 1.0000 - dense_1_acc_8: 1.0000 - dense_1_acc_9: 1.0000 - dense_1_acc_10: 1.0000 - dense_1_acc_11: 1.0000 - dense_1_acc_12: 1.0000 - dense_1_acc_13: 1.0000 - dense_1_acc_14: 1.0000 - dense_1_acc_15: 1.0000 - dense_1_acc_16: 1.0000 - dense_1_acc_17: 1.0000 - dense_1_acc_18: 1.0000 - dense_1_acc_19: 1.0000 - dense_1_acc_20: 1.0000 - dense_1_acc_21: 1.0000 - dense_1_acc_22: 1.0000 - dense_1_acc_23: 1.0000 - dense_1_acc_24: 1.0000 - dense_1_acc_25: 1.0000 - dense_1_acc_26: 1.0000 - dense_1_acc_27: 1.0000 - dense_1_acc_28: 1.0000 - dense_1_acc_29: 1.0000 - dense_1_acc_30: 0.0167         \n",
      "Epoch 55/100\n",
      "60/60 [==============================] - 1s - loss: 9.5393 - dense_1_loss_1: 3.8882 - dense_1_loss_2: 1.9009 - dense_1_loss_3: 0.7629 - dense_1_loss_4: 0.3207 - dense_1_loss_5: 0.1972 - dense_1_loss_6: 0.1527 - dense_1_loss_7: 0.1263 - dense_1_loss_8: 0.1106 - dense_1_loss_9: 0.1319 - dense_1_loss_10: 0.1070 - dense_1_loss_11: 0.1081 - dense_1_loss_12: 0.0925 - dense_1_loss_13: 0.0855 - dense_1_loss_14: 0.0878 - dense_1_loss_15: 0.0937 - dense_1_loss_16: 0.0980 - dense_1_loss_17: 0.0928 - dense_1_loss_18: 0.0921 - dense_1_loss_19: 0.0904 - dense_1_loss_20: 0.1014 - dense_1_loss_21: 0.1026 - dense_1_loss_22: 0.0950 - dense_1_loss_23: 0.0943 - dense_1_loss_24: 0.0899 - dense_1_loss_25: 0.1043 - dense_1_loss_26: 0.0988 - dense_1_loss_27: 0.1036 - dense_1_loss_28: 0.0993 - dense_1_loss_29: 0.1109 - dense_1_loss_30: 0.0000e+00 - dense_1_acc_1: 0.0667 - dense_1_acc_2: 0.5167 - dense_1_acc_3: 0.8667 - dense_1_acc_4: 0.9667 - dense_1_acc_5: 0.9833 - dense_1_acc_6: 1.0000 - dense_1_acc_7: 1.0000 - dense_1_acc_8: 1.0000 - dense_1_acc_9: 1.0000 - dense_1_acc_10: 1.0000 - dense_1_acc_11: 1.0000 - dense_1_acc_12: 1.0000 - dense_1_acc_13: 1.0000 - dense_1_acc_14: 1.0000 - dense_1_acc_15: 1.0000 - dense_1_acc_16: 1.0000 - dense_1_acc_17: 1.0000 - dense_1_acc_18: 1.0000 - dense_1_acc_19: 1.0000 - dense_1_acc_20: 1.0000 - dense_1_acc_21: 1.0000 - dense_1_acc_22: 1.0000 - dense_1_acc_23: 1.0000 - dense_1_acc_24: 1.0000 - dense_1_acc_25: 1.0000 - dense_1_acc_26: 1.0000 - dense_1_acc_27: 1.0000 - dense_1_acc_28: 1.0000 - dense_1_acc_29: 1.0000 - dense_1_acc_30: 0.0167          \n",
      "Epoch 56/100\n"
     ]
    },
    {
     "name": "stdout",
     "output_type": "stream",
     "text": [
      "60/60 [==============================] - 1s - loss: 9.3065 - dense_1_loss_1: 3.8843 - dense_1_loss_2: 1.8719 - dense_1_loss_3: 0.7413 - dense_1_loss_4: 0.3044 - dense_1_loss_5: 0.1853 - dense_1_loss_6: 0.1425 - dense_1_loss_7: 0.1187 - dense_1_loss_8: 0.1037 - dense_1_loss_9: 0.1230 - dense_1_loss_10: 0.1008 - dense_1_loss_11: 0.1024 - dense_1_loss_12: 0.0863 - dense_1_loss_13: 0.0811 - dense_1_loss_14: 0.0818 - dense_1_loss_15: 0.0885 - dense_1_loss_16: 0.0916 - dense_1_loss_17: 0.0882 - dense_1_loss_18: 0.0881 - dense_1_loss_19: 0.0843 - dense_1_loss_20: 0.0945 - dense_1_loss_21: 0.0964 - dense_1_loss_22: 0.0887 - dense_1_loss_23: 0.0894 - dense_1_loss_24: 0.0849 - dense_1_loss_25: 0.0973 - dense_1_loss_26: 0.0912 - dense_1_loss_27: 0.0988 - dense_1_loss_28: 0.0945 - dense_1_loss_29: 0.1028 - dense_1_loss_30: 0.0000e+00 - dense_1_acc_1: 0.0667 - dense_1_acc_2: 0.5167 - dense_1_acc_3: 0.8667 - dense_1_acc_4: 0.9667 - dense_1_acc_5: 1.0000 - dense_1_acc_6: 1.0000 - dense_1_acc_7: 1.0000 - dense_1_acc_8: 1.0000 - dense_1_acc_9: 1.0000 - dense_1_acc_10: 1.0000 - dense_1_acc_11: 1.0000 - dense_1_acc_12: 1.0000 - dense_1_acc_13: 1.0000 - dense_1_acc_14: 1.0000 - dense_1_acc_15: 1.0000 - dense_1_acc_16: 1.0000 - dense_1_acc_17: 1.0000 - dense_1_acc_18: 1.0000 - dense_1_acc_19: 1.0000 - dense_1_acc_20: 1.0000 - dense_1_acc_21: 1.0000 - dense_1_acc_22: 1.0000 - dense_1_acc_23: 1.0000 - dense_1_acc_24: 1.0000 - dense_1_acc_25: 1.0000 - dense_1_acc_26: 1.0000 - dense_1_acc_27: 1.0000 - dense_1_acc_28: 1.0000 - dense_1_acc_29: 1.0000 - dense_1_acc_30: 0.0167         \n",
      "Epoch 57/100\n",
      "60/60 [==============================] - 1s - loss: 9.0946 - dense_1_loss_1: 3.8805 - dense_1_loss_2: 1.8421 - dense_1_loss_3: 0.7211 - dense_1_loss_4: 0.2892 - dense_1_loss_5: 0.1758 - dense_1_loss_6: 0.1347 - dense_1_loss_7: 0.1119 - dense_1_loss_8: 0.0989 - dense_1_loss_9: 0.1149 - dense_1_loss_10: 0.0944 - dense_1_loss_11: 0.0969 - dense_1_loss_12: 0.0818 - dense_1_loss_13: 0.0763 - dense_1_loss_14: 0.0762 - dense_1_loss_15: 0.0839 - dense_1_loss_16: 0.0862 - dense_1_loss_17: 0.0821 - dense_1_loss_18: 0.0829 - dense_1_loss_19: 0.0793 - dense_1_loss_20: 0.0888 - dense_1_loss_21: 0.0901 - dense_1_loss_22: 0.0837 - dense_1_loss_23: 0.0834 - dense_1_loss_24: 0.0803 - dense_1_loss_25: 0.0910 - dense_1_loss_26: 0.0867 - dense_1_loss_27: 0.0951 - dense_1_loss_28: 0.0895 - dense_1_loss_29: 0.0970 - dense_1_loss_30: 0.0000e+00 - dense_1_acc_1: 0.0667 - dense_1_acc_2: 0.5167 - dense_1_acc_3: 0.8833 - dense_1_acc_4: 0.9667 - dense_1_acc_5: 1.0000 - dense_1_acc_6: 1.0000 - dense_1_acc_7: 1.0000 - dense_1_acc_8: 1.0000 - dense_1_acc_9: 1.0000 - dense_1_acc_10: 1.0000 - dense_1_acc_11: 1.0000 - dense_1_acc_12: 1.0000 - dense_1_acc_13: 1.0000 - dense_1_acc_14: 1.0000 - dense_1_acc_15: 1.0000 - dense_1_acc_16: 1.0000 - dense_1_acc_17: 1.0000 - dense_1_acc_18: 1.0000 - dense_1_acc_19: 1.0000 - dense_1_acc_20: 1.0000 - dense_1_acc_21: 1.0000 - dense_1_acc_22: 1.0000 - dense_1_acc_23: 1.0000 - dense_1_acc_24: 1.0000 - dense_1_acc_25: 1.0000 - dense_1_acc_26: 1.0000 - dense_1_acc_27: 1.0000 - dense_1_acc_28: 1.0000 - dense_1_acc_29: 1.0000 - dense_1_acc_30: 0.0167         \n",
      "Epoch 58/100\n",
      "60/60 [==============================] - 1s - loss: 8.9008 - dense_1_loss_1: 3.8766 - dense_1_loss_2: 1.8137 - dense_1_loss_3: 0.7030 - dense_1_loss_4: 0.2753 - dense_1_loss_5: 0.1665 - dense_1_loss_6: 0.1288 - dense_1_loss_7: 0.1052 - dense_1_loss_8: 0.0944 - dense_1_loss_9: 0.1080 - dense_1_loss_10: 0.0878 - dense_1_loss_11: 0.0920 - dense_1_loss_12: 0.0772 - dense_1_loss_13: 0.0713 - dense_1_loss_14: 0.0724 - dense_1_loss_15: 0.0789 - dense_1_loss_16: 0.0828 - dense_1_loss_17: 0.0768 - dense_1_loss_18: 0.0765 - dense_1_loss_19: 0.0771 - dense_1_loss_20: 0.0844 - dense_1_loss_21: 0.0850 - dense_1_loss_22: 0.0797 - dense_1_loss_23: 0.0779 - dense_1_loss_24: 0.0758 - dense_1_loss_25: 0.0852 - dense_1_loss_26: 0.0827 - dense_1_loss_27: 0.0901 - dense_1_loss_28: 0.0834 - dense_1_loss_29: 0.0922 - dense_1_loss_30: 0.0000e+00 - dense_1_acc_1: 0.0667 - dense_1_acc_2: 0.5167 - dense_1_acc_3: 0.8833 - dense_1_acc_4: 0.9667 - dense_1_acc_5: 1.0000 - dense_1_acc_6: 1.0000 - dense_1_acc_7: 1.0000 - dense_1_acc_8: 1.0000 - dense_1_acc_9: 1.0000 - dense_1_acc_10: 1.0000 - dense_1_acc_11: 1.0000 - dense_1_acc_12: 1.0000 - dense_1_acc_13: 1.0000 - dense_1_acc_14: 1.0000 - dense_1_acc_15: 1.0000 - dense_1_acc_16: 1.0000 - dense_1_acc_17: 1.0000 - dense_1_acc_18: 1.0000 - dense_1_acc_19: 1.0000 - dense_1_acc_20: 1.0000 - dense_1_acc_21: 1.0000 - dense_1_acc_22: 1.0000 - dense_1_acc_23: 1.0000 - dense_1_acc_24: 1.0000 - dense_1_acc_25: 1.0000 - dense_1_acc_26: 1.0000 - dense_1_acc_27: 1.0000 - dense_1_acc_28: 1.0000 - dense_1_acc_29: 1.0000 - dense_1_acc_30: 0.0167     \n",
      "Epoch 59/100\n",
      "60/60 [==============================] - 1s - loss: 8.7181 - dense_1_loss_1: 3.8731 - dense_1_loss_2: 1.7873 - dense_1_loss_3: 0.6831 - dense_1_loss_4: 0.2636 - dense_1_loss_5: 0.1578 - dense_1_loss_6: 0.1221 - dense_1_loss_7: 0.1004 - dense_1_loss_8: 0.0884 - dense_1_loss_9: 0.1027 - dense_1_loss_10: 0.0831 - dense_1_loss_11: 0.0873 - dense_1_loss_12: 0.0734 - dense_1_loss_13: 0.0670 - dense_1_loss_14: 0.0690 - dense_1_loss_15: 0.0748 - dense_1_loss_16: 0.0777 - dense_1_loss_17: 0.0729 - dense_1_loss_18: 0.0728 - dense_1_loss_19: 0.0713 - dense_1_loss_20: 0.0794 - dense_1_loss_21: 0.0813 - dense_1_loss_22: 0.0748 - dense_1_loss_23: 0.0744 - dense_1_loss_24: 0.0715 - dense_1_loss_25: 0.0818 - dense_1_loss_26: 0.0776 - dense_1_loss_27: 0.0832 - dense_1_loss_28: 0.0785 - dense_1_loss_29: 0.0878 - dense_1_loss_30: 0.0000e+00 - dense_1_acc_1: 0.0667 - dense_1_acc_2: 0.5167 - dense_1_acc_3: 0.8833 - dense_1_acc_4: 0.9667 - dense_1_acc_5: 1.0000 - dense_1_acc_6: 1.0000 - dense_1_acc_7: 1.0000 - dense_1_acc_8: 1.0000 - dense_1_acc_9: 1.0000 - dense_1_acc_10: 1.0000 - dense_1_acc_11: 1.0000 - dense_1_acc_12: 1.0000 - dense_1_acc_13: 1.0000 - dense_1_acc_14: 1.0000 - dense_1_acc_15: 1.0000 - dense_1_acc_16: 1.0000 - dense_1_acc_17: 1.0000 - dense_1_acc_18: 1.0000 - dense_1_acc_19: 1.0000 - dense_1_acc_20: 1.0000 - dense_1_acc_21: 1.0000 - dense_1_acc_22: 1.0000 - dense_1_acc_23: 1.0000 - dense_1_acc_24: 1.0000 - dense_1_acc_25: 1.0000 - dense_1_acc_26: 1.0000 - dense_1_acc_27: 1.0000 - dense_1_acc_28: 1.0000 - dense_1_acc_29: 1.0000 - dense_1_acc_30: 0.0167     \n",
      "Epoch 60/100\n",
      "60/60 [==============================] - 1s - loss: 8.5512 - dense_1_loss_1: 3.8694 - dense_1_loss_2: 1.7610 - dense_1_loss_3: 0.6665 - dense_1_loss_4: 0.2516 - dense_1_loss_5: 0.1501 - dense_1_loss_6: 0.1154 - dense_1_loss_7: 0.0956 - dense_1_loss_8: 0.0834 - dense_1_loss_9: 0.0964 - dense_1_loss_10: 0.0793 - dense_1_loss_11: 0.0824 - dense_1_loss_12: 0.0695 - dense_1_loss_13: 0.0637 - dense_1_loss_14: 0.0652 - dense_1_loss_15: 0.0719 - dense_1_loss_16: 0.0733 - dense_1_loss_17: 0.0698 - dense_1_loss_18: 0.0699 - dense_1_loss_19: 0.0667 - dense_1_loss_20: 0.0751 - dense_1_loss_21: 0.0766 - dense_1_loss_22: 0.0707 - dense_1_loss_23: 0.0709 - dense_1_loss_24: 0.0682 - dense_1_loss_25: 0.0773 - dense_1_loss_26: 0.0740 - dense_1_loss_27: 0.0790 - dense_1_loss_28: 0.0752 - dense_1_loss_29: 0.0831 - dense_1_loss_30: 0.0000e+00 - dense_1_acc_1: 0.0667 - dense_1_acc_2: 0.5667 - dense_1_acc_3: 0.8833 - dense_1_acc_4: 0.9667 - dense_1_acc_5: 1.0000 - dense_1_acc_6: 1.0000 - dense_1_acc_7: 1.0000 - dense_1_acc_8: 1.0000 - dense_1_acc_9: 1.0000 - dense_1_acc_10: 1.0000 - dense_1_acc_11: 1.0000 - dense_1_acc_12: 1.0000 - dense_1_acc_13: 1.0000 - dense_1_acc_14: 1.0000 - dense_1_acc_15: 1.0000 - dense_1_acc_16: 1.0000 - dense_1_acc_17: 1.0000 - dense_1_acc_18: 1.0000 - dense_1_acc_19: 1.0000 - dense_1_acc_20: 1.0000 - dense_1_acc_21: 1.0000 - dense_1_acc_22: 1.0000 - dense_1_acc_23: 1.0000 - dense_1_acc_24: 1.0000 - dense_1_acc_25: 1.0000 - dense_1_acc_26: 1.0000 - dense_1_acc_27: 1.0000 - dense_1_acc_28: 1.0000 - dense_1_acc_29: 1.0000 - dense_1_acc_30: 0.0167         \n",
      "Epoch 61/100\n"
     ]
    },
    {
     "name": "stdout",
     "output_type": "stream",
     "text": [
      "60/60 [==============================] - 1s - loss: 8.3953 - dense_1_loss_1: 3.8657 - dense_1_loss_2: 1.7368 - dense_1_loss_3: 0.6494 - dense_1_loss_4: 0.2402 - dense_1_loss_5: 0.1439 - dense_1_loss_6: 0.1105 - dense_1_loss_7: 0.0911 - dense_1_loss_8: 0.0795 - dense_1_loss_9: 0.0915 - dense_1_loss_10: 0.0749 - dense_1_loss_11: 0.0781 - dense_1_loss_12: 0.0658 - dense_1_loss_13: 0.0606 - dense_1_loss_14: 0.0613 - dense_1_loss_15: 0.0675 - dense_1_loss_16: 0.0700 - dense_1_loss_17: 0.0663 - dense_1_loss_18: 0.0663 - dense_1_loss_19: 0.0634 - dense_1_loss_20: 0.0716 - dense_1_loss_21: 0.0719 - dense_1_loss_22: 0.0672 - dense_1_loss_23: 0.0668 - dense_1_loss_24: 0.0645 - dense_1_loss_25: 0.0731 - dense_1_loss_26: 0.0709 - dense_1_loss_27: 0.0756 - dense_1_loss_28: 0.0719 - dense_1_loss_29: 0.0789 - dense_1_loss_30: 0.0000e+00 - dense_1_acc_1: 0.0667 - dense_1_acc_2: 0.5667 - dense_1_acc_3: 0.8833 - dense_1_acc_4: 0.9833 - dense_1_acc_5: 1.0000 - dense_1_acc_6: 1.0000 - dense_1_acc_7: 1.0000 - dense_1_acc_8: 1.0000 - dense_1_acc_9: 1.0000 - dense_1_acc_10: 1.0000 - dense_1_acc_11: 1.0000 - dense_1_acc_12: 1.0000 - dense_1_acc_13: 1.0000 - dense_1_acc_14: 1.0000 - dense_1_acc_15: 1.0000 - dense_1_acc_16: 1.0000 - dense_1_acc_17: 1.0000 - dense_1_acc_18: 1.0000 - dense_1_acc_19: 1.0000 - dense_1_acc_20: 1.0000 - dense_1_acc_21: 1.0000 - dense_1_acc_22: 1.0000 - dense_1_acc_23: 1.0000 - dense_1_acc_24: 1.0000 - dense_1_acc_25: 1.0000 - dense_1_acc_26: 1.0000 - dense_1_acc_27: 1.0000 - dense_1_acc_28: 1.0000 - dense_1_acc_29: 1.0000 - dense_1_acc_30: 0.0167         \n",
      "Epoch 62/100\n",
      "60/60 [==============================] - 1s - loss: 8.2542 - dense_1_loss_1: 3.8622 - dense_1_loss_2: 1.7119 - dense_1_loss_3: 0.6335 - dense_1_loss_4: 0.2310 - dense_1_loss_5: 0.1380 - dense_1_loss_6: 0.1057 - dense_1_loss_7: 0.0861 - dense_1_loss_8: 0.0767 - dense_1_loss_9: 0.0862 - dense_1_loss_10: 0.0717 - dense_1_loss_11: 0.0739 - dense_1_loss_12: 0.0627 - dense_1_loss_13: 0.0577 - dense_1_loss_14: 0.0582 - dense_1_loss_15: 0.0641 - dense_1_loss_16: 0.0672 - dense_1_loss_17: 0.0630 - dense_1_loss_18: 0.0619 - dense_1_loss_19: 0.0625 - dense_1_loss_20: 0.0684 - dense_1_loss_21: 0.0688 - dense_1_loss_22: 0.0647 - dense_1_loss_23: 0.0630 - dense_1_loss_24: 0.0615 - dense_1_loss_25: 0.0696 - dense_1_loss_26: 0.0673 - dense_1_loss_27: 0.0725 - dense_1_loss_28: 0.0692 - dense_1_loss_29: 0.0750 - dense_1_loss_30: 0.0000e+00 - dense_1_acc_1: 0.0667 - dense_1_acc_2: 0.5667 - dense_1_acc_3: 0.8833 - dense_1_acc_4: 0.9833 - dense_1_acc_5: 1.0000 - dense_1_acc_6: 1.0000 - dense_1_acc_7: 1.0000 - dense_1_acc_8: 1.0000 - dense_1_acc_9: 1.0000 - dense_1_acc_10: 1.0000 - dense_1_acc_11: 1.0000 - dense_1_acc_12: 1.0000 - dense_1_acc_13: 1.0000 - dense_1_acc_14: 1.0000 - dense_1_acc_15: 1.0000 - dense_1_acc_16: 1.0000 - dense_1_acc_17: 1.0000 - dense_1_acc_18: 1.0000 - dense_1_acc_19: 1.0000 - dense_1_acc_20: 1.0000 - dense_1_acc_21: 1.0000 - dense_1_acc_22: 1.0000 - dense_1_acc_23: 1.0000 - dense_1_acc_24: 1.0000 - dense_1_acc_25: 1.0000 - dense_1_acc_26: 1.0000 - dense_1_acc_27: 1.0000 - dense_1_acc_28: 1.0000 - dense_1_acc_29: 1.0000 - dense_1_acc_30: 0.0167     \n",
      "Epoch 63/100\n",
      "60/60 [==============================] - 1s - loss: 8.1169 - dense_1_loss_1: 3.8587 - dense_1_loss_2: 1.6898 - dense_1_loss_3: 0.6179 - dense_1_loss_4: 0.2215 - dense_1_loss_5: 0.1319 - dense_1_loss_6: 0.1008 - dense_1_loss_7: 0.0826 - dense_1_loss_8: 0.0729 - dense_1_loss_9: 0.0820 - dense_1_loss_10: 0.0685 - dense_1_loss_11: 0.0705 - dense_1_loss_12: 0.0598 - dense_1_loss_13: 0.0549 - dense_1_loss_14: 0.0553 - dense_1_loss_15: 0.0614 - dense_1_loss_16: 0.0634 - dense_1_loss_17: 0.0604 - dense_1_loss_18: 0.0597 - dense_1_loss_19: 0.0579 - dense_1_loss_20: 0.0649 - dense_1_loss_21: 0.0656 - dense_1_loss_22: 0.0612 - dense_1_loss_23: 0.0606 - dense_1_loss_24: 0.0583 - dense_1_loss_25: 0.0666 - dense_1_loss_26: 0.0636 - dense_1_loss_27: 0.0685 - dense_1_loss_28: 0.0663 - dense_1_loss_29: 0.0713 - dense_1_loss_30: 0.0000e+00 - dense_1_acc_1: 0.0667 - dense_1_acc_2: 0.5833 - dense_1_acc_3: 0.8833 - dense_1_acc_4: 0.9833 - dense_1_acc_5: 1.0000 - dense_1_acc_6: 1.0000 - dense_1_acc_7: 1.0000 - dense_1_acc_8: 1.0000 - dense_1_acc_9: 1.0000 - dense_1_acc_10: 1.0000 - dense_1_acc_11: 1.0000 - dense_1_acc_12: 1.0000 - dense_1_acc_13: 1.0000 - dense_1_acc_14: 1.0000 - dense_1_acc_15: 1.0000 - dense_1_acc_16: 1.0000 - dense_1_acc_17: 1.0000 - dense_1_acc_18: 1.0000 - dense_1_acc_19: 1.0000 - dense_1_acc_20: 1.0000 - dense_1_acc_21: 1.0000 - dense_1_acc_22: 1.0000 - dense_1_acc_23: 1.0000 - dense_1_acc_24: 1.0000 - dense_1_acc_25: 1.0000 - dense_1_acc_26: 1.0000 - dense_1_acc_27: 1.0000 - dense_1_acc_28: 1.0000 - dense_1_acc_29: 1.0000 - dense_1_acc_30: 0.0167         \n",
      "Epoch 64/100\n",
      "60/60 [==============================] - 1s - loss: 7.9903 - dense_1_loss_1: 3.8550 - dense_1_loss_2: 1.6680 - dense_1_loss_3: 0.6028 - dense_1_loss_4: 0.2131 - dense_1_loss_5: 0.1258 - dense_1_loss_6: 0.0964 - dense_1_loss_7: 0.0791 - dense_1_loss_8: 0.0695 - dense_1_loss_9: 0.0783 - dense_1_loss_10: 0.0652 - dense_1_loss_11: 0.0676 - dense_1_loss_12: 0.0571 - dense_1_loss_13: 0.0523 - dense_1_loss_14: 0.0532 - dense_1_loss_15: 0.0587 - dense_1_loss_16: 0.0606 - dense_1_loss_17: 0.0574 - dense_1_loss_18: 0.0575 - dense_1_loss_19: 0.0549 - dense_1_loss_20: 0.0620 - dense_1_loss_21: 0.0628 - dense_1_loss_22: 0.0586 - dense_1_loss_23: 0.0580 - dense_1_loss_24: 0.0557 - dense_1_loss_25: 0.0635 - dense_1_loss_26: 0.0605 - dense_1_loss_27: 0.0650 - dense_1_loss_28: 0.0633 - dense_1_loss_29: 0.0685 - dense_1_loss_30: 0.0000e+00 - dense_1_acc_1: 0.0667 - dense_1_acc_2: 0.5833 - dense_1_acc_3: 0.8833 - dense_1_acc_4: 1.0000 - dense_1_acc_5: 1.0000 - dense_1_acc_6: 1.0000 - dense_1_acc_7: 1.0000 - dense_1_acc_8: 1.0000 - dense_1_acc_9: 1.0000 - dense_1_acc_10: 1.0000 - dense_1_acc_11: 1.0000 - dense_1_acc_12: 1.0000 - dense_1_acc_13: 1.0000 - dense_1_acc_14: 1.0000 - dense_1_acc_15: 1.0000 - dense_1_acc_16: 1.0000 - dense_1_acc_17: 1.0000 - dense_1_acc_18: 1.0000 - dense_1_acc_19: 1.0000 - dense_1_acc_20: 1.0000 - dense_1_acc_21: 1.0000 - dense_1_acc_22: 1.0000 - dense_1_acc_23: 1.0000 - dense_1_acc_24: 1.0000 - dense_1_acc_25: 1.0000 - dense_1_acc_26: 1.0000 - dense_1_acc_27: 1.0000 - dense_1_acc_28: 1.0000 - dense_1_acc_29: 1.0000 - dense_1_acc_30: 0.0167         \n",
      "Epoch 65/100\n",
      "60/60 [==============================] - 1s - loss: 7.8733 - dense_1_loss_1: 3.8517 - dense_1_loss_2: 1.6461 - dense_1_loss_3: 0.5896 - dense_1_loss_4: 0.2058 - dense_1_loss_5: 0.1205 - dense_1_loss_6: 0.0930 - dense_1_loss_7: 0.0752 - dense_1_loss_8: 0.0668 - dense_1_loss_9: 0.0747 - dense_1_loss_10: 0.0619 - dense_1_loss_11: 0.0647 - dense_1_loss_12: 0.0548 - dense_1_loss_13: 0.0498 - dense_1_loss_14: 0.0512 - dense_1_loss_15: 0.0558 - dense_1_loss_16: 0.0584 - dense_1_loss_17: 0.0545 - dense_1_loss_18: 0.0546 - dense_1_loss_19: 0.0530 - dense_1_loss_20: 0.0594 - dense_1_loss_21: 0.0602 - dense_1_loss_22: 0.0565 - dense_1_loss_23: 0.0551 - dense_1_loss_24: 0.0532 - dense_1_loss_25: 0.0604 - dense_1_loss_26: 0.0578 - dense_1_loss_27: 0.0625 - dense_1_loss_28: 0.0601 - dense_1_loss_29: 0.0660 - dense_1_loss_30: 0.0000e+00 - dense_1_acc_1: 0.0667 - dense_1_acc_2: 0.5833 - dense_1_acc_3: 0.8833 - dense_1_acc_4: 1.0000 - dense_1_acc_5: 1.0000 - dense_1_acc_6: 1.0000 - dense_1_acc_7: 1.0000 - dense_1_acc_8: 1.0000 - dense_1_acc_9: 1.0000 - dense_1_acc_10: 1.0000 - dense_1_acc_11: 1.0000 - dense_1_acc_12: 1.0000 - dense_1_acc_13: 1.0000 - dense_1_acc_14: 1.0000 - dense_1_acc_15: 1.0000 - dense_1_acc_16: 1.0000 - dense_1_acc_17: 1.0000 - dense_1_acc_18: 1.0000 - dense_1_acc_19: 1.0000 - dense_1_acc_20: 1.0000 - dense_1_acc_21: 1.0000 - dense_1_acc_22: 1.0000 - dense_1_acc_23: 1.0000 - dense_1_acc_24: 1.0000 - dense_1_acc_25: 1.0000 - dense_1_acc_26: 1.0000 - dense_1_acc_27: 1.0000 - dense_1_acc_28: 1.0000 - dense_1_acc_29: 1.0000 - dense_1_acc_30: 0.0167         \n",
      "Epoch 66/100\n"
     ]
    },
    {
     "name": "stdout",
     "output_type": "stream",
     "text": [
      "60/60 [==============================] - 1s - loss: 7.7638 - dense_1_loss_1: 3.8482 - dense_1_loss_2: 1.6256 - dense_1_loss_3: 0.5758 - dense_1_loss_4: 0.1982 - dense_1_loss_5: 0.1155 - dense_1_loss_6: 0.0895 - dense_1_loss_7: 0.0718 - dense_1_loss_8: 0.0645 - dense_1_loss_9: 0.0711 - dense_1_loss_10: 0.0590 - dense_1_loss_11: 0.0622 - dense_1_loss_12: 0.0527 - dense_1_loss_13: 0.0476 - dense_1_loss_14: 0.0493 - dense_1_loss_15: 0.0532 - dense_1_loss_16: 0.0567 - dense_1_loss_17: 0.0517 - dense_1_loss_18: 0.0519 - dense_1_loss_19: 0.0522 - dense_1_loss_20: 0.0570 - dense_1_loss_21: 0.0576 - dense_1_loss_22: 0.0545 - dense_1_loss_23: 0.0524 - dense_1_loss_24: 0.0511 - dense_1_loss_25: 0.0577 - dense_1_loss_26: 0.0555 - dense_1_loss_27: 0.0603 - dense_1_loss_28: 0.0576 - dense_1_loss_29: 0.0633 - dense_1_loss_30: 0.0000e+00 - dense_1_acc_1: 0.0667 - dense_1_acc_2: 0.5833 - dense_1_acc_3: 0.8833 - dense_1_acc_4: 1.0000 - dense_1_acc_5: 1.0000 - dense_1_acc_6: 1.0000 - dense_1_acc_7: 1.0000 - dense_1_acc_8: 1.0000 - dense_1_acc_9: 1.0000 - dense_1_acc_10: 1.0000 - dense_1_acc_11: 1.0000 - dense_1_acc_12: 1.0000 - dense_1_acc_13: 1.0000 - dense_1_acc_14: 1.0000 - dense_1_acc_15: 1.0000 - dense_1_acc_16: 1.0000 - dense_1_acc_17: 1.0000 - dense_1_acc_18: 1.0000 - dense_1_acc_19: 1.0000 - dense_1_acc_20: 1.0000 - dense_1_acc_21: 1.0000 - dense_1_acc_22: 1.0000 - dense_1_acc_23: 1.0000 - dense_1_acc_24: 1.0000 - dense_1_acc_25: 1.0000 - dense_1_acc_26: 1.0000 - dense_1_acc_27: 1.0000 - dense_1_acc_28: 1.0000 - dense_1_acc_29: 1.0000 - dense_1_acc_30: 0.0167     \n",
      "Epoch 67/100\n",
      "60/60 [==============================] - 1s - loss: 7.6598 - dense_1_loss_1: 3.8447 - dense_1_loss_2: 1.6056 - dense_1_loss_3: 0.5642 - dense_1_loss_4: 0.1914 - dense_1_loss_5: 0.1116 - dense_1_loss_6: 0.0858 - dense_1_loss_7: 0.0696 - dense_1_loss_8: 0.0618 - dense_1_loss_9: 0.0683 - dense_1_loss_10: 0.0568 - dense_1_loss_11: 0.0595 - dense_1_loss_12: 0.0504 - dense_1_loss_13: 0.0459 - dense_1_loss_14: 0.0469 - dense_1_loss_15: 0.0512 - dense_1_loss_16: 0.0538 - dense_1_loss_17: 0.0502 - dense_1_loss_18: 0.0505 - dense_1_loss_19: 0.0486 - dense_1_loss_20: 0.0543 - dense_1_loss_21: 0.0551 - dense_1_loss_22: 0.0519 - dense_1_loss_23: 0.0505 - dense_1_loss_24: 0.0490 - dense_1_loss_25: 0.0554 - dense_1_loss_26: 0.0530 - dense_1_loss_27: 0.0580 - dense_1_loss_28: 0.0555 - dense_1_loss_29: 0.0603 - dense_1_loss_30: 0.0000e+00 - dense_1_acc_1: 0.0667 - dense_1_acc_2: 0.5833 - dense_1_acc_3: 0.9000 - dense_1_acc_4: 1.0000 - dense_1_acc_5: 1.0000 - dense_1_acc_6: 1.0000 - dense_1_acc_7: 1.0000 - dense_1_acc_8: 1.0000 - dense_1_acc_9: 1.0000 - dense_1_acc_10: 1.0000 - dense_1_acc_11: 1.0000 - dense_1_acc_12: 1.0000 - dense_1_acc_13: 1.0000 - dense_1_acc_14: 1.0000 - dense_1_acc_15: 1.0000 - dense_1_acc_16: 1.0000 - dense_1_acc_17: 1.0000 - dense_1_acc_18: 1.0000 - dense_1_acc_19: 1.0000 - dense_1_acc_20: 1.0000 - dense_1_acc_21: 1.0000 - dense_1_acc_22: 1.0000 - dense_1_acc_23: 1.0000 - dense_1_acc_24: 1.0000 - dense_1_acc_25: 1.0000 - dense_1_acc_26: 1.0000 - dense_1_acc_27: 1.0000 - dense_1_acc_28: 1.0000 - dense_1_acc_29: 1.0000 - dense_1_acc_30: 0.0167         \n",
      "Epoch 68/100\n",
      "60/60 [==============================] - 1s - loss: 7.5647 - dense_1_loss_1: 3.8414 - dense_1_loss_2: 1.5864 - dense_1_loss_3: 0.5519 - dense_1_loss_4: 0.1847 - dense_1_loss_5: 0.1076 - dense_1_loss_6: 0.0824 - dense_1_loss_7: 0.0674 - dense_1_loss_8: 0.0591 - dense_1_loss_9: 0.0658 - dense_1_loss_10: 0.0548 - dense_1_loss_11: 0.0576 - dense_1_loss_12: 0.0484 - dense_1_loss_13: 0.0444 - dense_1_loss_14: 0.0447 - dense_1_loss_15: 0.0498 - dense_1_loss_16: 0.0515 - dense_1_loss_17: 0.0487 - dense_1_loss_18: 0.0493 - dense_1_loss_19: 0.0462 - dense_1_loss_20: 0.0520 - dense_1_loss_21: 0.0528 - dense_1_loss_22: 0.0497 - dense_1_loss_23: 0.0491 - dense_1_loss_24: 0.0472 - dense_1_loss_25: 0.0534 - dense_1_loss_26: 0.0510 - dense_1_loss_27: 0.0559 - dense_1_loss_28: 0.0535 - dense_1_loss_29: 0.0578 - dense_1_loss_30: 0.0000e+00 - dense_1_acc_1: 0.0667 - dense_1_acc_2: 0.5833 - dense_1_acc_3: 0.9000 - dense_1_acc_4: 1.0000 - dense_1_acc_5: 1.0000 - dense_1_acc_6: 1.0000 - dense_1_acc_7: 1.0000 - dense_1_acc_8: 1.0000 - dense_1_acc_9: 1.0000 - dense_1_acc_10: 1.0000 - dense_1_acc_11: 1.0000 - dense_1_acc_12: 1.0000 - dense_1_acc_13: 1.0000 - dense_1_acc_14: 1.0000 - dense_1_acc_15: 1.0000 - dense_1_acc_16: 1.0000 - dense_1_acc_17: 1.0000 - dense_1_acc_18: 1.0000 - dense_1_acc_19: 1.0000 - dense_1_acc_20: 1.0000 - dense_1_acc_21: 1.0000 - dense_1_acc_22: 1.0000 - dense_1_acc_23: 1.0000 - dense_1_acc_24: 1.0000 - dense_1_acc_25: 1.0000 - dense_1_acc_26: 1.0000 - dense_1_acc_27: 1.0000 - dense_1_acc_28: 1.0000 - dense_1_acc_29: 1.0000 - dense_1_acc_30: 0.0167     \n",
      "Epoch 69/100\n",
      "60/60 [==============================] - 1s - loss: 7.4721 - dense_1_loss_1: 3.8381 - dense_1_loss_2: 1.5678 - dense_1_loss_3: 0.5407 - dense_1_loss_4: 0.1783 - dense_1_loss_5: 0.1041 - dense_1_loss_6: 0.0795 - dense_1_loss_7: 0.0649 - dense_1_loss_8: 0.0568 - dense_1_loss_9: 0.0634 - dense_1_loss_10: 0.0523 - dense_1_loss_11: 0.0554 - dense_1_loss_12: 0.0467 - dense_1_loss_13: 0.0427 - dense_1_loss_14: 0.0431 - dense_1_loss_15: 0.0476 - dense_1_loss_16: 0.0499 - dense_1_loss_17: 0.0466 - dense_1_loss_18: 0.0473 - dense_1_loss_19: 0.0444 - dense_1_loss_20: 0.0502 - dense_1_loss_21: 0.0508 - dense_1_loss_22: 0.0477 - dense_1_loss_23: 0.0470 - dense_1_loss_24: 0.0456 - dense_1_loss_25: 0.0512 - dense_1_loss_26: 0.0492 - dense_1_loss_27: 0.0539 - dense_1_loss_28: 0.0516 - dense_1_loss_29: 0.0554 - dense_1_loss_30: 0.0000e+00 - dense_1_acc_1: 0.0667 - dense_1_acc_2: 0.5833 - dense_1_acc_3: 0.9000 - dense_1_acc_4: 1.0000 - dense_1_acc_5: 1.0000 - dense_1_acc_6: 1.0000 - dense_1_acc_7: 1.0000 - dense_1_acc_8: 1.0000 - dense_1_acc_9: 1.0000 - dense_1_acc_10: 1.0000 - dense_1_acc_11: 1.0000 - dense_1_acc_12: 1.0000 - dense_1_acc_13: 1.0000 - dense_1_acc_14: 1.0000 - dense_1_acc_15: 1.0000 - dense_1_acc_16: 1.0000 - dense_1_acc_17: 1.0000 - dense_1_acc_18: 1.0000 - dense_1_acc_19: 1.0000 - dense_1_acc_20: 1.0000 - dense_1_acc_21: 1.0000 - dense_1_acc_22: 1.0000 - dense_1_acc_23: 1.0000 - dense_1_acc_24: 1.0000 - dense_1_acc_25: 1.0000 - dense_1_acc_26: 1.0000 - dense_1_acc_27: 1.0000 - dense_1_acc_28: 1.0000 - dense_1_acc_29: 1.0000 - dense_1_acc_30: 0.0167         \n",
      "Epoch 70/100\n",
      "60/60 [==============================] - 1s - loss: 7.3827 - dense_1_loss_1: 3.8349 - dense_1_loss_2: 1.5490 - dense_1_loss_3: 0.5286 - dense_1_loss_4: 0.1727 - dense_1_loss_5: 0.1003 - dense_1_loss_6: 0.0768 - dense_1_loss_7: 0.0622 - dense_1_loss_8: 0.0548 - dense_1_loss_9: 0.0609 - dense_1_loss_10: 0.0500 - dense_1_loss_11: 0.0532 - dense_1_loss_12: 0.0451 - dense_1_loss_13: 0.0408 - dense_1_loss_14: 0.0416 - dense_1_loss_15: 0.0454 - dense_1_loss_16: 0.0483 - dense_1_loss_17: 0.0447 - dense_1_loss_18: 0.0451 - dense_1_loss_19: 0.0431 - dense_1_loss_20: 0.0486 - dense_1_loss_21: 0.0491 - dense_1_loss_22: 0.0461 - dense_1_loss_23: 0.0451 - dense_1_loss_24: 0.0439 - dense_1_loss_25: 0.0492 - dense_1_loss_26: 0.0474 - dense_1_loss_27: 0.0523 - dense_1_loss_28: 0.0497 - dense_1_loss_29: 0.0535 - dense_1_loss_30: 0.0000e+00 - dense_1_acc_1: 0.0667 - dense_1_acc_2: 0.5833 - dense_1_acc_3: 0.9000 - dense_1_acc_4: 1.0000 - dense_1_acc_5: 1.0000 - dense_1_acc_6: 1.0000 - dense_1_acc_7: 1.0000 - dense_1_acc_8: 1.0000 - dense_1_acc_9: 1.0000 - dense_1_acc_10: 1.0000 - dense_1_acc_11: 1.0000 - dense_1_acc_12: 1.0000 - dense_1_acc_13: 1.0000 - dense_1_acc_14: 1.0000 - dense_1_acc_15: 1.0000 - dense_1_acc_16: 1.0000 - dense_1_acc_17: 1.0000 - dense_1_acc_18: 1.0000 - dense_1_acc_19: 1.0000 - dense_1_acc_20: 1.0000 - dense_1_acc_21: 1.0000 - dense_1_acc_22: 1.0000 - dense_1_acc_23: 1.0000 - dense_1_acc_24: 1.0000 - dense_1_acc_25: 1.0000 - dense_1_acc_26: 1.0000 - dense_1_acc_27: 1.0000 - dense_1_acc_28: 1.0000 - dense_1_acc_29: 1.0000 - dense_1_acc_30: 0.0167     \n",
      "Epoch 71/100\n"
     ]
    },
    {
     "name": "stdout",
     "output_type": "stream",
     "text": [
      "60/60 [==============================] - 1s - loss: 7.2997 - dense_1_loss_1: 3.8316 - dense_1_loss_2: 1.5321 - dense_1_loss_3: 0.5176 - dense_1_loss_4: 0.1671 - dense_1_loss_5: 0.0968 - dense_1_loss_6: 0.0744 - dense_1_loss_7: 0.0599 - dense_1_loss_8: 0.0531 - dense_1_loss_9: 0.0585 - dense_1_loss_10: 0.0482 - dense_1_loss_11: 0.0513 - dense_1_loss_12: 0.0436 - dense_1_loss_13: 0.0392 - dense_1_loss_14: 0.0401 - dense_1_loss_15: 0.0438 - dense_1_loss_16: 0.0467 - dense_1_loss_17: 0.0427 - dense_1_loss_18: 0.0432 - dense_1_loss_19: 0.0419 - dense_1_loss_20: 0.0468 - dense_1_loss_21: 0.0473 - dense_1_loss_22: 0.0447 - dense_1_loss_23: 0.0432 - dense_1_loss_24: 0.0425 - dense_1_loss_25: 0.0473 - dense_1_loss_26: 0.0458 - dense_1_loss_27: 0.0506 - dense_1_loss_28: 0.0478 - dense_1_loss_29: 0.0516 - dense_1_loss_30: 0.0000e+00 - dense_1_acc_1: 0.0667 - dense_1_acc_2: 0.5833 - dense_1_acc_3: 0.9000 - dense_1_acc_4: 1.0000 - dense_1_acc_5: 1.0000 - dense_1_acc_6: 1.0000 - dense_1_acc_7: 1.0000 - dense_1_acc_8: 1.0000 - dense_1_acc_9: 1.0000 - dense_1_acc_10: 1.0000 - dense_1_acc_11: 1.0000 - dense_1_acc_12: 1.0000 - dense_1_acc_13: 1.0000 - dense_1_acc_14: 1.0000 - dense_1_acc_15: 1.0000 - dense_1_acc_16: 1.0000 - dense_1_acc_17: 1.0000 - dense_1_acc_18: 1.0000 - dense_1_acc_19: 1.0000 - dense_1_acc_20: 1.0000 - dense_1_acc_21: 1.0000 - dense_1_acc_22: 1.0000 - dense_1_acc_23: 1.0000 - dense_1_acc_24: 1.0000 - dense_1_acc_25: 1.0000 - dense_1_acc_26: 1.0000 - dense_1_acc_27: 1.0000 - dense_1_acc_28: 1.0000 - dense_1_acc_29: 1.0000 - dense_1_acc_30: 0.0167     \n",
      "Epoch 72/100\n",
      "60/60 [==============================] - 1s - loss: 7.2203 - dense_1_loss_1: 3.8284 - dense_1_loss_2: 1.5144 - dense_1_loss_3: 0.5071 - dense_1_loss_4: 0.1624 - dense_1_loss_5: 0.0936 - dense_1_loss_6: 0.0720 - dense_1_loss_7: 0.0579 - dense_1_loss_8: 0.0513 - dense_1_loss_9: 0.0564 - dense_1_loss_10: 0.0467 - dense_1_loss_11: 0.0494 - dense_1_loss_12: 0.0420 - dense_1_loss_13: 0.0376 - dense_1_loss_14: 0.0386 - dense_1_loss_15: 0.0428 - dense_1_loss_16: 0.0449 - dense_1_loss_17: 0.0412 - dense_1_loss_18: 0.0416 - dense_1_loss_19: 0.0407 - dense_1_loss_20: 0.0452 - dense_1_loss_21: 0.0457 - dense_1_loss_22: 0.0432 - dense_1_loss_23: 0.0419 - dense_1_loss_24: 0.0411 - dense_1_loss_25: 0.0455 - dense_1_loss_26: 0.0441 - dense_1_loss_27: 0.0487 - dense_1_loss_28: 0.0462 - dense_1_loss_29: 0.0498 - dense_1_loss_30: 0.0000e+00 - dense_1_acc_1: 0.0667 - dense_1_acc_2: 0.5833 - dense_1_acc_3: 0.9000 - dense_1_acc_4: 1.0000 - dense_1_acc_5: 1.0000 - dense_1_acc_6: 1.0000 - dense_1_acc_7: 1.0000 - dense_1_acc_8: 1.0000 - dense_1_acc_9: 1.0000 - dense_1_acc_10: 1.0000 - dense_1_acc_11: 1.0000 - dense_1_acc_12: 1.0000 - dense_1_acc_13: 1.0000 - dense_1_acc_14: 1.0000 - dense_1_acc_15: 1.0000 - dense_1_acc_16: 1.0000 - dense_1_acc_17: 1.0000 - dense_1_acc_18: 1.0000 - dense_1_acc_19: 1.0000 - dense_1_acc_20: 1.0000 - dense_1_acc_21: 1.0000 - dense_1_acc_22: 1.0000 - dense_1_acc_23: 1.0000 - dense_1_acc_24: 1.0000 - dense_1_acc_25: 1.0000 - dense_1_acc_26: 1.0000 - dense_1_acc_27: 1.0000 - dense_1_acc_28: 1.0000 - dense_1_acc_29: 1.0000 - dense_1_acc_30: 0.0167         \n",
      "Epoch 73/100\n",
      "60/60 [==============================] - 1s - loss: 7.1468 - dense_1_loss_1: 3.8249 - dense_1_loss_2: 1.4984 - dense_1_loss_3: 0.4979 - dense_1_loss_4: 0.1579 - dense_1_loss_5: 0.0906 - dense_1_loss_6: 0.0698 - dense_1_loss_7: 0.0563 - dense_1_loss_8: 0.0496 - dense_1_loss_9: 0.0543 - dense_1_loss_10: 0.0456 - dense_1_loss_11: 0.0475 - dense_1_loss_12: 0.0405 - dense_1_loss_13: 0.0364 - dense_1_loss_14: 0.0371 - dense_1_loss_15: 0.0418 - dense_1_loss_16: 0.0431 - dense_1_loss_17: 0.0401 - dense_1_loss_18: 0.0403 - dense_1_loss_19: 0.0390 - dense_1_loss_20: 0.0436 - dense_1_loss_21: 0.0442 - dense_1_loss_22: 0.0417 - dense_1_loss_23: 0.0405 - dense_1_loss_24: 0.0396 - dense_1_loss_25: 0.0439 - dense_1_loss_26: 0.0426 - dense_1_loss_27: 0.0468 - dense_1_loss_28: 0.0448 - dense_1_loss_29: 0.0480 - dense_1_loss_30: 0.0000e+00 - dense_1_acc_1: 0.0667 - dense_1_acc_2: 0.5833 - dense_1_acc_3: 0.9000 - dense_1_acc_4: 1.0000 - dense_1_acc_5: 1.0000 - dense_1_acc_6: 1.0000 - dense_1_acc_7: 1.0000 - dense_1_acc_8: 1.0000 - dense_1_acc_9: 1.0000 - dense_1_acc_10: 1.0000 - dense_1_acc_11: 1.0000 - dense_1_acc_12: 1.0000 - dense_1_acc_13: 1.0000 - dense_1_acc_14: 1.0000 - dense_1_acc_15: 1.0000 - dense_1_acc_16: 1.0000 - dense_1_acc_17: 1.0000 - dense_1_acc_18: 1.0000 - dense_1_acc_19: 1.0000 - dense_1_acc_20: 1.0000 - dense_1_acc_21: 1.0000 - dense_1_acc_22: 1.0000 - dense_1_acc_23: 1.0000 - dense_1_acc_24: 1.0000 - dense_1_acc_25: 1.0000 - dense_1_acc_26: 1.0000 - dense_1_acc_27: 1.0000 - dense_1_acc_28: 1.0000 - dense_1_acc_29: 1.0000 - dense_1_acc_30: 0.0167             \n",
      "Epoch 74/100\n",
      "60/60 [==============================] - 1s - loss: 7.0748 - dense_1_loss_1: 3.8217 - dense_1_loss_2: 1.4829 - dense_1_loss_3: 0.4874 - dense_1_loss_4: 0.1528 - dense_1_loss_5: 0.0878 - dense_1_loss_6: 0.0677 - dense_1_loss_7: 0.0545 - dense_1_loss_8: 0.0477 - dense_1_loss_9: 0.0524 - dense_1_loss_10: 0.0441 - dense_1_loss_11: 0.0460 - dense_1_loss_12: 0.0392 - dense_1_loss_13: 0.0354 - dense_1_loss_14: 0.0358 - dense_1_loss_15: 0.0406 - dense_1_loss_16: 0.0416 - dense_1_loss_17: 0.0390 - dense_1_loss_18: 0.0393 - dense_1_loss_19: 0.0375 - dense_1_loss_20: 0.0422 - dense_1_loss_21: 0.0427 - dense_1_loss_22: 0.0404 - dense_1_loss_23: 0.0393 - dense_1_loss_24: 0.0381 - dense_1_loss_25: 0.0425 - dense_1_loss_26: 0.0414 - dense_1_loss_27: 0.0453 - dense_1_loss_28: 0.0434 - dense_1_loss_29: 0.0463 - dense_1_loss_30: 0.0000e+00 - dense_1_acc_1: 0.0667 - dense_1_acc_2: 0.5833 - dense_1_acc_3: 0.9000 - dense_1_acc_4: 1.0000 - dense_1_acc_5: 1.0000 - dense_1_acc_6: 1.0000 - dense_1_acc_7: 1.0000 - dense_1_acc_8: 1.0000 - dense_1_acc_9: 1.0000 - dense_1_acc_10: 1.0000 - dense_1_acc_11: 1.0000 - dense_1_acc_12: 1.0000 - dense_1_acc_13: 1.0000 - dense_1_acc_14: 1.0000 - dense_1_acc_15: 1.0000 - dense_1_acc_16: 1.0000 - dense_1_acc_17: 1.0000 - dense_1_acc_18: 1.0000 - dense_1_acc_19: 1.0000 - dense_1_acc_20: 1.0000 - dense_1_acc_21: 1.0000 - dense_1_acc_22: 1.0000 - dense_1_acc_23: 1.0000 - dense_1_acc_24: 1.0000 - dense_1_acc_25: 1.0000 - dense_1_acc_26: 1.0000 - dense_1_acc_27: 1.0000 - dense_1_acc_28: 1.0000 - dense_1_acc_29: 1.0000 - dense_1_acc_30: 0.0167     \n",
      "Epoch 75/100\n",
      "60/60 [==============================] - 1s - loss: 7.0074 - dense_1_loss_1: 3.8189 - dense_1_loss_2: 1.4673 - dense_1_loss_3: 0.4776 - dense_1_loss_4: 0.1486 - dense_1_loss_5: 0.0851 - dense_1_loss_6: 0.0659 - dense_1_loss_7: 0.0528 - dense_1_loss_8: 0.0462 - dense_1_loss_9: 0.0508 - dense_1_loss_10: 0.0424 - dense_1_loss_11: 0.0445 - dense_1_loss_12: 0.0380 - dense_1_loss_13: 0.0343 - dense_1_loss_14: 0.0348 - dense_1_loss_15: 0.0388 - dense_1_loss_16: 0.0405 - dense_1_loss_17: 0.0377 - dense_1_loss_18: 0.0379 - dense_1_loss_19: 0.0365 - dense_1_loss_20: 0.0411 - dense_1_loss_21: 0.0414 - dense_1_loss_22: 0.0393 - dense_1_loss_23: 0.0379 - dense_1_loss_24: 0.0368 - dense_1_loss_25: 0.0411 - dense_1_loss_26: 0.0402 - dense_1_loss_27: 0.0441 - dense_1_loss_28: 0.0422 - dense_1_loss_29: 0.0449 - dense_1_loss_30: 0.0000e+00 - dense_1_acc_1: 0.0667 - dense_1_acc_2: 0.5833 - dense_1_acc_3: 0.9000 - dense_1_acc_4: 1.0000 - dense_1_acc_5: 1.0000 - dense_1_acc_6: 1.0000 - dense_1_acc_7: 1.0000 - dense_1_acc_8: 1.0000 - dense_1_acc_9: 1.0000 - dense_1_acc_10: 1.0000 - dense_1_acc_11: 1.0000 - dense_1_acc_12: 1.0000 - dense_1_acc_13: 1.0000 - dense_1_acc_14: 1.0000 - dense_1_acc_15: 1.0000 - dense_1_acc_16: 1.0000 - dense_1_acc_17: 1.0000 - dense_1_acc_18: 1.0000 - dense_1_acc_19: 1.0000 - dense_1_acc_20: 1.0000 - dense_1_acc_21: 1.0000 - dense_1_acc_22: 1.0000 - dense_1_acc_23: 1.0000 - dense_1_acc_24: 1.0000 - dense_1_acc_25: 1.0000 - dense_1_acc_26: 1.0000 - dense_1_acc_27: 1.0000 - dense_1_acc_28: 1.0000 - dense_1_acc_29: 1.0000 - dense_1_acc_30: 0.0167     \n",
      "Epoch 76/100\n"
     ]
    },
    {
     "name": "stdout",
     "output_type": "stream",
     "text": [
      "60/60 [==============================] - 1s - loss: 6.9423 - dense_1_loss_1: 3.8156 - dense_1_loss_2: 1.4521 - dense_1_loss_3: 0.4684 - dense_1_loss_4: 0.1446 - dense_1_loss_5: 0.0826 - dense_1_loss_6: 0.0641 - dense_1_loss_7: 0.0511 - dense_1_loss_8: 0.0450 - dense_1_loss_9: 0.0492 - dense_1_loss_10: 0.0409 - dense_1_loss_11: 0.0431 - dense_1_loss_12: 0.0369 - dense_1_loss_13: 0.0333 - dense_1_loss_14: 0.0338 - dense_1_loss_15: 0.0373 - dense_1_loss_16: 0.0394 - dense_1_loss_17: 0.0364 - dense_1_loss_18: 0.0365 - dense_1_loss_19: 0.0356 - dense_1_loss_20: 0.0399 - dense_1_loss_21: 0.0401 - dense_1_loss_22: 0.0381 - dense_1_loss_23: 0.0366 - dense_1_loss_24: 0.0358 - dense_1_loss_25: 0.0399 - dense_1_loss_26: 0.0388 - dense_1_loss_27: 0.0430 - dense_1_loss_28: 0.0408 - dense_1_loss_29: 0.0436 - dense_1_loss_30: 0.0000e+00 - dense_1_acc_1: 0.0667 - dense_1_acc_2: 0.5833 - dense_1_acc_3: 0.9000 - dense_1_acc_4: 1.0000 - dense_1_acc_5: 1.0000 - dense_1_acc_6: 1.0000 - dense_1_acc_7: 1.0000 - dense_1_acc_8: 1.0000 - dense_1_acc_9: 1.0000 - dense_1_acc_10: 1.0000 - dense_1_acc_11: 1.0000 - dense_1_acc_12: 1.0000 - dense_1_acc_13: 1.0000 - dense_1_acc_14: 1.0000 - dense_1_acc_15: 1.0000 - dense_1_acc_16: 1.0000 - dense_1_acc_17: 1.0000 - dense_1_acc_18: 1.0000 - dense_1_acc_19: 1.0000 - dense_1_acc_20: 1.0000 - dense_1_acc_21: 1.0000 - dense_1_acc_22: 1.0000 - dense_1_acc_23: 1.0000 - dense_1_acc_24: 1.0000 - dense_1_acc_25: 1.0000 - dense_1_acc_26: 1.0000 - dense_1_acc_27: 1.0000 - dense_1_acc_28: 1.0000 - dense_1_acc_29: 1.0000 - dense_1_acc_30: 0.0167     \n",
      "Epoch 77/100\n",
      "60/60 [==============================] - 1s - loss: 6.8815 - dense_1_loss_1: 3.8126 - dense_1_loss_2: 1.4378 - dense_1_loss_3: 0.4597 - dense_1_loss_4: 0.1408 - dense_1_loss_5: 0.0805 - dense_1_loss_6: 0.0622 - dense_1_loss_7: 0.0498 - dense_1_loss_8: 0.0437 - dense_1_loss_9: 0.0477 - dense_1_loss_10: 0.0396 - dense_1_loss_11: 0.0419 - dense_1_loss_12: 0.0357 - dense_1_loss_13: 0.0322 - dense_1_loss_14: 0.0328 - dense_1_loss_15: 0.0361 - dense_1_loss_16: 0.0382 - dense_1_loss_17: 0.0353 - dense_1_loss_18: 0.0355 - dense_1_loss_19: 0.0344 - dense_1_loss_20: 0.0387 - dense_1_loss_21: 0.0389 - dense_1_loss_22: 0.0368 - dense_1_loss_23: 0.0356 - dense_1_loss_24: 0.0349 - dense_1_loss_25: 0.0386 - dense_1_loss_26: 0.0376 - dense_1_loss_27: 0.0417 - dense_1_loss_28: 0.0397 - dense_1_loss_29: 0.0424 - dense_1_loss_30: 0.0000e+00 - dense_1_acc_1: 0.0667 - dense_1_acc_2: 0.6167 - dense_1_acc_3: 0.9000 - dense_1_acc_4: 1.0000 - dense_1_acc_5: 1.0000 - dense_1_acc_6: 1.0000 - dense_1_acc_7: 1.0000 - dense_1_acc_8: 1.0000 - dense_1_acc_9: 1.0000 - dense_1_acc_10: 1.0000 - dense_1_acc_11: 1.0000 - dense_1_acc_12: 1.0000 - dense_1_acc_13: 1.0000 - dense_1_acc_14: 1.0000 - dense_1_acc_15: 1.0000 - dense_1_acc_16: 1.0000 - dense_1_acc_17: 1.0000 - dense_1_acc_18: 1.0000 - dense_1_acc_19: 1.0000 - dense_1_acc_20: 1.0000 - dense_1_acc_21: 1.0000 - dense_1_acc_22: 1.0000 - dense_1_acc_23: 1.0000 - dense_1_acc_24: 1.0000 - dense_1_acc_25: 1.0000 - dense_1_acc_26: 1.0000 - dense_1_acc_27: 1.0000 - dense_1_acc_28: 1.0000 - dense_1_acc_29: 1.0000 - dense_1_acc_30: 0.0167     \n",
      "Epoch 78/100\n",
      "60/60 [==============================] - 1s - loss: 6.8217 - dense_1_loss_1: 3.8094 - dense_1_loss_2: 1.4232 - dense_1_loss_3: 0.4516 - dense_1_loss_4: 0.1368 - dense_1_loss_5: 0.0785 - dense_1_loss_6: 0.0602 - dense_1_loss_7: 0.0484 - dense_1_loss_8: 0.0422 - dense_1_loss_9: 0.0462 - dense_1_loss_10: 0.0387 - dense_1_loss_11: 0.0406 - dense_1_loss_12: 0.0346 - dense_1_loss_13: 0.0313 - dense_1_loss_14: 0.0317 - dense_1_loss_15: 0.0354 - dense_1_loss_16: 0.0368 - dense_1_loss_17: 0.0345 - dense_1_loss_18: 0.0347 - dense_1_loss_19: 0.0331 - dense_1_loss_20: 0.0374 - dense_1_loss_21: 0.0378 - dense_1_loss_22: 0.0356 - dense_1_loss_23: 0.0347 - dense_1_loss_24: 0.0340 - dense_1_loss_25: 0.0375 - dense_1_loss_26: 0.0364 - dense_1_loss_27: 0.0406 - dense_1_loss_28: 0.0386 - dense_1_loss_29: 0.0413 - dense_1_loss_30: 0.0000e+00 - dense_1_acc_1: 0.0667 - dense_1_acc_2: 0.6167 - dense_1_acc_3: 0.9000 - dense_1_acc_4: 1.0000 - dense_1_acc_5: 1.0000 - dense_1_acc_6: 1.0000 - dense_1_acc_7: 1.0000 - dense_1_acc_8: 1.0000 - dense_1_acc_9: 1.0000 - dense_1_acc_10: 1.0000 - dense_1_acc_11: 1.0000 - dense_1_acc_12: 1.0000 - dense_1_acc_13: 1.0000 - dense_1_acc_14: 1.0000 - dense_1_acc_15: 1.0000 - dense_1_acc_16: 1.0000 - dense_1_acc_17: 1.0000 - dense_1_acc_18: 1.0000 - dense_1_acc_19: 1.0000 - dense_1_acc_20: 1.0000 - dense_1_acc_21: 1.0000 - dense_1_acc_22: 1.0000 - dense_1_acc_23: 1.0000 - dense_1_acc_24: 1.0000 - dense_1_acc_25: 1.0000 - dense_1_acc_26: 1.0000 - dense_1_acc_27: 1.0000 - dense_1_acc_28: 1.0000 - dense_1_acc_29: 1.0000 - dense_1_acc_30: 0.0167         \n",
      "Epoch 79/100\n",
      "60/60 [==============================] - 1s - loss: 6.7630 - dense_1_loss_1: 3.8067 - dense_1_loss_2: 1.4093 - dense_1_loss_3: 0.4419 - dense_1_loss_4: 0.1329 - dense_1_loss_5: 0.0762 - dense_1_loss_6: 0.0585 - dense_1_loss_7: 0.0472 - dense_1_loss_8: 0.0409 - dense_1_loss_9: 0.0447 - dense_1_loss_10: 0.0375 - dense_1_loss_11: 0.0395 - dense_1_loss_12: 0.0336 - dense_1_loss_13: 0.0303 - dense_1_loss_14: 0.0309 - dense_1_loss_15: 0.0344 - dense_1_loss_16: 0.0359 - dense_1_loss_17: 0.0335 - dense_1_loss_18: 0.0338 - dense_1_loss_19: 0.0320 - dense_1_loss_20: 0.0363 - dense_1_loss_21: 0.0368 - dense_1_loss_22: 0.0346 - dense_1_loss_23: 0.0339 - dense_1_loss_24: 0.0330 - dense_1_loss_25: 0.0365 - dense_1_loss_26: 0.0353 - dense_1_loss_27: 0.0394 - dense_1_loss_28: 0.0375 - dense_1_loss_29: 0.0401 - dense_1_loss_30: 0.0000e+00 - dense_1_acc_1: 0.0667 - dense_1_acc_2: 0.6333 - dense_1_acc_3: 0.9000 - dense_1_acc_4: 1.0000 - dense_1_acc_5: 1.0000 - dense_1_acc_6: 1.0000 - dense_1_acc_7: 1.0000 - dense_1_acc_8: 1.0000 - dense_1_acc_9: 1.0000 - dense_1_acc_10: 1.0000 - dense_1_acc_11: 1.0000 - dense_1_acc_12: 1.0000 - dense_1_acc_13: 1.0000 - dense_1_acc_14: 1.0000 - dense_1_acc_15: 1.0000 - dense_1_acc_16: 1.0000 - dense_1_acc_17: 1.0000 - dense_1_acc_18: 1.0000 - dense_1_acc_19: 1.0000 - dense_1_acc_20: 1.0000 - dense_1_acc_21: 1.0000 - dense_1_acc_22: 1.0000 - dense_1_acc_23: 1.0000 - dense_1_acc_24: 1.0000 - dense_1_acc_25: 1.0000 - dense_1_acc_26: 1.0000 - dense_1_acc_27: 1.0000 - dense_1_acc_28: 1.0000 - dense_1_acc_29: 1.0000 - dense_1_acc_30: 0.0167         \n",
      "Epoch 80/100\n",
      "60/60 [==============================] - 1s - loss: 6.7088 - dense_1_loss_1: 3.8035 - dense_1_loss_2: 1.3956 - dense_1_loss_3: 0.4345 - dense_1_loss_4: 0.1300 - dense_1_loss_5: 0.0743 - dense_1_loss_6: 0.0571 - dense_1_loss_7: 0.0459 - dense_1_loss_8: 0.0399 - dense_1_loss_9: 0.0434 - dense_1_loss_10: 0.0365 - dense_1_loss_11: 0.0384 - dense_1_loss_12: 0.0326 - dense_1_loss_13: 0.0295 - dense_1_loss_14: 0.0300 - dense_1_loss_15: 0.0333 - dense_1_loss_16: 0.0349 - dense_1_loss_17: 0.0325 - dense_1_loss_18: 0.0327 - dense_1_loss_19: 0.0313 - dense_1_loss_20: 0.0353 - dense_1_loss_21: 0.0359 - dense_1_loss_22: 0.0338 - dense_1_loss_23: 0.0329 - dense_1_loss_24: 0.0320 - dense_1_loss_25: 0.0354 - dense_1_loss_26: 0.0343 - dense_1_loss_27: 0.0381 - dense_1_loss_28: 0.0364 - dense_1_loss_29: 0.0387 - dense_1_loss_30: 0.0000e+00 - dense_1_acc_1: 0.0667 - dense_1_acc_2: 0.6333 - dense_1_acc_3: 0.9000 - dense_1_acc_4: 1.0000 - dense_1_acc_5: 1.0000 - dense_1_acc_6: 1.0000 - dense_1_acc_7: 1.0000 - dense_1_acc_8: 1.0000 - dense_1_acc_9: 1.0000 - dense_1_acc_10: 1.0000 - dense_1_acc_11: 1.0000 - dense_1_acc_12: 1.0000 - dense_1_acc_13: 1.0000 - dense_1_acc_14: 1.0000 - dense_1_acc_15: 1.0000 - dense_1_acc_16: 1.0000 - dense_1_acc_17: 1.0000 - dense_1_acc_18: 1.0000 - dense_1_acc_19: 1.0000 - dense_1_acc_20: 1.0000 - dense_1_acc_21: 1.0000 - dense_1_acc_22: 1.0000 - dense_1_acc_23: 1.0000 - dense_1_acc_24: 1.0000 - dense_1_acc_25: 1.0000 - dense_1_acc_26: 1.0000 - dense_1_acc_27: 1.0000 - dense_1_acc_28: 1.0000 - dense_1_acc_29: 1.0000 - dense_1_acc_30: 0.0167         \n",
      "Epoch 81/100\n"
     ]
    },
    {
     "name": "stdout",
     "output_type": "stream",
     "text": [
      "60/60 [==============================] - 1s - loss: 6.6575 - dense_1_loss_1: 3.8006 - dense_1_loss_2: 1.3825 - dense_1_loss_3: 0.4265 - dense_1_loss_4: 0.1270 - dense_1_loss_5: 0.0722 - dense_1_loss_6: 0.0559 - dense_1_loss_7: 0.0445 - dense_1_loss_8: 0.0389 - dense_1_loss_9: 0.0421 - dense_1_loss_10: 0.0355 - dense_1_loss_11: 0.0374 - dense_1_loss_12: 0.0318 - dense_1_loss_13: 0.0285 - dense_1_loss_14: 0.0293 - dense_1_loss_15: 0.0323 - dense_1_loss_16: 0.0343 - dense_1_loss_17: 0.0314 - dense_1_loss_18: 0.0316 - dense_1_loss_19: 0.0311 - dense_1_loss_20: 0.0345 - dense_1_loss_21: 0.0348 - dense_1_loss_22: 0.0332 - dense_1_loss_23: 0.0317 - dense_1_loss_24: 0.0312 - dense_1_loss_25: 0.0343 - dense_1_loss_26: 0.0335 - dense_1_loss_27: 0.0374 - dense_1_loss_28: 0.0355 - dense_1_loss_29: 0.0378 - dense_1_loss_30: 0.0000e+00 - dense_1_acc_1: 0.0667 - dense_1_acc_2: 0.6333 - dense_1_acc_3: 0.9000 - dense_1_acc_4: 1.0000 - dense_1_acc_5: 1.0000 - dense_1_acc_6: 1.0000 - dense_1_acc_7: 1.0000 - dense_1_acc_8: 1.0000 - dense_1_acc_9: 1.0000 - dense_1_acc_10: 1.0000 - dense_1_acc_11: 1.0000 - dense_1_acc_12: 1.0000 - dense_1_acc_13: 1.0000 - dense_1_acc_14: 1.0000 - dense_1_acc_15: 1.0000 - dense_1_acc_16: 1.0000 - dense_1_acc_17: 1.0000 - dense_1_acc_18: 1.0000 - dense_1_acc_19: 1.0000 - dense_1_acc_20: 1.0000 - dense_1_acc_21: 1.0000 - dense_1_acc_22: 1.0000 - dense_1_acc_23: 1.0000 - dense_1_acc_24: 1.0000 - dense_1_acc_25: 1.0000 - dense_1_acc_26: 1.0000 - dense_1_acc_27: 1.0000 - dense_1_acc_28: 1.0000 - dense_1_acc_29: 1.0000 - dense_1_acc_30: 0.0167         \n",
      "Epoch 82/100\n",
      "60/60 [==============================] - 1s - loss: 6.6063 - dense_1_loss_1: 3.7976 - dense_1_loss_2: 1.3697 - dense_1_loss_3: 0.4190 - dense_1_loss_4: 0.1239 - dense_1_loss_5: 0.0705 - dense_1_loss_6: 0.0544 - dense_1_loss_7: 0.0435 - dense_1_loss_8: 0.0379 - dense_1_loss_9: 0.0411 - dense_1_loss_10: 0.0346 - dense_1_loss_11: 0.0365 - dense_1_loss_12: 0.0309 - dense_1_loss_13: 0.0278 - dense_1_loss_14: 0.0285 - dense_1_loss_15: 0.0316 - dense_1_loss_16: 0.0332 - dense_1_loss_17: 0.0305 - dense_1_loss_18: 0.0310 - dense_1_loss_19: 0.0299 - dense_1_loss_20: 0.0335 - dense_1_loss_21: 0.0338 - dense_1_loss_22: 0.0322 - dense_1_loss_23: 0.0308 - dense_1_loss_24: 0.0304 - dense_1_loss_25: 0.0332 - dense_1_loss_26: 0.0327 - dense_1_loss_27: 0.0364 - dense_1_loss_28: 0.0345 - dense_1_loss_29: 0.0369 - dense_1_loss_30: 0.0000e+00 - dense_1_acc_1: 0.0667 - dense_1_acc_2: 0.6333 - dense_1_acc_3: 0.9000 - dense_1_acc_4: 1.0000 - dense_1_acc_5: 1.0000 - dense_1_acc_6: 1.0000 - dense_1_acc_7: 1.0000 - dense_1_acc_8: 1.0000 - dense_1_acc_9: 1.0000 - dense_1_acc_10: 1.0000 - dense_1_acc_11: 1.0000 - dense_1_acc_12: 1.0000 - dense_1_acc_13: 1.0000 - dense_1_acc_14: 1.0000 - dense_1_acc_15: 1.0000 - dense_1_acc_16: 1.0000 - dense_1_acc_17: 1.0000 - dense_1_acc_18: 1.0000 - dense_1_acc_19: 1.0000 - dense_1_acc_20: 1.0000 - dense_1_acc_21: 1.0000 - dense_1_acc_22: 1.0000 - dense_1_acc_23: 1.0000 - dense_1_acc_24: 1.0000 - dense_1_acc_25: 1.0000 - dense_1_acc_26: 1.0000 - dense_1_acc_27: 1.0000 - dense_1_acc_28: 1.0000 - dense_1_acc_29: 1.0000 - dense_1_acc_30: 0.0167         \n",
      "Epoch 83/100\n",
      "60/60 [==============================] - 1s - loss: 6.5573 - dense_1_loss_1: 3.7947 - dense_1_loss_2: 1.3566 - dense_1_loss_3: 0.4114 - dense_1_loss_4: 0.1207 - dense_1_loss_5: 0.0689 - dense_1_loss_6: 0.0528 - dense_1_loss_7: 0.0428 - dense_1_loss_8: 0.0365 - dense_1_loss_9: 0.0401 - dense_1_loss_10: 0.0337 - dense_1_loss_11: 0.0357 - dense_1_loss_12: 0.0301 - dense_1_loss_13: 0.0272 - dense_1_loss_14: 0.0276 - dense_1_loss_15: 0.0311 - dense_1_loss_16: 0.0322 - dense_1_loss_17: 0.0300 - dense_1_loss_18: 0.0306 - dense_1_loss_19: 0.0287 - dense_1_loss_20: 0.0325 - dense_1_loss_21: 0.0328 - dense_1_loss_22: 0.0312 - dense_1_loss_23: 0.0302 - dense_1_loss_24: 0.0295 - dense_1_loss_25: 0.0324 - dense_1_loss_26: 0.0319 - dense_1_loss_27: 0.0354 - dense_1_loss_28: 0.0338 - dense_1_loss_29: 0.0359 - dense_1_loss_30: 0.0000e+00 - dense_1_acc_1: 0.0667 - dense_1_acc_2: 0.6333 - dense_1_acc_3: 0.9000 - dense_1_acc_4: 1.0000 - dense_1_acc_5: 1.0000 - dense_1_acc_6: 1.0000 - dense_1_acc_7: 1.0000 - dense_1_acc_8: 1.0000 - dense_1_acc_9: 1.0000 - dense_1_acc_10: 1.0000 - dense_1_acc_11: 1.0000 - dense_1_acc_12: 1.0000 - dense_1_acc_13: 1.0000 - dense_1_acc_14: 1.0000 - dense_1_acc_15: 1.0000 - dense_1_acc_16: 1.0000 - dense_1_acc_17: 1.0000 - dense_1_acc_18: 1.0000 - dense_1_acc_19: 1.0000 - dense_1_acc_20: 1.0000 - dense_1_acc_21: 1.0000 - dense_1_acc_22: 1.0000 - dense_1_acc_23: 1.0000 - dense_1_acc_24: 1.0000 - dense_1_acc_25: 1.0000 - dense_1_acc_26: 1.0000 - dense_1_acc_27: 1.0000 - dense_1_acc_28: 1.0000 - dense_1_acc_29: 1.0000 - dense_1_acc_30: 0.0167     \n",
      "Epoch 84/100\n",
      "60/60 [==============================] - 1s - loss: 6.5099 - dense_1_loss_1: 3.7917 - dense_1_loss_2: 1.3440 - dense_1_loss_3: 0.4041 - dense_1_loss_4: 0.1182 - dense_1_loss_5: 0.0672 - dense_1_loss_6: 0.0515 - dense_1_loss_7: 0.0417 - dense_1_loss_8: 0.0356 - dense_1_loss_9: 0.0392 - dense_1_loss_10: 0.0328 - dense_1_loss_11: 0.0348 - dense_1_loss_12: 0.0294 - dense_1_loss_13: 0.0266 - dense_1_loss_14: 0.0269 - dense_1_loss_15: 0.0302 - dense_1_loss_16: 0.0314 - dense_1_loss_17: 0.0293 - dense_1_loss_18: 0.0299 - dense_1_loss_19: 0.0279 - dense_1_loss_20: 0.0317 - dense_1_loss_21: 0.0320 - dense_1_loss_22: 0.0304 - dense_1_loss_23: 0.0296 - dense_1_loss_24: 0.0288 - dense_1_loss_25: 0.0316 - dense_1_loss_26: 0.0310 - dense_1_loss_27: 0.0344 - dense_1_loss_28: 0.0330 - dense_1_loss_29: 0.0351 - dense_1_loss_30: 0.0000e+00 - dense_1_acc_1: 0.0667 - dense_1_acc_2: 0.6333 - dense_1_acc_3: 0.9000 - dense_1_acc_4: 1.0000 - dense_1_acc_5: 1.0000 - dense_1_acc_6: 1.0000 - dense_1_acc_7: 1.0000 - dense_1_acc_8: 1.0000 - dense_1_acc_9: 1.0000 - dense_1_acc_10: 1.0000 - dense_1_acc_11: 1.0000 - dense_1_acc_12: 1.0000 - dense_1_acc_13: 1.0000 - dense_1_acc_14: 1.0000 - dense_1_acc_15: 1.0000 - dense_1_acc_16: 1.0000 - dense_1_acc_17: 1.0000 - dense_1_acc_18: 1.0000 - dense_1_acc_19: 1.0000 - dense_1_acc_20: 1.0000 - dense_1_acc_21: 1.0000 - dense_1_acc_22: 1.0000 - dense_1_acc_23: 1.0000 - dense_1_acc_24: 1.0000 - dense_1_acc_25: 1.0000 - dense_1_acc_26: 1.0000 - dense_1_acc_27: 1.0000 - dense_1_acc_28: 1.0000 - dense_1_acc_29: 1.0000 - dense_1_acc_30: 0.0167     \n",
      "Epoch 85/100\n",
      "60/60 [==============================] - 1s - loss: 6.4632 - dense_1_loss_1: 3.7886 - dense_1_loss_2: 1.3322 - dense_1_loss_3: 0.3964 - dense_1_loss_4: 0.1157 - dense_1_loss_5: 0.0655 - dense_1_loss_6: 0.0505 - dense_1_loss_7: 0.0405 - dense_1_loss_8: 0.0347 - dense_1_loss_9: 0.0381 - dense_1_loss_10: 0.0318 - dense_1_loss_11: 0.0338 - dense_1_loss_12: 0.0287 - dense_1_loss_13: 0.0259 - dense_1_loss_14: 0.0263 - dense_1_loss_15: 0.0291 - dense_1_loss_16: 0.0307 - dense_1_loss_17: 0.0285 - dense_1_loss_18: 0.0289 - dense_1_loss_19: 0.0274 - dense_1_loss_20: 0.0309 - dense_1_loss_21: 0.0313 - dense_1_loss_22: 0.0297 - dense_1_loss_23: 0.0287 - dense_1_loss_24: 0.0281 - dense_1_loss_25: 0.0308 - dense_1_loss_26: 0.0302 - dense_1_loss_27: 0.0337 - dense_1_loss_28: 0.0322 - dense_1_loss_29: 0.0341 - dense_1_loss_30: 0.0000e+00 - dense_1_acc_1: 0.0667 - dense_1_acc_2: 0.6333 - dense_1_acc_3: 0.9000 - dense_1_acc_4: 1.0000 - dense_1_acc_5: 1.0000 - dense_1_acc_6: 1.0000 - dense_1_acc_7: 1.0000 - dense_1_acc_8: 1.0000 - dense_1_acc_9: 1.0000 - dense_1_acc_10: 1.0000 - dense_1_acc_11: 1.0000 - dense_1_acc_12: 1.0000 - dense_1_acc_13: 1.0000 - dense_1_acc_14: 1.0000 - dense_1_acc_15: 1.0000 - dense_1_acc_16: 1.0000 - dense_1_acc_17: 1.0000 - dense_1_acc_18: 1.0000 - dense_1_acc_19: 1.0000 - dense_1_acc_20: 1.0000 - dense_1_acc_21: 1.0000 - dense_1_acc_22: 1.0000 - dense_1_acc_23: 1.0000 - dense_1_acc_24: 1.0000 - dense_1_acc_25: 1.0000 - dense_1_acc_26: 1.0000 - dense_1_acc_27: 1.0000 - dense_1_acc_28: 1.0000 - dense_1_acc_29: 1.0000 - dense_1_acc_30: 0.0167     \n",
      "Epoch 86/100\n"
     ]
    },
    {
     "name": "stdout",
     "output_type": "stream",
     "text": [
      "60/60 [==============================] - 1s - loss: 6.4198 - dense_1_loss_1: 3.7860 - dense_1_loss_2: 1.3197 - dense_1_loss_3: 0.3897 - dense_1_loss_4: 0.1135 - dense_1_loss_5: 0.0641 - dense_1_loss_6: 0.0496 - dense_1_loss_7: 0.0393 - dense_1_loss_8: 0.0341 - dense_1_loss_9: 0.0371 - dense_1_loss_10: 0.0310 - dense_1_loss_11: 0.0330 - dense_1_loss_12: 0.0281 - dense_1_loss_13: 0.0252 - dense_1_loss_14: 0.0257 - dense_1_loss_15: 0.0283 - dense_1_loss_16: 0.0301 - dense_1_loss_17: 0.0277 - dense_1_loss_18: 0.0280 - dense_1_loss_19: 0.0271 - dense_1_loss_20: 0.0302 - dense_1_loss_21: 0.0306 - dense_1_loss_22: 0.0292 - dense_1_loss_23: 0.0279 - dense_1_loss_24: 0.0275 - dense_1_loss_25: 0.0301 - dense_1_loss_26: 0.0294 - dense_1_loss_27: 0.0331 - dense_1_loss_28: 0.0314 - dense_1_loss_29: 0.0333 - dense_1_loss_30: 0.0000e+00 - dense_1_acc_1: 0.0667 - dense_1_acc_2: 0.6500 - dense_1_acc_3: 0.9000 - dense_1_acc_4: 1.0000 - dense_1_acc_5: 1.0000 - dense_1_acc_6: 1.0000 - dense_1_acc_7: 1.0000 - dense_1_acc_8: 1.0000 - dense_1_acc_9: 1.0000 - dense_1_acc_10: 1.0000 - dense_1_acc_11: 1.0000 - dense_1_acc_12: 1.0000 - dense_1_acc_13: 1.0000 - dense_1_acc_14: 1.0000 - dense_1_acc_15: 1.0000 - dense_1_acc_16: 1.0000 - dense_1_acc_17: 1.0000 - dense_1_acc_18: 1.0000 - dense_1_acc_19: 1.0000 - dense_1_acc_20: 1.0000 - dense_1_acc_21: 1.0000 - dense_1_acc_22: 1.0000 - dense_1_acc_23: 1.0000 - dense_1_acc_24: 1.0000 - dense_1_acc_25: 1.0000 - dense_1_acc_26: 1.0000 - dense_1_acc_27: 1.0000 - dense_1_acc_28: 1.0000 - dense_1_acc_29: 1.0000 - dense_1_acc_30: 0.0167         \n",
      "Epoch 87/100\n",
      "60/60 [==============================] - 1s - loss: 6.3777 - dense_1_loss_1: 3.7828 - dense_1_loss_2: 1.3086 - dense_1_loss_3: 0.3830 - dense_1_loss_4: 0.1112 - dense_1_loss_5: 0.0628 - dense_1_loss_6: 0.0485 - dense_1_loss_7: 0.0386 - dense_1_loss_8: 0.0334 - dense_1_loss_9: 0.0361 - dense_1_loss_10: 0.0303 - dense_1_loss_11: 0.0322 - dense_1_loss_12: 0.0273 - dense_1_loss_13: 0.0246 - dense_1_loss_14: 0.0250 - dense_1_loss_15: 0.0277 - dense_1_loss_16: 0.0294 - dense_1_loss_17: 0.0270 - dense_1_loss_18: 0.0274 - dense_1_loss_19: 0.0264 - dense_1_loss_20: 0.0295 - dense_1_loss_21: 0.0298 - dense_1_loss_22: 0.0285 - dense_1_loss_23: 0.0273 - dense_1_loss_24: 0.0269 - dense_1_loss_25: 0.0293 - dense_1_loss_26: 0.0286 - dense_1_loss_27: 0.0324 - dense_1_loss_28: 0.0306 - dense_1_loss_29: 0.0325 - dense_1_loss_30: 0.0000e+00 - dense_1_acc_1: 0.0667 - dense_1_acc_2: 0.6500 - dense_1_acc_3: 0.9000 - dense_1_acc_4: 1.0000 - dense_1_acc_5: 1.0000 - dense_1_acc_6: 1.0000 - dense_1_acc_7: 1.0000 - dense_1_acc_8: 1.0000 - dense_1_acc_9: 1.0000 - dense_1_acc_10: 1.0000 - dense_1_acc_11: 1.0000 - dense_1_acc_12: 1.0000 - dense_1_acc_13: 1.0000 - dense_1_acc_14: 1.0000 - dense_1_acc_15: 1.0000 - dense_1_acc_16: 1.0000 - dense_1_acc_17: 1.0000 - dense_1_acc_18: 1.0000 - dense_1_acc_19: 1.0000 - dense_1_acc_20: 1.0000 - dense_1_acc_21: 1.0000 - dense_1_acc_22: 1.0000 - dense_1_acc_23: 1.0000 - dense_1_acc_24: 1.0000 - dense_1_acc_25: 1.0000 - dense_1_acc_26: 1.0000 - dense_1_acc_27: 1.0000 - dense_1_acc_28: 1.0000 - dense_1_acc_29: 1.0000 - dense_1_acc_30: 0.0167     \n",
      "Epoch 88/100\n",
      "60/60 [==============================] - 1s - loss: 6.3353 - dense_1_loss_1: 3.7799 - dense_1_loss_2: 1.2968 - dense_1_loss_3: 0.3764 - dense_1_loss_4: 0.1090 - dense_1_loss_5: 0.0615 - dense_1_loss_6: 0.0473 - dense_1_loss_7: 0.0378 - dense_1_loss_8: 0.0325 - dense_1_loss_9: 0.0353 - dense_1_loss_10: 0.0298 - dense_1_loss_11: 0.0314 - dense_1_loss_12: 0.0267 - dense_1_loss_13: 0.0240 - dense_1_loss_14: 0.0243 - dense_1_loss_15: 0.0273 - dense_1_loss_16: 0.0285 - dense_1_loss_17: 0.0264 - dense_1_loss_18: 0.0269 - dense_1_loss_19: 0.0254 - dense_1_loss_20: 0.0288 - dense_1_loss_21: 0.0290 - dense_1_loss_22: 0.0277 - dense_1_loss_23: 0.0267 - dense_1_loss_24: 0.0262 - dense_1_loss_25: 0.0286 - dense_1_loss_26: 0.0279 - dense_1_loss_27: 0.0316 - dense_1_loss_28: 0.0299 - dense_1_loss_29: 0.0318 - dense_1_loss_30: 0.0000e+00 - dense_1_acc_1: 0.0667 - dense_1_acc_2: 0.6500 - dense_1_acc_3: 0.9000 - dense_1_acc_4: 1.0000 - dense_1_acc_5: 1.0000 - dense_1_acc_6: 1.0000 - dense_1_acc_7: 1.0000 - dense_1_acc_8: 1.0000 - dense_1_acc_9: 1.0000 - dense_1_acc_10: 1.0000 - dense_1_acc_11: 1.0000 - dense_1_acc_12: 1.0000 - dense_1_acc_13: 1.0000 - dense_1_acc_14: 1.0000 - dense_1_acc_15: 1.0000 - dense_1_acc_16: 1.0000 - dense_1_acc_17: 1.0000 - dense_1_acc_18: 1.0000 - dense_1_acc_19: 1.0000 - dense_1_acc_20: 1.0000 - dense_1_acc_21: 1.0000 - dense_1_acc_22: 1.0000 - dense_1_acc_23: 1.0000 - dense_1_acc_24: 1.0000 - dense_1_acc_25: 1.0000 - dense_1_acc_26: 1.0000 - dense_1_acc_27: 1.0000 - dense_1_acc_28: 1.0000 - dense_1_acc_29: 1.0000 - dense_1_acc_30: 0.0167         \n",
      "Epoch 89/100\n",
      "60/60 [==============================] - 1s - loss: 6.2953 - dense_1_loss_1: 3.7769 - dense_1_loss_2: 1.2855 - dense_1_loss_3: 0.3702 - dense_1_loss_4: 0.1066 - dense_1_loss_5: 0.0601 - dense_1_loss_6: 0.0460 - dense_1_loss_7: 0.0371 - dense_1_loss_8: 0.0316 - dense_1_loss_9: 0.0344 - dense_1_loss_10: 0.0293 - dense_1_loss_11: 0.0307 - dense_1_loss_12: 0.0261 - dense_1_loss_13: 0.0235 - dense_1_loss_14: 0.0237 - dense_1_loss_15: 0.0269 - dense_1_loss_16: 0.0277 - dense_1_loss_17: 0.0259 - dense_1_loss_18: 0.0264 - dense_1_loss_19: 0.0247 - dense_1_loss_20: 0.0281 - dense_1_loss_21: 0.0284 - dense_1_loss_22: 0.0270 - dense_1_loss_23: 0.0262 - dense_1_loss_24: 0.0256 - dense_1_loss_25: 0.0279 - dense_1_loss_26: 0.0273 - dense_1_loss_27: 0.0309 - dense_1_loss_28: 0.0293 - dense_1_loss_29: 0.0311 - dense_1_loss_30: 0.0000e+00 - dense_1_acc_1: 0.0667 - dense_1_acc_2: 0.6500 - dense_1_acc_3: 0.9000 - dense_1_acc_4: 1.0000 - dense_1_acc_5: 1.0000 - dense_1_acc_6: 1.0000 - dense_1_acc_7: 1.0000 - dense_1_acc_8: 1.0000 - dense_1_acc_9: 1.0000 - dense_1_acc_10: 1.0000 - dense_1_acc_11: 1.0000 - dense_1_acc_12: 1.0000 - dense_1_acc_13: 1.0000 - dense_1_acc_14: 1.0000 - dense_1_acc_15: 1.0000 - dense_1_acc_16: 1.0000 - dense_1_acc_17: 1.0000 - dense_1_acc_18: 1.0000 - dense_1_acc_19: 1.0000 - dense_1_acc_20: 1.0000 - dense_1_acc_21: 1.0000 - dense_1_acc_22: 1.0000 - dense_1_acc_23: 1.0000 - dense_1_acc_24: 1.0000 - dense_1_acc_25: 1.0000 - dense_1_acc_26: 1.0000 - dense_1_acc_27: 1.0000 - dense_1_acc_28: 1.0000 - dense_1_acc_29: 1.0000 - dense_1_acc_30: 0.0167         \n",
      "Epoch 90/100\n",
      "60/60 [==============================] - 1s - loss: 6.2572 - dense_1_loss_1: 3.7741 - dense_1_loss_2: 1.2748 - dense_1_loss_3: 0.3643 - dense_1_loss_4: 0.1045 - dense_1_loss_5: 0.0590 - dense_1_loss_6: 0.0451 - dense_1_loss_7: 0.0363 - dense_1_loss_8: 0.0310 - dense_1_loss_9: 0.0337 - dense_1_loss_10: 0.0286 - dense_1_loss_11: 0.0301 - dense_1_loss_12: 0.0255 - dense_1_loss_13: 0.0229 - dense_1_loss_14: 0.0233 - dense_1_loss_15: 0.0262 - dense_1_loss_16: 0.0272 - dense_1_loss_17: 0.0253 - dense_1_loss_18: 0.0258 - dense_1_loss_19: 0.0242 - dense_1_loss_20: 0.0275 - dense_1_loss_21: 0.0278 - dense_1_loss_22: 0.0264 - dense_1_loss_23: 0.0255 - dense_1_loss_24: 0.0249 - dense_1_loss_25: 0.0273 - dense_1_loss_26: 0.0267 - dense_1_loss_27: 0.0302 - dense_1_loss_28: 0.0286 - dense_1_loss_29: 0.0304 - dense_1_loss_30: 0.0000e+00 - dense_1_acc_1: 0.0667 - dense_1_acc_2: 0.6500 - dense_1_acc_3: 0.9167 - dense_1_acc_4: 1.0000 - dense_1_acc_5: 1.0000 - dense_1_acc_6: 1.0000 - dense_1_acc_7: 1.0000 - dense_1_acc_8: 1.0000 - dense_1_acc_9: 1.0000 - dense_1_acc_10: 1.0000 - dense_1_acc_11: 1.0000 - dense_1_acc_12: 1.0000 - dense_1_acc_13: 1.0000 - dense_1_acc_14: 1.0000 - dense_1_acc_15: 1.0000 - dense_1_acc_16: 1.0000 - dense_1_acc_17: 1.0000 - dense_1_acc_18: 1.0000 - dense_1_acc_19: 1.0000 - dense_1_acc_20: 1.0000 - dense_1_acc_21: 1.0000 - dense_1_acc_22: 1.0000 - dense_1_acc_23: 1.0000 - dense_1_acc_24: 1.0000 - dense_1_acc_25: 1.0000 - dense_1_acc_26: 1.0000 - dense_1_acc_27: 1.0000 - dense_1_acc_28: 1.0000 - dense_1_acc_29: 1.0000 - dense_1_acc_30: 0.0167     \n",
      "Epoch 91/100\n"
     ]
    },
    {
     "name": "stdout",
     "output_type": "stream",
     "text": [
      "60/60 [==============================] - 1s - loss: 6.2196 - dense_1_loss_1: 3.7714 - dense_1_loss_2: 1.2640 - dense_1_loss_3: 0.3588 - dense_1_loss_4: 0.1024 - dense_1_loss_5: 0.0577 - dense_1_loss_6: 0.0442 - dense_1_loss_7: 0.0353 - dense_1_loss_8: 0.0303 - dense_1_loss_9: 0.0329 - dense_1_loss_10: 0.0278 - dense_1_loss_11: 0.0294 - dense_1_loss_12: 0.0250 - dense_1_loss_13: 0.0224 - dense_1_loss_14: 0.0228 - dense_1_loss_15: 0.0254 - dense_1_loss_16: 0.0267 - dense_1_loss_17: 0.0247 - dense_1_loss_18: 0.0251 - dense_1_loss_19: 0.0238 - dense_1_loss_20: 0.0270 - dense_1_loss_21: 0.0272 - dense_1_loss_22: 0.0260 - dense_1_loss_23: 0.0248 - dense_1_loss_24: 0.0244 - dense_1_loss_25: 0.0266 - dense_1_loss_26: 0.0262 - dense_1_loss_27: 0.0296 - dense_1_loss_28: 0.0279 - dense_1_loss_29: 0.0297 - dense_1_loss_30: 0.0000e+00 - dense_1_acc_1: 0.0667 - dense_1_acc_2: 0.6500 - dense_1_acc_3: 0.9167 - dense_1_acc_4: 1.0000 - dense_1_acc_5: 1.0000 - dense_1_acc_6: 1.0000 - dense_1_acc_7: 1.0000 - dense_1_acc_8: 1.0000 - dense_1_acc_9: 1.0000 - dense_1_acc_10: 1.0000 - dense_1_acc_11: 1.0000 - dense_1_acc_12: 1.0000 - dense_1_acc_13: 1.0000 - dense_1_acc_14: 1.0000 - dense_1_acc_15: 1.0000 - dense_1_acc_16: 1.0000 - dense_1_acc_17: 1.0000 - dense_1_acc_18: 1.0000 - dense_1_acc_19: 1.0000 - dense_1_acc_20: 1.0000 - dense_1_acc_21: 1.0000 - dense_1_acc_22: 1.0000 - dense_1_acc_23: 1.0000 - dense_1_acc_24: 1.0000 - dense_1_acc_25: 1.0000 - dense_1_acc_26: 1.0000 - dense_1_acc_27: 1.0000 - dense_1_acc_28: 1.0000 - dense_1_acc_29: 1.0000 - dense_1_acc_30: 0.0167         \n",
      "Epoch 92/100\n",
      "60/60 [==============================] - 1s - loss: 6.1828 - dense_1_loss_1: 3.7683 - dense_1_loss_2: 1.2532 - dense_1_loss_3: 0.3530 - dense_1_loss_4: 0.1004 - dense_1_loss_5: 0.0567 - dense_1_loss_6: 0.0434 - dense_1_loss_7: 0.0345 - dense_1_loss_8: 0.0298 - dense_1_loss_9: 0.0322 - dense_1_loss_10: 0.0272 - dense_1_loss_11: 0.0287 - dense_1_loss_12: 0.0245 - dense_1_loss_13: 0.0219 - dense_1_loss_14: 0.0224 - dense_1_loss_15: 0.0248 - dense_1_loss_16: 0.0262 - dense_1_loss_17: 0.0242 - dense_1_loss_18: 0.0244 - dense_1_loss_19: 0.0235 - dense_1_loss_20: 0.0264 - dense_1_loss_21: 0.0266 - dense_1_loss_22: 0.0255 - dense_1_loss_23: 0.0243 - dense_1_loss_24: 0.0239 - dense_1_loss_25: 0.0260 - dense_1_loss_26: 0.0256 - dense_1_loss_27: 0.0290 - dense_1_loss_28: 0.0273 - dense_1_loss_29: 0.0290 - dense_1_loss_30: 0.0000e+00 - dense_1_acc_1: 0.0667 - dense_1_acc_2: 0.6500 - dense_1_acc_3: 0.9333 - dense_1_acc_4: 1.0000 - dense_1_acc_5: 1.0000 - dense_1_acc_6: 1.0000 - dense_1_acc_7: 1.0000 - dense_1_acc_8: 1.0000 - dense_1_acc_9: 1.0000 - dense_1_acc_10: 1.0000 - dense_1_acc_11: 1.0000 - dense_1_acc_12: 1.0000 - dense_1_acc_13: 1.0000 - dense_1_acc_14: 1.0000 - dense_1_acc_15: 1.0000 - dense_1_acc_16: 1.0000 - dense_1_acc_17: 1.0000 - dense_1_acc_18: 1.0000 - dense_1_acc_19: 1.0000 - dense_1_acc_20: 1.0000 - dense_1_acc_21: 1.0000 - dense_1_acc_22: 1.0000 - dense_1_acc_23: 1.0000 - dense_1_acc_24: 1.0000 - dense_1_acc_25: 1.0000 - dense_1_acc_26: 1.0000 - dense_1_acc_27: 1.0000 - dense_1_acc_28: 1.0000 - dense_1_acc_29: 1.0000 - dense_1_acc_30: 0.0167             \n",
      "Epoch 93/100\n",
      "60/60 [==============================] - 1s - loss: 6.1481 - dense_1_loss_1: 3.7655 - dense_1_loss_2: 1.2431 - dense_1_loss_3: 0.3479 - dense_1_loss_4: 0.0986 - dense_1_loss_5: 0.0556 - dense_1_loss_6: 0.0424 - dense_1_loss_7: 0.0339 - dense_1_loss_8: 0.0292 - dense_1_loss_9: 0.0315 - dense_1_loss_10: 0.0266 - dense_1_loss_11: 0.0281 - dense_1_loss_12: 0.0239 - dense_1_loss_13: 0.0214 - dense_1_loss_14: 0.0218 - dense_1_loss_15: 0.0244 - dense_1_loss_16: 0.0256 - dense_1_loss_17: 0.0237 - dense_1_loss_18: 0.0240 - dense_1_loss_19: 0.0230 - dense_1_loss_20: 0.0258 - dense_1_loss_21: 0.0260 - dense_1_loss_22: 0.0250 - dense_1_loss_23: 0.0237 - dense_1_loss_24: 0.0235 - dense_1_loss_25: 0.0254 - dense_1_loss_26: 0.0250 - dense_1_loss_27: 0.0284 - dense_1_loss_28: 0.0268 - dense_1_loss_29: 0.0284 - dense_1_loss_30: 0.0000e+00 - dense_1_acc_1: 0.0667 - dense_1_acc_2: 0.6500 - dense_1_acc_3: 0.9333 - dense_1_acc_4: 1.0000 - dense_1_acc_5: 1.0000 - dense_1_acc_6: 1.0000 - dense_1_acc_7: 1.0000 - dense_1_acc_8: 1.0000 - dense_1_acc_9: 1.0000 - dense_1_acc_10: 1.0000 - dense_1_acc_11: 1.0000 - dense_1_acc_12: 1.0000 - dense_1_acc_13: 1.0000 - dense_1_acc_14: 1.0000 - dense_1_acc_15: 1.0000 - dense_1_acc_16: 1.0000 - dense_1_acc_17: 1.0000 - dense_1_acc_18: 1.0000 - dense_1_acc_19: 1.0000 - dense_1_acc_20: 1.0000 - dense_1_acc_21: 1.0000 - dense_1_acc_22: 1.0000 - dense_1_acc_23: 1.0000 - dense_1_acc_24: 1.0000 - dense_1_acc_25: 1.0000 - dense_1_acc_26: 1.0000 - dense_1_acc_27: 1.0000 - dense_1_acc_28: 1.0000 - dense_1_acc_29: 1.0000 - dense_1_acc_30: 0.0167         \n",
      "Epoch 94/100\n",
      "60/60 [==============================] - 1s - loss: 6.1135 - dense_1_loss_1: 3.7629 - dense_1_loss_2: 1.2327 - dense_1_loss_3: 0.3422 - dense_1_loss_4: 0.0968 - dense_1_loss_5: 0.0545 - dense_1_loss_6: 0.0415 - dense_1_loss_7: 0.0334 - dense_1_loss_8: 0.0286 - dense_1_loss_9: 0.0307 - dense_1_loss_10: 0.0262 - dense_1_loss_11: 0.0275 - dense_1_loss_12: 0.0234 - dense_1_loss_13: 0.0210 - dense_1_loss_14: 0.0213 - dense_1_loss_15: 0.0239 - dense_1_loss_16: 0.0250 - dense_1_loss_17: 0.0232 - dense_1_loss_18: 0.0236 - dense_1_loss_19: 0.0223 - dense_1_loss_20: 0.0252 - dense_1_loss_21: 0.0254 - dense_1_loss_22: 0.0244 - dense_1_loss_23: 0.0233 - dense_1_loss_24: 0.0230 - dense_1_loss_25: 0.0248 - dense_1_loss_26: 0.0245 - dense_1_loss_27: 0.0279 - dense_1_loss_28: 0.0263 - dense_1_loss_29: 0.0279 - dense_1_loss_30: 0.0000e+00 - dense_1_acc_1: 0.0667 - dense_1_acc_2: 0.6500 - dense_1_acc_3: 0.9333 - dense_1_acc_4: 1.0000 - dense_1_acc_5: 1.0000 - dense_1_acc_6: 1.0000 - dense_1_acc_7: 1.0000 - dense_1_acc_8: 1.0000 - dense_1_acc_9: 1.0000 - dense_1_acc_10: 1.0000 - dense_1_acc_11: 1.0000 - dense_1_acc_12: 1.0000 - dense_1_acc_13: 1.0000 - dense_1_acc_14: 1.0000 - dense_1_acc_15: 1.0000 - dense_1_acc_16: 1.0000 - dense_1_acc_17: 1.0000 - dense_1_acc_18: 1.0000 - dense_1_acc_19: 1.0000 - dense_1_acc_20: 1.0000 - dense_1_acc_21: 1.0000 - dense_1_acc_22: 1.0000 - dense_1_acc_23: 1.0000 - dense_1_acc_24: 1.0000 - dense_1_acc_25: 1.0000 - dense_1_acc_26: 1.0000 - dense_1_acc_27: 1.0000 - dense_1_acc_28: 1.0000 - dense_1_acc_29: 1.0000 - dense_1_acc_30: 0.0167             \n",
      "Epoch 95/100\n",
      "60/60 [==============================] - 1s - loss: 6.0807 - dense_1_loss_1: 3.7601 - dense_1_loss_2: 1.2232 - dense_1_loss_3: 0.3366 - dense_1_loss_4: 0.0950 - dense_1_loss_5: 0.0536 - dense_1_loss_6: 0.0406 - dense_1_loss_7: 0.0329 - dense_1_loss_8: 0.0280 - dense_1_loss_9: 0.0300 - dense_1_loss_10: 0.0257 - dense_1_loss_11: 0.0270 - dense_1_loss_12: 0.0230 - dense_1_loss_13: 0.0206 - dense_1_loss_14: 0.0208 - dense_1_loss_15: 0.0236 - dense_1_loss_16: 0.0244 - dense_1_loss_17: 0.0228 - dense_1_loss_18: 0.0232 - dense_1_loss_19: 0.0217 - dense_1_loss_20: 0.0247 - dense_1_loss_21: 0.0249 - dense_1_loss_22: 0.0239 - dense_1_loss_23: 0.0229 - dense_1_loss_24: 0.0226 - dense_1_loss_25: 0.0243 - dense_1_loss_26: 0.0240 - dense_1_loss_27: 0.0273 - dense_1_loss_28: 0.0259 - dense_1_loss_29: 0.0274 - dense_1_loss_30: 0.0000e+00 - dense_1_acc_1: 0.0667 - dense_1_acc_2: 0.6667 - dense_1_acc_3: 0.9333 - dense_1_acc_4: 1.0000 - dense_1_acc_5: 1.0000 - dense_1_acc_6: 1.0000 - dense_1_acc_7: 1.0000 - dense_1_acc_8: 1.0000 - dense_1_acc_9: 1.0000 - dense_1_acc_10: 1.0000 - dense_1_acc_11: 1.0000 - dense_1_acc_12: 1.0000 - dense_1_acc_13: 1.0000 - dense_1_acc_14: 1.0000 - dense_1_acc_15: 1.0000 - dense_1_acc_16: 1.0000 - dense_1_acc_17: 1.0000 - dense_1_acc_18: 1.0000 - dense_1_acc_19: 1.0000 - dense_1_acc_20: 1.0000 - dense_1_acc_21: 1.0000 - dense_1_acc_22: 1.0000 - dense_1_acc_23: 1.0000 - dense_1_acc_24: 1.0000 - dense_1_acc_25: 1.0000 - dense_1_acc_26: 1.0000 - dense_1_acc_27: 1.0000 - dense_1_acc_28: 1.0000 - dense_1_acc_29: 1.0000 - dense_1_acc_30: 0.0167         \n",
      "Epoch 96/100\n"
     ]
    },
    {
     "name": "stdout",
     "output_type": "stream",
     "text": [
      "60/60 [==============================] - 1s - loss: 6.0475 - dense_1_loss_1: 3.7573 - dense_1_loss_2: 1.2128 - dense_1_loss_3: 0.3312 - dense_1_loss_4: 0.0935 - dense_1_loss_5: 0.0527 - dense_1_loss_6: 0.0399 - dense_1_loss_7: 0.0322 - dense_1_loss_8: 0.0275 - dense_1_loss_9: 0.0295 - dense_1_loss_10: 0.0252 - dense_1_loss_11: 0.0264 - dense_1_loss_12: 0.0225 - dense_1_loss_13: 0.0202 - dense_1_loss_14: 0.0205 - dense_1_loss_15: 0.0230 - dense_1_loss_16: 0.0240 - dense_1_loss_17: 0.0223 - dense_1_loss_18: 0.0227 - dense_1_loss_19: 0.0212 - dense_1_loss_20: 0.0242 - dense_1_loss_21: 0.0244 - dense_1_loss_22: 0.0234 - dense_1_loss_23: 0.0224 - dense_1_loss_24: 0.0221 - dense_1_loss_25: 0.0238 - dense_1_loss_26: 0.0235 - dense_1_loss_27: 0.0268 - dense_1_loss_28: 0.0253 - dense_1_loss_29: 0.0268 - dense_1_loss_30: 0.0000e+00 - dense_1_acc_1: 0.0667 - dense_1_acc_2: 0.6667 - dense_1_acc_3: 0.9333 - dense_1_acc_4: 1.0000 - dense_1_acc_5: 1.0000 - dense_1_acc_6: 1.0000 - dense_1_acc_7: 1.0000 - dense_1_acc_8: 1.0000 - dense_1_acc_9: 1.0000 - dense_1_acc_10: 1.0000 - dense_1_acc_11: 1.0000 - dense_1_acc_12: 1.0000 - dense_1_acc_13: 1.0000 - dense_1_acc_14: 1.0000 - dense_1_acc_15: 1.0000 - dense_1_acc_16: 1.0000 - dense_1_acc_17: 1.0000 - dense_1_acc_18: 1.0000 - dense_1_acc_19: 1.0000 - dense_1_acc_20: 1.0000 - dense_1_acc_21: 1.0000 - dense_1_acc_22: 1.0000 - dense_1_acc_23: 1.0000 - dense_1_acc_24: 1.0000 - dense_1_acc_25: 1.0000 - dense_1_acc_26: 1.0000 - dense_1_acc_27: 1.0000 - dense_1_acc_28: 1.0000 - dense_1_acc_29: 1.0000 - dense_1_acc_30: 0.0167     \n",
      "Epoch 97/100\n",
      "60/60 [==============================] - 1s - loss: 6.0158 - dense_1_loss_1: 3.7546 - dense_1_loss_2: 1.2030 - dense_1_loss_3: 0.3264 - dense_1_loss_4: 0.0920 - dense_1_loss_5: 0.0516 - dense_1_loss_6: 0.0393 - dense_1_loss_7: 0.0315 - dense_1_loss_8: 0.0269 - dense_1_loss_9: 0.0289 - dense_1_loss_10: 0.0246 - dense_1_loss_11: 0.0259 - dense_1_loss_12: 0.0222 - dense_1_loss_13: 0.0197 - dense_1_loss_14: 0.0202 - dense_1_loss_15: 0.0224 - dense_1_loss_16: 0.0236 - dense_1_loss_17: 0.0218 - dense_1_loss_18: 0.0222 - dense_1_loss_19: 0.0209 - dense_1_loss_20: 0.0237 - dense_1_loss_21: 0.0240 - dense_1_loss_22: 0.0231 - dense_1_loss_23: 0.0219 - dense_1_loss_24: 0.0217 - dense_1_loss_25: 0.0233 - dense_1_loss_26: 0.0231 - dense_1_loss_27: 0.0263 - dense_1_loss_28: 0.0248 - dense_1_loss_29: 0.0262 - dense_1_loss_30: 0.0000e+00 - dense_1_acc_1: 0.0667 - dense_1_acc_2: 0.6667 - dense_1_acc_3: 0.9333 - dense_1_acc_4: 1.0000 - dense_1_acc_5: 1.0000 - dense_1_acc_6: 1.0000 - dense_1_acc_7: 1.0000 - dense_1_acc_8: 1.0000 - dense_1_acc_9: 1.0000 - dense_1_acc_10: 1.0000 - dense_1_acc_11: 1.0000 - dense_1_acc_12: 1.0000 - dense_1_acc_13: 1.0000 - dense_1_acc_14: 1.0000 - dense_1_acc_15: 1.0000 - dense_1_acc_16: 1.0000 - dense_1_acc_17: 1.0000 - dense_1_acc_18: 1.0000 - dense_1_acc_19: 1.0000 - dense_1_acc_20: 1.0000 - dense_1_acc_21: 1.0000 - dense_1_acc_22: 1.0000 - dense_1_acc_23: 1.0000 - dense_1_acc_24: 1.0000 - dense_1_acc_25: 1.0000 - dense_1_acc_26: 1.0000 - dense_1_acc_27: 1.0000 - dense_1_acc_28: 1.0000 - dense_1_acc_29: 1.0000 - dense_1_acc_30: 0.0167     \n",
      "Epoch 98/100\n",
      "60/60 [==============================] - 1s - loss: 5.9857 - dense_1_loss_1: 3.7518 - dense_1_loss_2: 1.1940 - dense_1_loss_3: 0.3216 - dense_1_loss_4: 0.0905 - dense_1_loss_5: 0.0506 - dense_1_loss_6: 0.0387 - dense_1_loss_7: 0.0309 - dense_1_loss_8: 0.0264 - dense_1_loss_9: 0.0284 - dense_1_loss_10: 0.0240 - dense_1_loss_11: 0.0254 - dense_1_loss_12: 0.0218 - dense_1_loss_13: 0.0193 - dense_1_loss_14: 0.0198 - dense_1_loss_15: 0.0219 - dense_1_loss_16: 0.0232 - dense_1_loss_17: 0.0214 - dense_1_loss_18: 0.0218 - dense_1_loss_19: 0.0206 - dense_1_loss_20: 0.0233 - dense_1_loss_21: 0.0235 - dense_1_loss_22: 0.0227 - dense_1_loss_23: 0.0215 - dense_1_loss_24: 0.0213 - dense_1_loss_25: 0.0229 - dense_1_loss_26: 0.0226 - dense_1_loss_27: 0.0259 - dense_1_loss_28: 0.0243 - dense_1_loss_29: 0.0257 - dense_1_loss_30: 0.0000e+00 - dense_1_acc_1: 0.0667 - dense_1_acc_2: 0.6667 - dense_1_acc_3: 0.9333 - dense_1_acc_4: 1.0000 - dense_1_acc_5: 1.0000 - dense_1_acc_6: 1.0000 - dense_1_acc_7: 1.0000 - dense_1_acc_8: 1.0000 - dense_1_acc_9: 1.0000 - dense_1_acc_10: 1.0000 - dense_1_acc_11: 1.0000 - dense_1_acc_12: 1.0000 - dense_1_acc_13: 1.0000 - dense_1_acc_14: 1.0000 - dense_1_acc_15: 1.0000 - dense_1_acc_16: 1.0000 - dense_1_acc_17: 1.0000 - dense_1_acc_18: 1.0000 - dense_1_acc_19: 1.0000 - dense_1_acc_20: 1.0000 - dense_1_acc_21: 1.0000 - dense_1_acc_22: 1.0000 - dense_1_acc_23: 1.0000 - dense_1_acc_24: 1.0000 - dense_1_acc_25: 1.0000 - dense_1_acc_26: 1.0000 - dense_1_acc_27: 1.0000 - dense_1_acc_28: 1.0000 - dense_1_acc_29: 1.0000 - dense_1_acc_30: 0.0167     \n",
      "Epoch 99/100\n",
      "60/60 [==============================] - 1s - loss: 5.9558 - dense_1_loss_1: 3.7490 - dense_1_loss_2: 1.1845 - dense_1_loss_3: 0.3170 - dense_1_loss_4: 0.0891 - dense_1_loss_5: 0.0498 - dense_1_loss_6: 0.0380 - dense_1_loss_7: 0.0304 - dense_1_loss_8: 0.0260 - dense_1_loss_9: 0.0278 - dense_1_loss_10: 0.0236 - dense_1_loss_11: 0.0249 - dense_1_loss_12: 0.0214 - dense_1_loss_13: 0.0190 - dense_1_loss_14: 0.0193 - dense_1_loss_15: 0.0216 - dense_1_loss_16: 0.0227 - dense_1_loss_17: 0.0210 - dense_1_loss_18: 0.0213 - dense_1_loss_19: 0.0202 - dense_1_loss_20: 0.0228 - dense_1_loss_21: 0.0231 - dense_1_loss_22: 0.0222 - dense_1_loss_23: 0.0210 - dense_1_loss_24: 0.0209 - dense_1_loss_25: 0.0224 - dense_1_loss_26: 0.0222 - dense_1_loss_27: 0.0254 - dense_1_loss_28: 0.0239 - dense_1_loss_29: 0.0252 - dense_1_loss_30: 0.0000e+00 - dense_1_acc_1: 0.0667 - dense_1_acc_2: 0.6667 - dense_1_acc_3: 0.9333 - dense_1_acc_4: 1.0000 - dense_1_acc_5: 1.0000 - dense_1_acc_6: 1.0000 - dense_1_acc_7: 1.0000 - dense_1_acc_8: 1.0000 - dense_1_acc_9: 1.0000 - dense_1_acc_10: 1.0000 - dense_1_acc_11: 1.0000 - dense_1_acc_12: 1.0000 - dense_1_acc_13: 1.0000 - dense_1_acc_14: 1.0000 - dense_1_acc_15: 1.0000 - dense_1_acc_16: 1.0000 - dense_1_acc_17: 1.0000 - dense_1_acc_18: 1.0000 - dense_1_acc_19: 1.0000 - dense_1_acc_20: 1.0000 - dense_1_acc_21: 1.0000 - dense_1_acc_22: 1.0000 - dense_1_acc_23: 1.0000 - dense_1_acc_24: 1.0000 - dense_1_acc_25: 1.0000 - dense_1_acc_26: 1.0000 - dense_1_acc_27: 1.0000 - dense_1_acc_28: 1.0000 - dense_1_acc_29: 1.0000 - dense_1_acc_30: 0.0167         \n",
      "Epoch 100/100\n",
      "60/60 [==============================] - 1s - loss: 5.9266 - dense_1_loss_1: 3.7465 - dense_1_loss_2: 1.1755 - dense_1_loss_3: 0.3122 - dense_1_loss_4: 0.0877 - dense_1_loss_5: 0.0491 - dense_1_loss_6: 0.0373 - dense_1_loss_7: 0.0298 - dense_1_loss_8: 0.0254 - dense_1_loss_9: 0.0272 - dense_1_loss_10: 0.0232 - dense_1_loss_11: 0.0244 - dense_1_loss_12: 0.0209 - dense_1_loss_13: 0.0187 - dense_1_loss_14: 0.0189 - dense_1_loss_15: 0.0213 - dense_1_loss_16: 0.0222 - dense_1_loss_17: 0.0206 - dense_1_loss_18: 0.0210 - dense_1_loss_19: 0.0198 - dense_1_loss_20: 0.0224 - dense_1_loss_21: 0.0226 - dense_1_loss_22: 0.0217 - dense_1_loss_23: 0.0207 - dense_1_loss_24: 0.0205 - dense_1_loss_25: 0.0220 - dense_1_loss_26: 0.0217 - dense_1_loss_27: 0.0249 - dense_1_loss_28: 0.0235 - dense_1_loss_29: 0.0247 - dense_1_loss_30: 0.0000e+00 - dense_1_acc_1: 0.0667 - dense_1_acc_2: 0.6667 - dense_1_acc_3: 0.9333 - dense_1_acc_4: 1.0000 - dense_1_acc_5: 1.0000 - dense_1_acc_6: 1.0000 - dense_1_acc_7: 1.0000 - dense_1_acc_8: 1.0000 - dense_1_acc_9: 1.0000 - dense_1_acc_10: 1.0000 - dense_1_acc_11: 1.0000 - dense_1_acc_12: 1.0000 - dense_1_acc_13: 1.0000 - dense_1_acc_14: 1.0000 - dense_1_acc_15: 1.0000 - dense_1_acc_16: 1.0000 - dense_1_acc_17: 1.0000 - dense_1_acc_18: 1.0000 - dense_1_acc_19: 1.0000 - dense_1_acc_20: 1.0000 - dense_1_acc_21: 1.0000 - dense_1_acc_22: 1.0000 - dense_1_acc_23: 1.0000 - dense_1_acc_24: 1.0000 - dense_1_acc_25: 1.0000 - dense_1_acc_26: 1.0000 - dense_1_acc_27: 1.0000 - dense_1_acc_28: 1.0000 - dense_1_acc_29: 1.0000 - dense_1_acc_30: 0.0167         \n"
     ]
    },
    {
     "data": {
      "text/plain": [
       "<keras.callbacks.History at 0x7fb7a8cb74a8>"
      ]
     },
     "execution_count": 9,
     "metadata": {},
     "output_type": "execute_result"
    }
   ],
   "source": [
    "model.fit([X, a0, c0], list(Y), epochs=100)"
   ]
  },
  {
   "cell_type": "markdown",
   "metadata": {},
   "source": [
    "You should see the model loss going down. Now that you have trained a model, lets go on the the final section to implement an inference algorithm, and generate some music! "
   ]
  },
  {
   "cell_type": "markdown",
   "metadata": {},
   "source": [
    "## 3 - Generating music\n",
    "\n",
    "You now have a trained model which has learned the patterns of the jazz soloist. Lets now use this model to synthesize new music. \n",
    "\n",
    "#### 3.1 - Predicting & Sampling\n",
    "\n",
    "<img src=\"images/music_gen.png\" style=\"width:600;height:400px;\">\n",
    "\n",
    "At each step of sampling, you will take as input the activation `a` and cell state `c` from the previous state of the LSTM, forward propagate by one step, and get a new output activation as well as cell state. The new activation `a` can then be used to generate the output, using `densor` as before. \n",
    "\n",
    "To start off the model, we will initialize `x0` as well as the LSTM activation and and cell value `a0` and `c0` to be zeros. \n",
    "\n",
    "\n",
    "<!-- \n",
    "You are about to build a function that will do this inference for you. Your function takes in your previous model and the number of time steps `Ty` that you want to sample. It will return a keras model that would be able to generate sequences for you. Furthermore, the function takes in a dense layer of `78` units and the number of activations. \n",
    "!--> \n",
    "\n",
    "\n",
    "**Exercise:** Implement the function below to sample a sequence of musical values. Here are some of the key steps you'll need to implement inside the for-loop that generates the $T_y$ output characters: \n",
    "\n",
    "Step 2.A: Use `LSTM_Cell`, which inputs the previous step's `c` and `a` to generate the current step's `c` and `a`. \n",
    "\n",
    "Step 2.B: Use `densor` (defined previously) to compute a softmax on `a` to get the output for the current step. \n",
    "\n",
    "Step 2.C: Save the output you have just generated by appending it to `outputs`.\n",
    "\n",
    "Step 2.D: Sample x to the be \"out\"'s one-hot version (the prediction) so that you can pass it to the next LSTM's step.  We have already provided this line of code, which uses a [Lambda](https://keras.io/layers/core/#lambda) function. \n",
    "```python\n",
    "x = Lambda(one_hot)(out) \n",
    "```\n",
    "[Minor technical note: Rather than sampling a value at random according to the probabilities in `out`, this line of code actually chooses the single most likely note at each step using an argmax.]\n"
   ]
  },
  {
   "cell_type": "code",
   "execution_count": 30,
   "metadata": {
    "collapsed": true
   },
   "outputs": [],
   "source": [
    "# GRADED FUNCTION: music_inference_model\n",
    "\n",
    "def music_inference_model(LSTM_cell, densor, n_values = 78, n_a = 64, Ty = 100):\n",
    "    \"\"\"\n",
    "    Uses the trained \"LSTM_cell\" and \"densor\" from model() to generate a sequence of values.\n",
    "    \n",
    "    Arguments:\n",
    "    LSTM_cell -- the trained \"LSTM_cell\" from model(), Keras layer object\n",
    "    densor -- the trained \"densor\" from model(), Keras layer object\n",
    "    n_values -- integer, umber of unique values\n",
    "    n_a -- number of units in the LSTM_cell\n",
    "    Ty -- integer, number of time steps to generate\n",
    "    \n",
    "    Returns:\n",
    "    inference_model -- Keras model instance\n",
    "    \"\"\"\n",
    "    \n",
    "    # Define the input of your model with a shape \n",
    "    x0 = Input(shape=(1, n_values))\n",
    "    \n",
    "    # Define s0, initial hidden state for the decoder LSTM\n",
    "    a0 = Input(shape=(n_a,), name='a0')\n",
    "    c0 = Input(shape=(n_a,), name='c0')\n",
    "    a = a0\n",
    "    c = c0\n",
    "    x = x0\n",
    "\n",
    "    ### START CODE HERE ###\n",
    "    # Step 1: Create an empty list of \"outputs\" to later store your predicted values (≈1 line)\n",
    "    outputs = []\n",
    "    \n",
    "    # Step 2: Loop over Ty and generate a value at every time step\n",
    "    for t in range(Ty):\n",
    "        \n",
    "        # Step 2.A: Perform one step of LSTM_cell (≈1 line)\n",
    "        a, _, c = LSTM_cell(x, initial_state=[a, c])\n",
    "        \n",
    "        # Step 2.B: Apply Dense layer to the hidden state output of the LSTM_cell (≈1 line)\n",
    "        out = densor(a)\n",
    "\n",
    "        # Step 2.C: Append the prediction \"out\" to \"outputs\". out.shape = (None, 78) (≈1 line)\n",
    "        outputs.append(out)\n",
    "        \n",
    "        # Step 2.D: Select the next value according to \"out\", and set \"x\" to be the one-hot representation of the\n",
    "        #           selected value, which will be passed as the input to LSTM_cell on the next step. We have provided \n",
    "        #           the line of code you need to do this. \n",
    "        x = Lambda(one_hot)(out)\n",
    "        \n",
    "    # Step 3: Create model instance with the correct \"inputs\" and \"outputs\" (≈1 line)\n",
    "    inference_model = Model(inputs = [x0, a0, c0], outputs = outputs)\n",
    "    \n",
    "    ### END CODE HERE ###\n",
    "    \n",
    "    return inference_model"
   ]
  },
  {
   "cell_type": "markdown",
   "metadata": {},
   "source": [
    "Run the cell below to define your inference model. This model is hard coded to generate 50 values."
   ]
  },
  {
   "cell_type": "code",
   "execution_count": 31,
   "metadata": {
    "collapsed": true
   },
   "outputs": [],
   "source": [
    "inference_model = music_inference_model(LSTM_cell, densor, n_values = 78, n_a = 64, Ty = 50)"
   ]
  },
  {
   "cell_type": "markdown",
   "metadata": {},
   "source": [
    "Finally, this creates the zero-valued vectors you will use to initialize `x` and the LSTM state variables `a` and `c`. "
   ]
  },
  {
   "cell_type": "code",
   "execution_count": 32,
   "metadata": {
    "collapsed": true
   },
   "outputs": [],
   "source": [
    "x_initializer = np.zeros((1, 1, 78))\n",
    "a_initializer = np.zeros((1, n_a))\n",
    "c_initializer = np.zeros((1, n_a))"
   ]
  },
  {
   "cell_type": "markdown",
   "metadata": {},
   "source": [
    "**Exercise**: Implement `predict_and_sample()`. This function takes many arguments including the inputs [x_initializer, a_initializer, c_initializer]. In order to predict the output corresponding to this input, you will need to carry-out 3 steps:\n",
    "1. Use your inference model to predict an output given your set of inputs. The output `pred` should be a list of length $T_y$ where each element is a numpy-array of shape (1, n_values).\n",
    "2. Convert `pred` into a numpy array of $T_y$ indices. Each index corresponds is computed by taking the `argmax` of an element of the `pred` list. [Hint](https://docs.scipy.org/doc/numpy/reference/generated/numpy.argmax.html).\n",
    "3. Convert the indices into their one-hot vector representations. [Hint](https://keras.io/utils/#to_categorical)."
   ]
  },
  {
   "cell_type": "code",
   "execution_count": 33,
   "metadata": {
    "collapsed": true
   },
   "outputs": [],
   "source": [
    "# GRADED FUNCTION: predict_and_sample\n",
    "\n",
    "def predict_and_sample(inference_model, x_initializer = x_initializer, a_initializer = a_initializer, \n",
    "                       c_initializer = c_initializer):\n",
    "    \"\"\"\n",
    "    Predicts the next value of values using the inference model.\n",
    "    \n",
    "    Arguments:\n",
    "    inference_model -- Keras model instance for inference time\n",
    "    x_initializer -- numpy array of shape (1, 1, 78), one-hot vector initializing the values generation\n",
    "    a_initializer -- numpy array of shape (1, n_a), initializing the hidden state of the LSTM_cell\n",
    "    c_initializer -- numpy array of shape (1, n_a), initializing the cell state of the LSTM_cel\n",
    "    \n",
    "    Returns:\n",
    "    results -- numpy-array of shape (Ty, 78), matrix of one-hot vectors representing the values generated\n",
    "    indices -- numpy-array of shape (Ty, 1), matrix of indices representing the values generated\n",
    "    \"\"\"\n",
    "    \n",
    "    ### START CODE HERE ###\n",
    "    # Step 1: Use your inference model to predict an output sequence given x_initializer, a_initializer and c_initializer.\n",
    "    pred = inference_model.predict([x_initializer, a_initializer, c_initializer])\n",
    "    # Step 2: Convert \"pred\" into an np.array() of indices with the maximum probabilities\n",
    "    indices = np.argmax(pred, axis = -1)\n",
    "    # Step 3: Convert indices to one-hot vectors, the shape of the results should be (1, )\n",
    "    results = to_categorical(indices, num_classes = 78)\n",
    "    ### END CODE HERE ###\n",
    "    \n",
    "    return results, indices"
   ]
  },
  {
   "cell_type": "code",
   "execution_count": 34,
   "metadata": {},
   "outputs": [
    {
     "name": "stdout",
     "output_type": "stream",
     "text": [
      "np.argmax(results[12]) = 59\n",
      "np.argmax(results[17]) = 40\n",
      "list(indices[12:18]) = [array([59]), array([40]), array([33]), array([46]), array([59]), array([40])]\n"
     ]
    }
   ],
   "source": [
    "results, indices = predict_and_sample(inference_model, x_initializer, a_initializer, c_initializer)\n",
    "print(\"np.argmax(results[12]) =\", np.argmax(results[12]))\n",
    "print(\"np.argmax(results[17]) =\", np.argmax(results[17]))\n",
    "print(\"list(indices[12:18]) =\", list(indices[12:18]))"
   ]
  },
  {
   "cell_type": "markdown",
   "metadata": {},
   "source": [
    "**Expected Output**: Your results may differ because Keras' results are not completely predictable. However, if you have trained your LSTM_cell with model.fit() for exactly 100 epochs as described above, you should very likely observe a sequence of indices that are not all identical. Moreover, you should observe that: np.argmax(results[12]) is the first element of list(indices[12:18]) and np.argmax(results[17]) is the last element of list(indices[12:18]). \n",
    "\n",
    "<table>\n",
    "    <tr>\n",
    "        <td>\n",
    "            **np.argmax(results[12])** =\n",
    "        </td>\n",
    "        <td>\n",
    "        1\n",
    "        </td>\n",
    "    </tr>\n",
    "    <tr>\n",
    "        <td>\n",
    "            **np.argmax(results[12])** =\n",
    "        </td>\n",
    "        <td>\n",
    "        42\n",
    "        </td>\n",
    "    </tr>\n",
    "    <tr>\n",
    "        <td>\n",
    "            **list(indices[12:18])** =\n",
    "        </td>\n",
    "        <td>\n",
    "            [array([1]), array([42]), array([54]), array([17]), array([1]), array([42])]\n",
    "        </td>\n",
    "    </tr>\n",
    "</table>"
   ]
  },
  {
   "cell_type": "markdown",
   "metadata": {},
   "source": [
    "#### 3.3 - Generate music \n",
    "\n",
    "Finally, you are ready to generate music. Your RNN generates a sequence of values. The following code generates music by first calling your `predict_and_sample()` function. These values are then post-processed into musical chords (meaning that multiple values or notes can be played at the same time). \n",
    "\n",
    "Most computational music algorithms use some post-processing because it is difficult to generate music that sounds good without such post-processing. The post-processing does things such as clean up the generated audio by making sure the same sound is not repeated too many times, that two successive notes are not too far from each other in pitch, and so on. One could argue that a lot of these post-processing steps are hacks; also, a lot the music generation literature has also focused on hand-crafting post-processors, and a lot of the output quality depends on the quality of the post-processing and not just the quality of the RNN. But this post-processing does make a huge difference, so lets use it in our implementation as well. \n",
    "\n",
    "Lets make some music! "
   ]
  },
  {
   "cell_type": "markdown",
   "metadata": {},
   "source": [
    "Run the following cell to generate music and record it into your `out_stream`. This can take a couple of minutes."
   ]
  },
  {
   "cell_type": "code",
   "execution_count": 35,
   "metadata": {
    "scrolled": false
   },
   "outputs": [
    {
     "name": "stdout",
     "output_type": "stream",
     "text": [
      "Predicting new values for different set of chords.\n",
      "Generated 51 sounds using the predicted values for the set of chords (\"1\") and after pruning\n",
      "Generated 51 sounds using the predicted values for the set of chords (\"2\") and after pruning\n",
      "Generated 51 sounds using the predicted values for the set of chords (\"3\") and after pruning\n",
      "Generated 51 sounds using the predicted values for the set of chords (\"4\") and after pruning\n",
      "Generated 51 sounds using the predicted values for the set of chords (\"5\") and after pruning\n",
      "Your generated music is saved in output/my_music.midi\n"
     ]
    }
   ],
   "source": [
    "out_stream = generate_music(inference_model)"
   ]
  },
  {
   "cell_type": "markdown",
   "metadata": {},
   "source": [
    "To listen to your music, click File->Open... Then go to \"output/\" and download \"my_music.midi\". Either play it on your computer with an application that can read midi files if you have one, or use one of the free online \"MIDI to mp3\" conversion tools to convert this to mp3.  \n",
    "\n",
    "As reference, here also is a 30sec audio clip we generated using this algorithm. "
   ]
  },
  {
   "cell_type": "code",
   "execution_count": null,
   "metadata": {
    "collapsed": true
   },
   "outputs": [],
   "source": [
    "IPython.display.Audio('./data/30s_trained_model.mp3')"
   ]
  },
  {
   "cell_type": "markdown",
   "metadata": {},
   "source": [
    "### Congratulations!\n",
    "\n",
    "You have come to the end of the notebook. \n",
    "\n",
    "<font color=\"blue\">\n",
    "Here's what you should remember:\n",
    "- A sequence model can be used to generate musical values, which are then post-processed into midi music. \n",
    "- Fairly similar models can be used to generate dinosaur names or to generate music, with the major difference being the input fed to the model.  \n",
    "- In Keras, sequence generation involves defining layers with shared weights, which are then repeated for the different time steps $1, \\ldots, T_x$. "
   ]
  },
  {
   "cell_type": "markdown",
   "metadata": {},
   "source": [
    "Congratulations on completing this assignment and generating a jazz solo! "
   ]
  },
  {
   "cell_type": "markdown",
   "metadata": {},
   "source": [
    "**References**\n",
    "\n",
    "The ideas presented in this notebook came primarily from three computational music papers cited below. The implementation here also took significant inspiration and used many components from Ji-Sung Kim's github repository.\n",
    "\n",
    "- Ji-Sung Kim, 2016, [deepjazz](https://github.com/jisungk/deepjazz)\n",
    "- Jon Gillick, Kevin Tang and Robert Keller, 2009. [Learning Jazz Grammars](http://ai.stanford.edu/~kdtang/papers/smc09-jazzgrammar.pdf)\n",
    "- Robert Keller and David Morrison, 2007, [A Grammatical Approach to Automatic Improvisation](http://smc07.uoa.gr/SMC07%20Proceedings/SMC07%20Paper%2055.pdf)\n",
    "- François Pachet, 1999, [Surprising Harmonies](http://citeseerx.ist.psu.edu/viewdoc/download?doi=10.1.1.5.7473&rep=rep1&type=pdf)\n",
    "\n",
    "We're also grateful to François Germain for valuable feedback."
   ]
  }
 ],
 "metadata": {
  "coursera": {
   "course_slug": "nlp-sequence-models",
   "graded_item_id": "EG0F7",
   "launcher_item_id": "cxJXc"
  },
  "kernelspec": {
   "display_name": "Python 3",
   "language": "python",
   "name": "python3"
  },
  "language_info": {
   "codemirror_mode": {
    "name": "ipython",
    "version": 3
   },
   "file_extension": ".py",
   "mimetype": "text/x-python",
   "name": "python",
   "nbconvert_exporter": "python",
   "pygments_lexer": "ipython3",
   "version": "3.6.2"
  }
 },
 "nbformat": 4,
 "nbformat_minor": 2
}
